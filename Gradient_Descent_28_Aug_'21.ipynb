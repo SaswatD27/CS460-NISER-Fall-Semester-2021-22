{
  "nbformat": 4,
  "nbformat_minor": 0,
  "metadata": {
    "colab": {
      "name": "Gradient Descent - 28 Aug '21.ipynb",
      "provenance": [],
      "authorship_tag": "ABX9TyO7NT+JY5VgZWh2n8jli7Xx",
      "include_colab_link": true
    },
    "kernelspec": {
      "name": "python3",
      "display_name": "Python 3"
    },
    "language_info": {
      "name": "python"
    }
  },
  "cells": [
    {
      "cell_type": "markdown",
      "metadata": {
        "id": "view-in-github",
        "colab_type": "text"
      },
      "source": [
        "<a href=\"https://colab.research.google.com/github/SaswatD27/CS460-NISER-Fall-Semester-2021-22/blob/main/Gradient_Descent_28_Aug_'21.ipynb\" target=\"_parent\"><img src=\"https://colab.research.google.com/assets/colab-badge.svg\" alt=\"Open In Colab\"/></a>"
      ]
    },
    {
      "cell_type": "markdown",
      "metadata": {
        "id": "H6psBmagGjTx"
      },
      "source": [
        "# **No Witty Titles: A Straightforward Study of Gradient Descent Algorithms in the Context of Linear Descent (feat. scikit-learn)**"
      ]
    },
    {
      "cell_type": "markdown",
      "metadata": {
        "id": "hK5OymQtG39i"
      },
      "source": [
        "## Bootstrapping: Generating a Dataset with a Linear Trend\n",
        "Using numpy, plus matplotlib for visualisation."
      ]
    },
    {
      "cell_type": "code",
      "metadata": {
        "colab": {
          "base_uri": "https://localhost:8080/",
          "height": 281
        },
        "id": "9Wn_-2ZSFVK0",
        "outputId": "5502f4ee-9109-4389-db05-bbe46f91967a"
      },
      "source": [
        "import numpy as np\n",
        "from matplotlib import pyplot as plt\n",
        "n=100\n",
        "m=np.random.uniform(-1,1)\n",
        "#print(m)\n",
        "x=np.random.uniform(-5,5,n)\n",
        "#print(x)\n",
        "c=np.random.uniform(-1,1,n)\n",
        "#print(c)\n",
        "y=m*x+c\n",
        "#print(y)\n",
        "plt.scatter(x,y)\n",
        "plt.xlabel(\"x-axis\")\n",
        "plt.ylabel(\"y-axis\")\n",
        "plt.show()"
      ],
      "execution_count": 1,
      "outputs": [
        {
          "output_type": "display_data",
          "data": {
            "image/png": "[encoded data removed]",
            "text/plain": [
              "<Figure size 432x288 with 1 Axes>"
            ]
          },
          "metadata": {
            "needs_background": "light"
          }
        }
      ]
    },
    {
      "cell_type": "markdown",
      "metadata": {
        "id": "Vzy3sfCXHX0m"
      },
      "source": [
        "## Linear Regression using scikit-learn"
      ]
    },
    {
      "cell_type": "code",
      "metadata": {
        "colab": {
          "base_uri": "https://localhost:8080/"
        },
        "id": "_o26NkYrHfdI",
        "outputId": "cbf7953a-23f7-47b2-9262-8071c2c87026"
      },
      "source": [
        "from sklearn.linear_model import LinearRegression\n",
        "x1=x.reshape(-1,1)\n",
        "line=LinearRegression().fit(x1,y)\n",
        "print(line)\n",
        "print(line.score(x1,y))"
      ],
      "execution_count": 2,
      "outputs": [
        {
          "output_type": "stream",
          "text": [
            "LinearRegression(copy_X=True, fit_intercept=True, n_jobs=None, normalize=False)\n",
            "0.9621478408595598\n"
          ],
          "name": "stdout"
        }
      ]
    },
    {
      "cell_type": "code",
      "metadata": {
        "colab": {
          "base_uri": "https://localhost:8080/",
          "height": 284
        },
        "id": "NNouJ8vfHohK",
        "outputId": "103515af-8aeb-47a7-b50f-b1626c72538f"
      },
      "source": [
        "plt.plot(x,line.predict(x1))\n",
        "plt.scatter(x,y)\n",
        "plt.show()"
      ],
      "execution_count": 4,
      "outputs": [
        {
          "output_type": "display_data",
          "data": {
            "image/png": "[encoded data removed]",
            "text/plain": [
              "<Figure size 432x288 with 1 Axes>"
            ]
          },
          "metadata": {
            "needs_background": "light"
          }
        },
        {
          "output_type": "stream",
          "text": [
            "4.836983206177466\n"
          ],
          "name": "stdout"
        }
      ]
    },
    {
      "cell_type": "markdown",
      "metadata": {
        "id": "5Lh-V2TtHt0p"
      },
      "source": [
        "## 1. Batch Gradient Descent\n",
        "### Loss Function\n",
        "\n",
        "$$J((w,b))=\\frac 1N\\sum_{i=1}^N(y_p-y_i)^2=\\frac 1N\\sum_{i=1}^N((wx_i+b)-y_i)^2;\\\\ N=\\text{Batch Size / No. of Data Points.}$$\n",
        "\n",
        "### Updation\n",
        "$$w:=w-\\alpha\\Delta w;\\;\\Delta w=\\frac{\\partial J}{\\partial w}=\\frac 2 N\\sum_{i=1}^Nx_i(y_p-y_i);\\\\\n",
        "b:=b-\\alpha\\Delta b;\\;\\Delta b=\\frac{\\partial J}{\\partial b}=\\frac 2 N\\sum_{i=1}^N(y_p-y_i).$$"
      ]
    },
    {
      "cell_type": "code",
      "metadata": {
        "colab": {
          "base_uri": "https://localhost:8080/",
          "height": 348
        },
        "id": "p5nFpX_SHtiR",
        "outputId": "a5da4f97-ab7e-49dd-c347-685df7b665f5"
      },
      "source": [
        "#Batch Gradient Descent\n",
        "w=10 \n",
        "b=2\n",
        "alpha=0.01\n",
        "flag=0\n",
        "delw=0\n",
        "delb=0\n",
        "n_iter=0\n",
        "while flag!=1:\n",
        "  \"\"\"\n",
        "  for i in range(n):\n",
        "    delw+=x[i]*((w*x[i]+b)-y[i])\n",
        "    delb+=((w*x[i]+b)-y[i])\n",
        "  delw*=(2/n)\n",
        "  delb*=(2/n)\n",
        "  \"\"\"\n",
        "  delw=(2/n)*np.sum(x*((w*x+b)-y))\n",
        "  delb=(2/n)*np.sum((w*x+b)-y)\n",
        "  w-=alpha*delw\n",
        "  b-=alpha*delb\n",
        "  if abs(delw)<0.0001 and abs(delb)<0.00001:\n",
        "    flag=1\n",
        "  n_iter+=1\n",
        "print(w,b,'\\n','No. of iterations =',n_iter)\n",
        "x_plt=np.array([min(x)-0.1,max(x)+0.1])\n",
        "y_plt1=w*x_plt+b\n",
        "plt.plot(x_plt,y_plt1,c='k')\n",
        "plt.scatter(x,y)\n",
        "plt.xlabel(\"x-axis\")\n",
        "plt.ylabel(\"y-axis\")\n",
        "plt.show()\n",
        "print(\"MSE in Weights, del w=\",delw,'\\n',\"MSE in Bias, del b=\",delb)"
      ],
      "execution_count": 58,
      "outputs": [
        {
          "output_type": "stream",
          "text": [
            "-0.9644087008183597 0.059734820784466874 \n",
            " No. of iterations = 642\n"
          ],
          "name": "stdout"
        },
        {
          "output_type": "display_data",
          "data": {
            "image/png": "[encoded data removed]",
            "text/plain": [
              "<Figure size 432x288 with 1 Axes>"
            ]
          },
          "metadata": {
            "needs_background": "light"
          }
        },
        {
          "output_type": "stream",
          "text": [
            "MSE in Weights, del w= 1.1948170063891262e-07 \n",
            " MSE in Bias, del b= 9.991984499229111e-06\n"
          ],
          "name": "stdout"
        }
      ]
    },
    {
      "cell_type": "markdown",
      "metadata": {
        "id": "g2uE7Q7v5zqA"
      },
      "source": [
        "## 2. Minibatch Gradient Descent\n",
        "### Loss Function\n",
        "$$J(w,b)=\\frac{1}{N_\\text{Minibatch}}\\sum_{i=1}^{N_\\text{Minibatch}}((wx_i+b)-y_i)^2;\\\\ N=\\text{Minibatch Size / No. of Data Points in a minibatch.}$$\n",
        "###Updation\n",
        "$$w:=w-\\alpha\\Delta w;\\;\\Delta w=\\frac{\\partial J}{\\partial w}=\\frac 2 {N_\\text{Minibatch}}\\sum_{i=1}^{N_\\text{Minibatch}}x_i(y_p-y_i);\\\\\n",
        "b:=b-\\alpha\\Delta b;\\;\\Delta b=\\frac{\\partial J}{\\partial b}=\\frac 2 {N_\\text{Minibatch}}\\sum_{i=1}^{N_\\text{Minibatch}}(y_p-y_i).$$"
      ]
    },
    {
      "cell_type": "code",
      "metadata": {
        "colab": {
          "base_uri": "https://localhost:8080/",
          "height": 348
        },
        "id": "KaL7CxCt74fI",
        "outputId": "dbdc0ea0-02a7-44aa-f1bb-8f08e4e2bdb5"
      },
      "source": [
        "#Minibatch Gradient Descent\n",
        "w=10 \n",
        "b=2\n",
        "alpha=0.01\n",
        "flag=0\n",
        "delw=0\n",
        "delb=0\n",
        "n_iter=i=0\n",
        "inc=n//10 #thus chosen here as n=100 but might generalise this line\n",
        "while flag!=1:\n",
        "  \"\"\"\n",
        "  for i in range(n):\n",
        "    delw+=x[i]*((w*x[i]+b)-y[i])\n",
        "    delb+=((w*x[i]+b)-y[i])\n",
        "  delw*=(2/n)\n",
        "  delb*=(2/n)\n",
        "  \"\"\"\n",
        "  delw=(2/n)*np.sum(x[i:i+inc]*((w*x[i:i+inc]+b)-y[i:i+inc]))\n",
        "  delb=(2/n)*np.sum((w*x[i:i+inc]+b)-y[i:i+inc])\n",
        "  w-=alpha*delw\n",
        "  b-=alpha*delb\n",
        "  #print(delw,delb)\n",
        "  if abs(delw)<0.0001 and abs(delb)<0.00001:\n",
        "    flag=1\n",
        "  n_iter+=1\n",
        "print(w,b,'\\n','No. of iterations =',n_iter)\n",
        "x_plt=np.array([min(x)-0.1,max(x)+0.1])\n",
        "y_plt2=w*x_plt+b\n",
        "plt.plot(x_plt,y_plt2,c='k')\n",
        "plt.scatter(x,y)\n",
        "plt.xlabel(\"x-axis\")\n",
        "plt.ylabel(\"y-axis\")\n",
        "plt.show()\n",
        "print(\"MSE in Weights, del w=\",delw,'\\n',\"MSE in Bias, del b=\",delb)"
      ],
      "execution_count": 59,
      "outputs": [
        {
          "output_type": "stream",
          "text": [
            "-1.0584584466163744 -0.3899690300981997 \n",
            " No. of iterations = 5908\n"
          ],
          "name": "stdout"
        },
        {
          "output_type": "display_data",
          "data": {
            "image/png": "[encoded data removed]",
            "text/plain": [
              "<Figure size 432x288 with 1 Axes>"
            ]
          },
          "metadata": {
            "needs_background": "light"
          }
        },
        {
          "output_type": "stream",
          "text": [
            "MSE in Weights, del w= 8.087276042223479e-07 \n",
            " MSE in Bias, del b= 9.999281267201177e-06\n"
          ],
          "name": "stdout"
        }
      ]
    },
    {
      "cell_type": "markdown",
      "metadata": {
        "id": "RdOi82RE_EtD"
      },
      "source": [
        "## 3. Stochastic Gradient Descent\n",
        "### Loss Function\n",
        "For each data point,\n",
        "$$J(w,b)=((wx+b)-y)^2;$$\n",
        "###Updation\n",
        "$$w:=w-\\alpha\\Delta w;\\;\\Delta w=\\frac{\\partial J}{\\partial w}=2\\times x(y_p-y);\\\\\n",
        "b:=b-\\alpha\\Delta b;\\;\\Delta b=\\frac{\\partial J}{\\partial b}=2\\times(y_p-y).$$"
      ]
    },
    {
      "cell_type": "code",
      "metadata": {
        "colab": {
          "base_uri": "https://localhost:8080/",
          "height": 314
        },
        "id": "cQzJTEmYAA05",
        "outputId": "b441f708-9d1b-48cd-be20-20c54608f238"
      },
      "source": [
        "#Stochastic Gradient Descent\n",
        "w=10 \n",
        "b=2\n",
        "alpha=0.01\n",
        "flag=0\n",
        "delw=0\n",
        "delb=0\n",
        "n_iter=i=0\n",
        "inc=n//10 #thus chosen here as n=100 but might generalise this line\n",
        "while flag!=1:\n",
        "  \"\"\"\n",
        "  for i in range(n):\n",
        "    delw+=x[i]*((w*x[i]+b)-y[i])\n",
        "    delb+=((w*x[i]+b)-y[i])\n",
        "  delw*=(2/n)\n",
        "  delb*=(2/n)\n",
        "  \"\"\"\n",
        "  delw=2*(x[i]*((w*x[i]+b)-y[i]))\n",
        "  delb=2*((w*x[i]+b)-y[i])\n",
        "  w-=alpha*delw\n",
        "  b-=alpha*delb\n",
        "  #print(delw,delb)\n",
        "  if abs(delw)<0.0001 and abs(delb)<0.00001 and n_iter>n:\n",
        "    flag=1\n",
        "  n_iter+=1\n",
        "print(w,b,'\\n','No. of iterations =',n_iter)\n",
        "x_plt=np.array([min(x)-0.1,max(x)+0.1])\n",
        "y_plt3=w*x_plt+b\n",
        "plt.plot(x_plt,y_plt3,c='k')\n",
        "plt.scatter(x,y)\n",
        "plt.xlabel(\"x-axis\")\n",
        "plt.ylabel(\"y-axis\")\n",
        "plt.show()\n",
        "#print(\"MSE in Weights, del w=\",delw,'\\n',\"MSE in Bias, del b=\",delb)"
      ],
      "execution_count": 64,
      "outputs": [
        {
          "output_type": "stream",
          "text": [
            "-1.1042795705452575 -0.2957035609227721 \n",
            " No. of iterations = 102\n"
          ],
          "name": "stdout"
        },
        {
          "output_type": "display_data",
          "data": {
            "image/png": "[encoded data removed]",
            "text/plain": [
              "<Figure size 432x288 with 1 Axes>"
            ]
          },
          "metadata": {
            "needs_background": "light"
          }
        }
      ]
    },
    {
      "cell_type": "markdown",
      "metadata": {
        "id": "8CJbQ-qyBsX2"
      },
      "source": [
        "##Some Observations\n",
        "* Batch Gradient Descent gave the best accuracy possible (i.e. least MSE in terms of weights and biases), and produced similar results as produced by scikit-learn's Linear Regression;\n",
        "* Stochastic Gradient Descent worked really fast to converge (or get close to) the minimum of the loss function, (note: SGD was forced to complete at least one epoch before being allowed to terminate);\n",
        "* Minibatch Gradient Descent took an large number of iterations in comparison to SGD and Batch GD to terminate and the quality of the results was not near that of Batch GD.\n",
        "\n",
        "(**Note:** These observations were made after repeated runs of each algorithm and my code/implementations might not be the best way of going about it, so take this with a grain of salt.)"
      ]
    }
  ]
}