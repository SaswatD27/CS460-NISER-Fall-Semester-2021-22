{
  "nbformat": 4,
  "nbformat_minor": 0,
  "metadata": {
    "colab": {
      "name": "MyPerceptrons.ipynb",
      "provenance": [],
      "authorship_tag": "ABX9TyN0teC0ZjrnNGXaNeCRh14s",
      "include_colab_link": true
    },
    "kernelspec": {
      "name": "python3",
      "display_name": "Python 3"
    },
    "language_info": {
      "name": "python"
    }
  },
  "cells": [
    {
      "cell_type": "markdown",
      "metadata": {
        "id": "view-in-github",
        "colab_type": "text"
      },
      "source": [
        "<a href=\"https://colab.research.google.com/github/SaswatD27/CS460-NISER-Fall-Semester-2021-22/blob/main/MyPerceptrons.ipynb\" target=\"_parent\"><img src=\"https://colab.research.google.com/assets/colab-badge.svg\" alt=\"Open In Colab\"/></a>"
      ]
    },
    {
      "cell_type": "markdown",
      "metadata": {
        "id": "SlKahsOMd6NP"
      },
      "source": [
        "#**Me and My Three Brain Cells : Perceptrons!**"
      ]
    },
    {
      "cell_type": "code",
      "metadata": {
        "id": "3mWuGR4fvOkX"
      },
      "source": [
        "import numpy as np\n",
        "from matplotlib import pyplot as plt\n",
        "from sklearn.model_selection import train_test_split"
      ],
      "execution_count": 3,
      "outputs": []
    },
    {
      "cell_type": "code",
      "metadata": {
        "colab": {
          "base_uri": "https://localhost:8080/"
        },
        "id": "mlH8PuVf1tpL",
        "outputId": "7e23b33d-5666-4a5f-a173-42b12401fd80"
      },
      "source": [
        "db=np.genfromtxt('Iris1.csv',delimiter=',')#Checking whether a given flower is of the Iris Setosa species or not\n",
        "db=db[1:]\n",
        "print(db)"
      ],
      "execution_count": 5,
      "outputs": [
        {
          "output_type": "stream",
          "name": "stdout",
          "text": [
            "[[ 1.00e+00  5.10e+00  3.50e+00  1.40e+00  2.00e-01  1.00e+00]\n",
            " [ 2.00e+00  4.90e+00  3.00e+00  1.40e+00  2.00e-01  1.00e+00]\n",
            " [ 3.00e+00  4.70e+00  3.20e+00  1.30e+00  2.00e-01  1.00e+00]\n",
            " [ 4.00e+00  4.60e+00  3.10e+00  1.50e+00  2.00e-01  1.00e+00]\n",
            " [ 5.00e+00  5.00e+00  3.60e+00  1.40e+00  2.00e-01  1.00e+00]\n",
            " [ 6.00e+00  5.40e+00  3.90e+00  1.70e+00  4.00e-01  1.00e+00]\n",
            " [ 7.00e+00  4.60e+00  3.40e+00  1.40e+00  3.00e-01  1.00e+00]\n",
            " [ 8.00e+00  5.00e+00  3.40e+00  1.50e+00  2.00e-01  1.00e+00]\n",
            " [ 9.00e+00  4.40e+00  2.90e+00  1.40e+00  2.00e-01  1.00e+00]\n",
            " [ 1.00e+01  4.90e+00  3.10e+00  1.50e+00  1.00e-01  1.00e+00]\n",
            " [ 1.10e+01  5.40e+00  3.70e+00  1.50e+00  2.00e-01  1.00e+00]\n",
            " [ 1.20e+01  4.80e+00  3.40e+00  1.60e+00  2.00e-01  1.00e+00]\n",
            " [ 1.30e+01  4.80e+00  3.00e+00  1.40e+00  1.00e-01  1.00e+00]\n",
            " [ 1.40e+01  4.30e+00  3.00e+00  1.10e+00  1.00e-01  1.00e+00]\n",
            " [ 1.50e+01  5.80e+00  4.00e+00  1.20e+00  2.00e-01  1.00e+00]\n",
            " [ 1.60e+01  5.70e+00  4.40e+00  1.50e+00  4.00e-01  1.00e+00]\n",
            " [ 1.70e+01  5.40e+00  3.90e+00  1.30e+00  4.00e-01  1.00e+00]\n",
            " [ 1.80e+01  5.10e+00  3.50e+00  1.40e+00  3.00e-01  1.00e+00]\n",
            " [ 1.90e+01  5.70e+00  3.80e+00  1.70e+00  3.00e-01  1.00e+00]\n",
            " [ 2.00e+01  5.10e+00  3.80e+00  1.50e+00  3.00e-01  1.00e+00]\n",
            " [ 2.10e+01  5.40e+00  3.40e+00  1.70e+00  2.00e-01  1.00e+00]\n",
            " [ 2.20e+01  5.10e+00  3.70e+00  1.50e+00  4.00e-01  1.00e+00]\n",
            " [ 2.30e+01  4.60e+00  3.60e+00  1.00e+00  2.00e-01  1.00e+00]\n",
            " [ 2.40e+01  5.10e+00  3.30e+00  1.70e+00  5.00e-01  1.00e+00]\n",
            " [ 2.50e+01  4.80e+00  3.40e+00  1.90e+00  2.00e-01  1.00e+00]\n",
            " [ 2.60e+01  5.00e+00  3.00e+00  1.60e+00  2.00e-01  1.00e+00]\n",
            " [ 2.70e+01  5.00e+00  3.40e+00  1.60e+00  4.00e-01  1.00e+00]\n",
            " [ 2.80e+01  5.20e+00  3.50e+00  1.50e+00  2.00e-01  1.00e+00]\n",
            " [ 2.90e+01  5.20e+00  3.40e+00  1.40e+00  2.00e-01  1.00e+00]\n",
            " [ 3.00e+01  4.70e+00  3.20e+00  1.60e+00  2.00e-01  1.00e+00]\n",
            " [ 3.10e+01  4.80e+00  3.10e+00  1.60e+00  2.00e-01  1.00e+00]\n",
            " [ 3.20e+01  5.40e+00  3.40e+00  1.50e+00  4.00e-01  1.00e+00]\n",
            " [ 3.30e+01  5.20e+00  4.10e+00  1.50e+00  1.00e-01  1.00e+00]\n",
            " [ 3.40e+01  5.50e+00  4.20e+00  1.40e+00  2.00e-01  1.00e+00]\n",
            " [ 3.50e+01  4.90e+00  3.10e+00  1.50e+00  1.00e-01  1.00e+00]\n",
            " [ 3.60e+01  5.00e+00  3.20e+00  1.20e+00  2.00e-01  1.00e+00]\n",
            " [ 3.70e+01  5.50e+00  3.50e+00  1.30e+00  2.00e-01  1.00e+00]\n",
            " [ 3.80e+01  4.90e+00  3.10e+00  1.50e+00  1.00e-01  1.00e+00]\n",
            " [ 3.90e+01  4.40e+00  3.00e+00  1.30e+00  2.00e-01  1.00e+00]\n",
            " [ 4.00e+01  5.10e+00  3.40e+00  1.50e+00  2.00e-01  1.00e+00]\n",
            " [ 4.10e+01  5.00e+00  3.50e+00  1.30e+00  3.00e-01  1.00e+00]\n",
            " [ 4.20e+01  4.50e+00  2.30e+00  1.30e+00  3.00e-01  1.00e+00]\n",
            " [ 4.30e+01  4.40e+00  3.20e+00  1.30e+00  2.00e-01  1.00e+00]\n",
            " [ 4.40e+01  5.00e+00  3.50e+00  1.60e+00  6.00e-01  1.00e+00]\n",
            " [ 4.50e+01  5.10e+00  3.80e+00  1.90e+00  4.00e-01  1.00e+00]\n",
            " [ 4.60e+01  4.80e+00  3.00e+00  1.40e+00  3.00e-01  1.00e+00]\n",
            " [ 4.70e+01  5.10e+00  3.80e+00  1.60e+00  2.00e-01  1.00e+00]\n",
            " [ 4.80e+01  4.60e+00  3.20e+00  1.40e+00  2.00e-01  1.00e+00]\n",
            " [ 4.90e+01  5.30e+00  3.70e+00  1.50e+00  2.00e-01  1.00e+00]\n",
            " [ 5.00e+01  5.00e+00  3.30e+00  1.40e+00  2.00e-01  1.00e+00]\n",
            " [ 5.10e+01  7.00e+00  3.20e+00  4.70e+00  1.40e+00 -1.00e+00]\n",
            " [ 5.20e+01  6.40e+00  3.20e+00  4.50e+00  1.50e+00 -1.00e+00]\n",
            " [ 5.30e+01  6.90e+00  3.10e+00  4.90e+00  1.50e+00 -1.00e+00]\n",
            " [ 5.40e+01  5.50e+00  2.30e+00  4.00e+00  1.30e+00 -1.00e+00]\n",
            " [ 5.50e+01  6.50e+00  2.80e+00  4.60e+00  1.50e+00 -1.00e+00]\n",
            " [ 5.60e+01  5.70e+00  2.80e+00  4.50e+00  1.30e+00 -1.00e+00]\n",
            " [ 5.70e+01  6.30e+00  3.30e+00  4.70e+00  1.60e+00 -1.00e+00]\n",
            " [ 5.80e+01  4.90e+00  2.40e+00  3.30e+00  1.00e+00 -1.00e+00]\n",
            " [ 5.90e+01  6.60e+00  2.90e+00  4.60e+00  1.30e+00 -1.00e+00]\n",
            " [ 6.00e+01  5.20e+00  2.70e+00  3.90e+00  1.40e+00 -1.00e+00]\n",
            " [ 6.10e+01  5.00e+00  2.00e+00  3.50e+00  1.00e+00 -1.00e+00]\n",
            " [ 6.20e+01  5.90e+00  3.00e+00  4.20e+00  1.50e+00 -1.00e+00]\n",
            " [ 6.30e+01  6.00e+00  2.20e+00  4.00e+00  1.00e+00 -1.00e+00]\n",
            " [ 6.40e+01  6.10e+00  2.90e+00  4.70e+00  1.40e+00 -1.00e+00]\n",
            " [ 6.50e+01  5.60e+00  2.90e+00  3.60e+00  1.30e+00 -1.00e+00]\n",
            " [ 6.60e+01  6.70e+00  3.10e+00  4.40e+00  1.40e+00 -1.00e+00]\n",
            " [ 6.70e+01  5.60e+00  3.00e+00  4.50e+00  1.50e+00 -1.00e+00]\n",
            " [ 6.80e+01  5.80e+00  2.70e+00  4.10e+00  1.00e+00 -1.00e+00]\n",
            " [ 6.90e+01  6.20e+00  2.20e+00  4.50e+00  1.50e+00 -1.00e+00]\n",
            " [ 7.00e+01  5.60e+00  2.50e+00  3.90e+00  1.10e+00 -1.00e+00]\n",
            " [ 7.10e+01  5.90e+00  3.20e+00  4.80e+00  1.80e+00 -1.00e+00]\n",
            " [ 7.20e+01  6.10e+00  2.80e+00  4.00e+00  1.30e+00 -1.00e+00]\n",
            " [ 7.30e+01  6.30e+00  2.50e+00  4.90e+00  1.50e+00 -1.00e+00]\n",
            " [ 7.40e+01  6.10e+00  2.80e+00  4.70e+00  1.20e+00 -1.00e+00]\n",
            " [ 7.50e+01  6.40e+00  2.90e+00  4.30e+00  1.30e+00 -1.00e+00]\n",
            " [ 7.60e+01  6.60e+00  3.00e+00  4.40e+00  1.40e+00 -1.00e+00]\n",
            " [ 7.70e+01  6.80e+00  2.80e+00  4.80e+00  1.40e+00 -1.00e+00]\n",
            " [ 7.80e+01  6.70e+00  3.00e+00  5.00e+00  1.70e+00 -1.00e+00]\n",
            " [ 7.90e+01  6.00e+00  2.90e+00  4.50e+00  1.50e+00 -1.00e+00]\n",
            " [ 8.00e+01  5.70e+00  2.60e+00  3.50e+00  1.00e+00 -1.00e+00]\n",
            " [ 8.10e+01  5.50e+00  2.40e+00  3.80e+00  1.10e+00 -1.00e+00]\n",
            " [ 8.20e+01  5.50e+00  2.40e+00  3.70e+00  1.00e+00 -1.00e+00]\n",
            " [ 8.30e+01  5.80e+00  2.70e+00  3.90e+00  1.20e+00 -1.00e+00]\n",
            " [ 8.40e+01  6.00e+00  2.70e+00  5.10e+00  1.60e+00 -1.00e+00]\n",
            " [ 8.50e+01  5.40e+00  3.00e+00  4.50e+00  1.50e+00 -1.00e+00]\n",
            " [ 8.60e+01  6.00e+00  3.40e+00  4.50e+00  1.60e+00 -1.00e+00]\n",
            " [ 8.70e+01  6.70e+00  3.10e+00  4.70e+00  1.50e+00 -1.00e+00]\n",
            " [ 8.80e+01  6.30e+00  2.30e+00  4.40e+00  1.30e+00 -1.00e+00]\n",
            " [ 8.90e+01  5.60e+00  3.00e+00  4.10e+00  1.30e+00 -1.00e+00]\n",
            " [ 9.00e+01  5.50e+00  2.50e+00  4.00e+00  1.30e+00 -1.00e+00]\n",
            " [ 9.10e+01  5.50e+00  2.60e+00  4.40e+00  1.20e+00 -1.00e+00]\n",
            " [ 9.20e+01  6.10e+00  3.00e+00  4.60e+00  1.40e+00 -1.00e+00]\n",
            " [ 9.30e+01  5.80e+00  2.60e+00  4.00e+00  1.20e+00 -1.00e+00]\n",
            " [ 9.40e+01  5.00e+00  2.30e+00  3.30e+00  1.00e+00 -1.00e+00]\n",
            " [ 9.50e+01  5.60e+00  2.70e+00  4.20e+00  1.30e+00 -1.00e+00]\n",
            " [ 9.60e+01  5.70e+00  3.00e+00  4.20e+00  1.20e+00 -1.00e+00]\n",
            " [ 9.70e+01  5.70e+00  2.90e+00  4.20e+00  1.30e+00 -1.00e+00]\n",
            " [ 9.80e+01  6.20e+00  2.90e+00  4.30e+00  1.30e+00 -1.00e+00]\n",
            " [ 9.90e+01  5.10e+00  2.50e+00  3.00e+00  1.10e+00 -1.00e+00]\n",
            " [ 1.00e+02  5.70e+00  2.80e+00  4.10e+00  1.30e+00 -1.00e+00]\n",
            " [ 1.01e+02  6.30e+00  3.30e+00  6.00e+00  2.50e+00 -1.00e+00]\n",
            " [ 1.02e+02  5.80e+00  2.70e+00  5.10e+00  1.90e+00 -1.00e+00]\n",
            " [ 1.03e+02  7.10e+00  3.00e+00  5.90e+00  2.10e+00 -1.00e+00]\n",
            " [ 1.04e+02  6.30e+00  2.90e+00  5.60e+00  1.80e+00 -1.00e+00]\n",
            " [ 1.05e+02  6.50e+00  3.00e+00  5.80e+00  2.20e+00 -1.00e+00]\n",
            " [ 1.06e+02  7.60e+00  3.00e+00  6.60e+00  2.10e+00 -1.00e+00]\n",
            " [ 1.07e+02  4.90e+00  2.50e+00  4.50e+00  1.70e+00 -1.00e+00]\n",
            " [ 1.08e+02  7.30e+00  2.90e+00  6.30e+00  1.80e+00 -1.00e+00]\n",
            " [ 1.09e+02  6.70e+00  2.50e+00  5.80e+00  1.80e+00 -1.00e+00]\n",
            " [ 1.10e+02  7.20e+00  3.60e+00  6.10e+00  2.50e+00 -1.00e+00]\n",
            " [ 1.11e+02  6.50e+00  3.20e+00  5.10e+00  2.00e+00 -1.00e+00]\n",
            " [ 1.12e+02  6.40e+00  2.70e+00  5.30e+00  1.90e+00 -1.00e+00]\n",
            " [ 1.13e+02  6.80e+00  3.00e+00  5.50e+00  2.10e+00 -1.00e+00]\n",
            " [ 1.14e+02  5.70e+00  2.50e+00  5.00e+00  2.00e+00 -1.00e+00]\n",
            " [ 1.15e+02  5.80e+00  2.80e+00  5.10e+00  2.40e+00 -1.00e+00]\n",
            " [ 1.16e+02  6.40e+00  3.20e+00  5.30e+00  2.30e+00 -1.00e+00]\n",
            " [ 1.17e+02  6.50e+00  3.00e+00  5.50e+00  1.80e+00 -1.00e+00]\n",
            " [ 1.18e+02  7.70e+00  3.80e+00  6.70e+00  2.20e+00 -1.00e+00]\n",
            " [ 1.19e+02  7.70e+00  2.60e+00  6.90e+00  2.30e+00 -1.00e+00]\n",
            " [ 1.20e+02  6.00e+00  2.20e+00  5.00e+00  1.50e+00 -1.00e+00]\n",
            " [ 1.21e+02  6.90e+00  3.20e+00  5.70e+00  2.30e+00 -1.00e+00]\n",
            " [ 1.22e+02  5.60e+00  2.80e+00  4.90e+00  2.00e+00 -1.00e+00]\n",
            " [ 1.23e+02  7.70e+00  2.80e+00  6.70e+00  2.00e+00 -1.00e+00]\n",
            " [ 1.24e+02  6.30e+00  2.70e+00  4.90e+00  1.80e+00 -1.00e+00]\n",
            " [ 1.25e+02  6.70e+00  3.30e+00  5.70e+00  2.10e+00 -1.00e+00]\n",
            " [ 1.26e+02  7.20e+00  3.20e+00  6.00e+00  1.80e+00 -1.00e+00]\n",
            " [ 1.27e+02  6.20e+00  2.80e+00  4.80e+00  1.80e+00 -1.00e+00]\n",
            " [ 1.28e+02  6.10e+00  3.00e+00  4.90e+00  1.80e+00 -1.00e+00]\n",
            " [ 1.29e+02  6.40e+00  2.80e+00  5.60e+00  2.10e+00 -1.00e+00]\n",
            " [ 1.30e+02  7.20e+00  3.00e+00  5.80e+00  1.60e+00 -1.00e+00]\n",
            " [ 1.31e+02  7.40e+00  2.80e+00  6.10e+00  1.90e+00 -1.00e+00]\n",
            " [ 1.32e+02  7.90e+00  3.80e+00  6.40e+00  2.00e+00 -1.00e+00]\n",
            " [ 1.33e+02  6.40e+00  2.80e+00  5.60e+00  2.20e+00 -1.00e+00]\n",
            " [ 1.34e+02  6.30e+00  2.80e+00  5.10e+00  1.50e+00 -1.00e+00]\n",
            " [ 1.35e+02  6.10e+00  2.60e+00  5.60e+00  1.40e+00 -1.00e+00]\n",
            " [ 1.36e+02  7.70e+00  3.00e+00  6.10e+00  2.30e+00 -1.00e+00]\n",
            " [ 1.37e+02  6.30e+00  3.40e+00  5.60e+00  2.40e+00 -1.00e+00]\n",
            " [ 1.38e+02  6.40e+00  3.10e+00  5.50e+00  1.80e+00 -1.00e+00]\n",
            " [ 1.39e+02  6.00e+00  3.00e+00  4.80e+00  1.80e+00 -1.00e+00]\n",
            " [ 1.40e+02  6.90e+00  3.10e+00  5.40e+00  2.10e+00 -1.00e+00]\n",
            " [ 1.41e+02  6.70e+00  3.10e+00  5.60e+00  2.40e+00 -1.00e+00]\n",
            " [ 1.42e+02  6.90e+00  3.10e+00  5.10e+00  2.30e+00 -1.00e+00]\n",
            " [ 1.43e+02  5.80e+00  2.70e+00  5.10e+00  1.90e+00 -1.00e+00]\n",
            " [ 1.44e+02  6.80e+00  3.20e+00  5.90e+00  2.30e+00 -1.00e+00]\n",
            " [ 1.45e+02  6.70e+00  3.30e+00  5.70e+00  2.50e+00 -1.00e+00]\n",
            " [ 1.46e+02  6.70e+00  3.00e+00  5.20e+00  2.30e+00 -1.00e+00]\n",
            " [ 1.47e+02  6.30e+00  2.50e+00  5.00e+00  1.90e+00 -1.00e+00]\n",
            " [ 1.48e+02  6.50e+00  3.00e+00  5.20e+00  2.00e+00 -1.00e+00]\n",
            " [ 1.49e+02  6.20e+00  3.40e+00  5.40e+00  2.30e+00 -1.00e+00]\n",
            " [ 1.50e+02  5.90e+00  3.00e+00  5.10e+00  1.80e+00 -1.00e+00]]\n"
          ]
        }
      ]
    },
    {
      "cell_type": "markdown",
      "metadata": {
        "id": "8SascV5VnC0o"
      },
      "source": [
        "##**1. Normal Vanilla Perceptron**\n",
        "###Training Algorithm"
      ]
    },
    {
      "cell_type": "code",
      "metadata": {
        "id": "cUAZtUF3vd61"
      },
      "source": [
        "def perc_train(db):\n",
        "  w=np.zeros(len(db[0])-1)\n",
        "  G=[]\n",
        "  a=0\n",
        "  flag=0\n",
        "  i=0\n",
        "  epoch=0\n",
        "  nu=0.2\n",
        "  while(flag!=1):\n",
        "    count=0\n",
        "    for x in db:\n",
        "      i+=1\n",
        "      #print(x,i)\n",
        "      a=np.dot(w,x[:-1])\n",
        "      #print(a)\n",
        "      if a*x[-1]<=0:\n",
        "        count+=1\n",
        "        w+=(nu*x[-1])*x[:-1]\n",
        "    epoch+=1\n",
        "    print(\"Epoch - \",epoch,\" done.\",\"\\n w =\",w)\n",
        "    G.append(w.copy())\n",
        "    #print(G)\n",
        "    if count==0:\n",
        "      flag=1\n",
        "  return [w,G]"
      ],
      "execution_count": 18,
      "outputs": []
    },
    {
      "cell_type": "markdown",
      "metadata": {
        "id": "YmGYpIp6nUmg"
      },
      "source": [
        "###Prediction and Testing Functions"
      ]
    },
    {
      "cell_type": "code",
      "metadata": {
        "id": "oiLzOzfUwIoO"
      },
      "source": [
        "def perc_pred(w,x):\n",
        "  #print(np.sign(np.dot(w,x)))\n",
        "  return np.sign(np.dot(w,x))\n",
        "def count_perc_acc(w,db):\n",
        "  count=0\n",
        "  for x in db:\n",
        "    if x[-1]==perc_pred(w,x[:-1]):\n",
        "      count+=1\n",
        "  return count/len(db)"
      ],
      "execution_count": 8,
      "outputs": []
    },
    {
      "cell_type": "markdown",
      "metadata": {
        "id": "JOpJwsP_Xs8a"
      },
      "source": [
        "###Splitting Dataset"
      ]
    },
    {
      "cell_type": "markdown",
      "metadata": {
        "id": "jNWwA3TanZoh"
      },
      "source": [
        "###Actual Training on the Dataset"
      ]
    },
    {
      "cell_type": "code",
      "metadata": {
        "id": "iC8c44oMaiIK"
      },
      "source": [
        "X=[x for x in db]\n",
        "y=[x[-1] for x in db]\n",
        "x_train, x_test, y_train, y_test = train_test_split(X, y, test_size=0.3)"
      ],
      "execution_count": 20,
      "outputs": []
    },
    {
      "cell_type": "code",
      "metadata": {
        "colab": {
          "base_uri": "https://localhost:8080/"
        },
        "id": "0TlPVbaS8KAK",
        "outputId": "aec0d635-ca58-44e1-c8d2-f7319cd5aeee"
      },
      "source": [
        "w1=perc_train(x_train)\n",
        "print(w1[0])"
      ],
      "execution_count": 21,
      "outputs": [
        {
          "output_type": "stream",
          "name": "stdout",
          "text": [
            "Epoch -  1  done. \n",
            " w = [-29.6   10.56   8.66  -0.04  -1.02]\n",
            "Epoch -  2  done. \n",
            " w = [-2.6  25.6  20.46  1.28 -1.64]\n",
            "Epoch -  3  done. \n",
            " w = [-4.2  32.34 26.08  0.2  -2.8 ]\n",
            "Epoch -  4  done. \n",
            " w = [-6.4  36.52 30.12 -0.78 -3.66]\n",
            "Epoch -  5  done. \n",
            " w = [-9.   42.62 35.5  -2.   -4.88]\n",
            "Epoch -  6  done. \n",
            " w = [-12.6   47.98  40.36  -2.86  -5.86]\n",
            "Epoch -  7  done. \n",
            " w = [-6.   53.82 45.26 -3.76 -6.76]\n",
            "Epoch -  8  done. \n",
            " w = [-13.6   57.44  48.42  -5.12  -7.92]\n",
            "Epoch -  9  done. \n",
            " w = [-12.    62.2   52.42  -5.52  -8.7 ]\n",
            "Epoch -  10  done. \n",
            " w = [-14.    65.28  55.94  -6.88  -9.66]\n",
            "Epoch -  11  done. \n",
            " w = [-14.8   67.88  58.66  -7.76 -10.42]\n",
            "Epoch -  12  done. \n",
            " w = [-10.2   69.7   61.04  -8.86 -11.08]\n",
            "Epoch -  13  done. \n",
            " w = [-10.4   72.66  64.06 -10.36 -12.08]\n",
            "Epoch -  14  done. \n",
            " w = [-10.6   75.62  67.08 -11.86 -13.08]\n",
            "Epoch -  15  done. \n",
            " w = [-10.8   78.58  70.1  -13.36 -14.08]\n",
            "Epoch -  16  done. \n",
            " w = [-11.    81.54  73.12 -14.86 -15.08]\n",
            "Epoch -  17  done. \n",
            " w = [-11.2   84.5   76.14 -16.36 -16.08]\n",
            "Epoch -  18  done. \n",
            " w = [-11.8   85.72  77.48 -17.14 -16.68]\n",
            "Epoch -  19  done. \n",
            " w = [-11.4   87.72  79.6  -18.32 -17.44]\n",
            "Epoch -  20  done. \n",
            " w = [-12.    88.94  80.94 -19.1  -18.04]\n",
            "Epoch -  21  done. \n",
            " w = [-12.6   90.16  82.28 -19.88 -18.64]\n",
            "Epoch -  22  done. \n",
            " w = [-13.2   91.38  83.62 -20.66 -19.24]\n",
            "Epoch -  23  done. \n",
            " w = [-11.2   92.72  85.38 -22.06 -19.96]\n",
            "Epoch -  24  done. \n",
            " w = [-11.4   93.4   87.16 -23.96 -20.76]\n",
            "Epoch -  25  done. \n",
            " w = [-13.    93.76  88.18 -24.82 -21.12]\n",
            "Epoch -  26  done. \n",
            " w = [-13.6   94.98  89.52 -25.6  -21.72]\n",
            "Epoch -  27  done. \n",
            " w = [-11.6   96.32  91.28 -27.   -22.44]\n",
            "Epoch -  28  done. \n",
            " w = [-13.4   98.3   93.48 -28.2  -23.28]\n",
            "Epoch -  29  done. \n",
            " w = [-14.4   99.26  94.7  -29.26 -23.86]\n",
            "Epoch -  30  done. \n",
            " w = [-13.4  101.3   96.88 -30.48 -24.72]\n",
            "Epoch -  31  done. \n",
            " w = [-14.   102.52  98.22 -31.26 -25.32]\n",
            "Epoch -  32  done. \n",
            " w = [-15.   103.48  99.44 -32.32 -25.9 ]\n",
            "Epoch -  33  done. \n",
            " w = [-14.   105.52 101.62 -33.54 -26.76]\n",
            "Epoch -  34  done. \n",
            " w = [-15.   106.48 102.84 -34.6  -27.34]\n",
            "Epoch -  35  done. \n",
            " w = [-13.6  106.74 103.62 -35.5  -27.78]\n",
            "Epoch -  36  done. \n",
            " w = [-14.6  107.7  104.84 -36.56 -28.36]\n",
            "Epoch -  37  done. \n",
            " w = [-15.6  108.66 106.06 -37.62 -28.94]\n",
            "Epoch -  38  done. \n",
            " w = [-14.2  108.92 106.84 -38.52 -29.38]\n",
            "Epoch -  39  done. \n",
            " w = [-15.2  109.88 108.06 -39.58 -29.96]\n",
            "Epoch -  40  done. \n",
            " w = [-13.8  110.14 108.84 -40.48 -30.4 ]\n",
            "Epoch -  41  done. \n",
            " w = [-13.4  110.34 109.36 -41.56 -30.84]\n",
            "Epoch -  42  done. \n",
            " w = [-16.   109.94 109.32 -42.2  -31.1 ]\n",
            "Epoch -  43  done. \n",
            " w = [-14.4  110.08 110.1  -43.14 -31.52]\n",
            "Epoch -  44  done. \n",
            " w = [-15.4  111.04 111.32 -44.2  -32.1 ]\n",
            "Epoch -  45  done. \n",
            " w = [-14.   111.3  112.1  -45.1  -32.54]\n",
            "Epoch -  46  done. \n",
            " w = [-13.6  111.5  112.62 -46.18 -32.98]\n",
            "Epoch -  47  done. \n",
            " w = [-16.2  111.1  112.58 -46.82 -33.24]\n",
            "Epoch -  48  done. \n",
            " w = [-14.6  111.24 113.36 -47.76 -33.66]\n",
            "Epoch -  49  done. \n",
            " w = [-13.2  111.5  114.14 -48.66 -34.1 ]\n",
            "Epoch -  50  done. \n",
            " w = [-15.8  111.1  114.1  -49.3  -34.36]\n",
            "Epoch -  51  done. \n",
            " w = [-14.2  111.24 114.88 -50.24 -34.78]\n",
            "Epoch -  52  done. \n",
            " w = [-15.2  112.2  116.1  -51.3  -35.36]\n",
            "Epoch -  53  done. \n",
            " w = [-13.8  112.46 116.88 -52.2  -35.8 ]\n",
            "Epoch -  54  done. \n",
            " w = [-16.4  112.06 116.84 -52.84 -36.06]\n",
            "Epoch -  55  done. \n",
            " w = [-14.8  112.2  117.62 -53.78 -36.48]\n",
            "Epoch -  56  done. \n",
            " w = [-13.4  112.46 118.4  -54.68 -36.92]\n",
            "Epoch -  57  done. \n",
            " w = [-16.   112.06 118.36 -55.32 -37.18]\n",
            "Epoch -  58  done. \n",
            " w = [-14.4  112.2  119.14 -56.26 -37.6 ]\n",
            "Epoch -  59  done. \n",
            " w = [-13.   112.46 119.92 -57.16 -38.04]\n",
            "Epoch -  60  done. \n",
            " w = [-15.6  112.06 119.88 -57.8  -38.3 ]\n",
            "Epoch -  61  done. \n",
            " w = [-14.   112.2  120.66 -58.74 -38.72]\n",
            "Epoch -  62  done. \n",
            " w = [-13.6  112.4  121.18 -59.82 -39.16]\n",
            "Epoch -  63  done. \n",
            " w = [-16.2  112.   121.14 -60.46 -39.42]\n",
            "Epoch -  64  done. \n",
            " w = [-14.6  112.14 121.92 -61.4  -39.84]\n",
            "Epoch -  65  done. \n",
            " w = [-13.2  112.4  122.7  -62.3  -40.28]\n",
            "Epoch -  66  done. \n",
            " w = [-15.8  112.   122.66 -62.94 -40.54]\n",
            "Epoch -  67  done. \n",
            " w = [-14.2  112.14 123.44 -63.88 -40.96]\n",
            "Epoch -  68  done. \n",
            " w = [-13.8  112.34 123.96 -64.96 -41.4 ]\n",
            "Epoch -  69  done. \n",
            " w = [-16.4  111.94 123.92 -65.6  -41.66]\n",
            "Epoch -  70  done. \n",
            " w = [-16.4  111.94 123.92 -65.6  -41.66]\n",
            "[-16.4  111.94 123.92 -65.6  -41.66]\n"
          ]
        }
      ]
    },
    {
      "cell_type": "markdown",
      "metadata": {
        "id": "H6iPVYianew7"
      },
      "source": [
        "###Testing the Accuracy of the Model\n",
        "(Will be 1 anyway given that the training algorithm terminated)"
      ]
    },
    {
      "cell_type": "code",
      "metadata": {
        "colab": {
          "base_uri": "https://localhost:8080/"
        },
        "id": "T-QjjFJGbLhE",
        "outputId": "1b341ecb-5165-4f00-c722-2f74492ab4a6"
      },
      "source": [
        "acc_van=count_perc_acc(w1[0],x_test)\n",
        "print(acc_van)"
      ],
      "execution_count": 22,
      "outputs": [
        {
          "output_type": "stream",
          "name": "stdout",
          "text": [
            "1.0\n"
          ]
        }
      ]
    },
    {
      "cell_type": "markdown",
      "metadata": {
        "id": "69o0EVCopXbT"
      },
      "source": [
        "### Accuracy vs Number of Epochs Elapsed\n"
      ]
    },
    {
      "cell_type": "code",
      "metadata": {
        "colab": {
          "base_uri": "https://localhost:8080/"
        },
        "id": "NLcKacy5qzCj",
        "outputId": "c79f1431-d38d-46ad-e26a-8cb548b363eb"
      },
      "source": [
        "G1=w1[1]\n",
        "#print(G)\n",
        "x=np.arange(len(G1))\n",
        "y=[count_perc_acc(G1[i],x_test) for i in range(len(G1))]\n",
        "print(y)"
      ],
      "execution_count": 34,
      "outputs": [
        {
          "output_type": "stream",
          "name": "stdout",
          "text": [
            "[0.6666666666666666, 0.8444444444444444, 0.9555555555555556, 0.9777777777777777, 0.8666666666666667, 0.8444444444444444, 0.8666666666666667, 0.8444444444444444, 0.9333333333333333, 0.8444444444444444, 0.8444444444444444, 1.0, 0.9777777777777777, 0.9777777777777777, 0.9555555555555556, 0.9555555555555556, 0.9555555555555556, 0.9777777777777777, 0.9555555555555556, 0.9555555555555556, 1.0, 1.0, 0.9555555555555556, 0.9555555555555556, 1.0, 1.0, 0.9555555555555556, 1.0, 1.0, 0.9777777777777777, 1.0, 1.0, 0.9777777777777777, 1.0, 0.9555555555555556, 1.0, 1.0, 0.9777777777777777, 1.0, 0.9555555555555556, 0.9555555555555556, 1.0, 1.0, 1.0, 0.9777777777777777, 0.9555555555555556, 1.0, 1.0, 0.9555555555555556, 1.0, 1.0, 1.0, 0.9777777777777777, 1.0, 1.0, 0.9777777777777777, 1.0, 1.0, 0.9555555555555556, 1.0, 1.0, 1.0, 1.0, 1.0, 0.9777777777777777, 1.0, 1.0, 1.0, 1.0, 1.0]\n"
          ]
        }
      ]
    },
    {
      "cell_type": "code",
      "metadata": {
        "colab": {
          "base_uri": "https://localhost:8080/",
          "height": 279
        },
        "id": "F5H4Anms7YLD",
        "outputId": "dd3b0d36-77c4-498e-c9f8-11e0d69619d6"
      },
      "source": [
        "plt.plot(x,y)\n",
        "plt.xlabel(\"Epoch\")\n",
        "plt.ylabel(\"Accuracy Achieved (in %)\")\n",
        "plt.show()\n"
      ],
      "execution_count": 35,
      "outputs": [
        {
          "output_type": "display_data",
          "data": {
            "image/png": "[encoded data removed]",
            "text/plain": [
              "<Figure size 432x288 with 1 Axes>"
            ]
          },
          "metadata": {
            "needs_background": "light"
          }
        }
      ]
    },
    {
      "cell_type": "markdown",
      "metadata": {
        "id": "GgpQey8v_kc2"
      },
      "source": [
        "Accuracy shoots up quite steeply at first, then oscillates a bit, but it does achieve 100% accuracy. Hallelujah!"
      ]
    },
    {
      "cell_type": "markdown",
      "metadata": {
        "id": "cci99ZrfniCb"
      },
      "source": [
        "##**2. Voted Perceptron**\n",
        "###Training Algorithm"
      ]
    },
    {
      "cell_type": "code",
      "metadata": {
        "id": "HL59C1costOY"
      },
      "source": [
        "def voted_perc_train(db):\n",
        "  W=[]\n",
        "  G=[]\n",
        "  w=np.zeros(len(db[0])-1)\n",
        "  a=0\n",
        "  flag=0\n",
        "  i=0\n",
        "  epoch=0\n",
        "  nu=0.2\n",
        "  while(flag!=1):\n",
        "    count=0\n",
        "    c=0\n",
        "    for x in db:\n",
        "      i+=1\n",
        "      #print(x,i)\n",
        "      a=np.dot(w,x[:-1])\n",
        "      #print(a)\n",
        "      if a*x[-1]>0:\n",
        "        c+=1\n",
        "      else:\n",
        "        count+=1\n",
        "        W.append([w.copy(),c])\n",
        "        w+=(nu*x[-1])*x[:-1]\n",
        "    epoch+=1\n",
        "    print(\"Epoch - \",epoch,\" done.\",\"\\n w =\",w)\n",
        "    G.append(W.copy())\n",
        "    if count==0:\n",
        "      flag=1\n",
        "  return [W,G]"
      ],
      "execution_count": 26,
      "outputs": []
    },
    {
      "cell_type": "markdown",
      "metadata": {
        "id": "FIlbsdQEnrAq"
      },
      "source": [
        "###Prediction and Testing Functions"
      ]
    },
    {
      "cell_type": "code",
      "metadata": {
        "id": "S7iv8V3-zU9q"
      },
      "source": [
        "def voted_perc_pred(W,x):\n",
        "  sum1=0\n",
        "  for i in range(len(W)):\n",
        "    sum1+=(W[i][1]*np.dot(W[i][0],x))\n",
        "  return np.sign(sum1)\n",
        "\n",
        "def count_voted_perc_acc(W,db):\n",
        "  count=0\n",
        "  for x in db:\n",
        "    if x[-1]==voted_perc_pred(W,x[:-1]):\n",
        "      count+=1\n",
        "  return count/len(db)"
      ],
      "execution_count": 27,
      "outputs": []
    },
    {
      "cell_type": "markdown",
      "metadata": {
        "id": "SfMpqoh8n5No"
      },
      "source": [
        "###Actual Training on the Dataset"
      ]
    },
    {
      "cell_type": "code",
      "metadata": {
        "colab": {
          "base_uri": "https://localhost:8080/"
        },
        "id": "MO5ofIl-95v8",
        "outputId": "b6e7e071-998a-4296-a194-14e961c63fb2"
      },
      "source": [
        "W1=voted_perc_train(x_train)\n",
        "print(W1[0])"
      ],
      "execution_count": 28,
      "outputs": [
        {
          "output_type": "stream",
          "name": "stdout",
          "text": [
            "Epoch -  1  done. \n",
            " w = [-29.6   10.56   8.66  -0.04  -1.02]\n",
            "Epoch -  2  done. \n",
            " w = [-2.6  25.6  20.46  1.28 -1.64]\n",
            "Epoch -  3  done. \n",
            " w = [-4.2  32.34 26.08  0.2  -2.8 ]\n",
            "Epoch -  4  done. \n",
            " w = [-6.4  36.52 30.12 -0.78 -3.66]\n",
            "Epoch -  5  done. \n",
            " w = [-9.   42.62 35.5  -2.   -4.88]\n",
            "Epoch -  6  done. \n",
            " w = [-12.6   47.98  40.36  -2.86  -5.86]\n",
            "Epoch -  7  done. \n",
            " w = [-6.   53.82 45.26 -3.76 -6.76]\n",
            "Epoch -  8  done. \n",
            " w = [-13.6   57.44  48.42  -5.12  -7.92]\n",
            "Epoch -  9  done. \n",
            " w = [-12.    62.2   52.42  -5.52  -8.7 ]\n",
            "Epoch -  10  done. \n",
            " w = [-14.    65.28  55.94  -6.88  -9.66]\n",
            "Epoch -  11  done. \n",
            " w = [-14.8   67.88  58.66  -7.76 -10.42]\n",
            "Epoch -  12  done. \n",
            " w = [-10.2   69.7   61.04  -8.86 -11.08]\n",
            "Epoch -  13  done. \n",
            " w = [-10.4   72.66  64.06 -10.36 -12.08]\n",
            "Epoch -  14  done. \n",
            " w = [-10.6   75.62  67.08 -11.86 -13.08]\n",
            "Epoch -  15  done. \n",
            " w = [-10.8   78.58  70.1  -13.36 -14.08]\n",
            "Epoch -  16  done. \n",
            " w = [-11.    81.54  73.12 -14.86 -15.08]\n",
            "Epoch -  17  done. \n",
            " w = [-11.2   84.5   76.14 -16.36 -16.08]\n",
            "Epoch -  18  done. \n",
            " w = [-11.8   85.72  77.48 -17.14 -16.68]\n",
            "Epoch -  19  done. \n",
            " w = [-11.4   87.72  79.6  -18.32 -17.44]\n",
            "Epoch -  20  done. \n",
            " w = [-12.    88.94  80.94 -19.1  -18.04]\n",
            "Epoch -  21  done. \n",
            " w = [-12.6   90.16  82.28 -19.88 -18.64]\n",
            "Epoch -  22  done. \n",
            " w = [-13.2   91.38  83.62 -20.66 -19.24]\n",
            "Epoch -  23  done. \n",
            " w = [-11.2   92.72  85.38 -22.06 -19.96]\n",
            "Epoch -  24  done. \n",
            " w = [-11.4   93.4   87.16 -23.96 -20.76]\n",
            "Epoch -  25  done. \n",
            " w = [-13.    93.76  88.18 -24.82 -21.12]\n",
            "Epoch -  26  done. \n",
            " w = [-13.6   94.98  89.52 -25.6  -21.72]\n",
            "Epoch -  27  done. \n",
            " w = [-11.6   96.32  91.28 -27.   -22.44]\n",
            "Epoch -  28  done. \n",
            " w = [-13.4   98.3   93.48 -28.2  -23.28]\n",
            "Epoch -  29  done. \n",
            " w = [-14.4   99.26  94.7  -29.26 -23.86]\n",
            "Epoch -  30  done. \n",
            " w = [-13.4  101.3   96.88 -30.48 -24.72]\n",
            "Epoch -  31  done. \n",
            " w = [-14.   102.52  98.22 -31.26 -25.32]\n",
            "Epoch -  32  done. \n",
            " w = [-15.   103.48  99.44 -32.32 -25.9 ]\n",
            "Epoch -  33  done. \n",
            " w = [-14.   105.52 101.62 -33.54 -26.76]\n",
            "Epoch -  34  done. \n",
            " w = [-15.   106.48 102.84 -34.6  -27.34]\n",
            "Epoch -  35  done. \n",
            " w = [-13.6  106.74 103.62 -35.5  -27.78]\n",
            "Epoch -  36  done. \n",
            " w = [-14.6  107.7  104.84 -36.56 -28.36]\n",
            "Epoch -  37  done. \n",
            " w = [-15.6  108.66 106.06 -37.62 -28.94]\n",
            "Epoch -  38  done. \n",
            " w = [-14.2  108.92 106.84 -38.52 -29.38]\n",
            "Epoch -  39  done. \n",
            " w = [-15.2  109.88 108.06 -39.58 -29.96]\n",
            "Epoch -  40  done. \n",
            " w = [-13.8  110.14 108.84 -40.48 -30.4 ]\n",
            "Epoch -  41  done. \n",
            " w = [-13.4  110.34 109.36 -41.56 -30.84]\n",
            "Epoch -  42  done. \n",
            " w = [-16.   109.94 109.32 -42.2  -31.1 ]\n",
            "Epoch -  43  done. \n",
            " w = [-14.4  110.08 110.1  -43.14 -31.52]\n",
            "Epoch -  44  done. \n",
            " w = [-15.4  111.04 111.32 -44.2  -32.1 ]\n",
            "Epoch -  45  done. \n",
            " w = [-14.   111.3  112.1  -45.1  -32.54]\n",
            "Epoch -  46  done. \n",
            " w = [-13.6  111.5  112.62 -46.18 -32.98]\n",
            "Epoch -  47  done. \n",
            " w = [-16.2  111.1  112.58 -46.82 -33.24]\n",
            "Epoch -  48  done. \n",
            " w = [-14.6  111.24 113.36 -47.76 -33.66]\n",
            "Epoch -  49  done. \n",
            " w = [-13.2  111.5  114.14 -48.66 -34.1 ]\n",
            "Epoch -  50  done. \n",
            " w = [-15.8  111.1  114.1  -49.3  -34.36]\n",
            "Epoch -  51  done. \n",
            " w = [-14.2  111.24 114.88 -50.24 -34.78]\n",
            "Epoch -  52  done. \n",
            " w = [-15.2  112.2  116.1  -51.3  -35.36]\n",
            "Epoch -  53  done. \n",
            " w = [-13.8  112.46 116.88 -52.2  -35.8 ]\n",
            "Epoch -  54  done. \n",
            " w = [-16.4  112.06 116.84 -52.84 -36.06]\n",
            "Epoch -  55  done. \n",
            " w = [-14.8  112.2  117.62 -53.78 -36.48]\n",
            "Epoch -  56  done. \n",
            " w = [-13.4  112.46 118.4  -54.68 -36.92]\n",
            "Epoch -  57  done. \n",
            " w = [-16.   112.06 118.36 -55.32 -37.18]\n",
            "Epoch -  58  done. \n",
            " w = [-14.4  112.2  119.14 -56.26 -37.6 ]\n",
            "Epoch -  59  done. \n",
            " w = [-13.   112.46 119.92 -57.16 -38.04]\n",
            "Epoch -  60  done. \n",
            " w = [-15.6  112.06 119.88 -57.8  -38.3 ]\n",
            "Epoch -  61  done. \n",
            " w = [-14.   112.2  120.66 -58.74 -38.72]\n",
            "Epoch -  62  done. \n",
            " w = [-13.6  112.4  121.18 -59.82 -39.16]\n",
            "Epoch -  63  done. \n",
            " w = [-16.2  112.   121.14 -60.46 -39.42]\n",
            "Epoch -  64  done. \n",
            " w = [-14.6  112.14 121.92 -61.4  -39.84]\n",
            "Epoch -  65  done. \n",
            " w = [-13.2  112.4  122.7  -62.3  -40.28]\n",
            "Epoch -  66  done. \n",
            " w = [-15.8  112.   122.66 -62.94 -40.54]\n",
            "Epoch -  67  done. \n",
            " w = [-14.2  112.14 123.44 -63.88 -40.96]\n",
            "Epoch -  68  done. \n",
            " w = [-13.8  112.34 123.96 -64.96 -41.4 ]\n",
            "Epoch -  69  done. \n",
            " w = [-16.4  111.94 123.92 -65.6  -41.66]\n",
            "Epoch -  70  done. \n",
            " w = [-16.4  111.94 123.92 -65.6  -41.66]\n",
            "[[array([0., 0., 0., 0., 0.]), 0], [array([-28.  ,  -1.38,  -0.62,  -1.08,  -0.42]), 0], [array([-23.6 ,  -0.36,   0.12,  -0.78,  -0.34]), 3], [array([-21.4 ,   0.72,   0.86,  -0.48,  -0.3 ]), 4], [array([-20.  ,   1.64,   1.54,  -0.2 ,  -0.24]), 6], [array([-11.4 ,   2.52,   2.18,   0.06,  -0.2 ]), 6], [array([-6.6 ,  3.54,  2.84,  0.4 , -0.1 ]), 8], [array([-0.6 ,  4.48,  3.48,  0.72, -0.06]), 8], [array([-13.4 ,   3.26,   2.9 ,  -0.22,  -0.34]), 12], [array([-13.  ,   4.24,   3.5 ,   0.06,  -0.3 ]), 15], [array([-9.2 ,  5.38,  4.26,  0.4 , -0.24]), 23], [array([-8.  ,  6.46,  5.04,  0.74, -0.16]), 23], [array([-1.2 ,  7.56,  5.88,  1.02, -0.12]), 67], [array([ 8.4 ,  8.48,  6.52,  1.3 , -0.08]), 68], [array([-14.8 ,   7.2 ,   5.88,   0.24,  -0.54]), 69], [array([-8.6 ,  8.16,  6.5 ,  0.56, -0.5 ]), 71], [array([-2.2 ,  9.24,  7.18,  0.86, -0.42]), 81], [array([ 7.2 , 10.26,  7.94,  1.18, -0.38]), 81], [array([-21.2 ,   8.88,   7.32,   0.16,  -0.84]), 81], [array([-12.8 ,   9.78,   7.78,   0.42,  -0.78]), 82], [array([-9.4 , 10.86,  8.56,  0.68, -0.7 ]), 83], [array([-0.2 , 11.82,  9.16,  0.96, -0.64]), 83], [array([-29.6 ,  10.56,   8.66,  -0.04,  -1.02]), 1], [array([-25.2 ,  11.58,   9.4 ,   0.26,  -0.94]), 4], [array([-23.  ,  12.66,  10.14,   0.56,  -0.9 ]), 5], [array([-21.6 ,  13.58,  10.82,   0.84,  -0.84]), 7], [array([-13.  ,  14.46,  11.46,   1.1 ,  -0.8 ]), 7], [array([-8.2 , 15.48, 12.12,  1.44, -0.7 ]), 9], [array([-2.2 , 16.42, 12.76,  1.76, -0.66]), 9], [array([-15.  ,  15.2 ,  12.18,   0.82,  -0.94]), 17], [array([-11.2 ,  16.34,  12.94,   1.16,  -0.88]), 26], [array([-4.4 , 17.44, 13.78,  1.44, -0.84]), 29], [array([ 3.4 , 18.32, 14.38,  1.7 , -0.8 ]), 29], [array([-13.8 ,  17.12,  13.7 ,   0.8 ,  -1.12]), 32], [array([-11.4 ,  18.08,  14.38,   1.12,  -1.08]), 32], [array([-1.6 , 19.14, 15.12,  1.42, -1.04]), 33], [array([-22.4 ,  17.88,  14.54,   0.3 ,  -1.4 ]), 43], [array([-18.2 ,  18.96,  15.22,   0.64,  -1.36]), 43], [array([-15.  ,  20.1 ,  16.1 ,   0.94,  -1.28]), 46], [array([-7.6 , 21.2 , 16.8 ,  1.2 , -1.24]), 48], [array([-3.  , 22.12, 17.52,  1.4 , -1.2 ]), 72], [array([-13.8 ,  21.02,  17.06,   0.6 ,  -1.46]), 72], [array([-11.2 ,  21.98,  17.66,   0.88,  -1.44]), 74], [array([-4.6 , 23.02, 18.48,  1.18, -1.42]), 76], [array([ 4.8 , 24.04, 19.24,  1.5 , -1.38]), 76], [array([-23.6 ,  22.66,  18.62,   0.48,  -1.84]), 76], [array([-15.2 ,  23.56,  19.08,   0.74,  -1.78]), 77], [array([-11.8 ,  24.64,  19.86,   1.  ,  -1.7 ]), 78], [array([-2.6 , 25.6 , 20.46,  1.28, -1.64]), 6], [array([-16.8 ,  24.42,  19.82,   0.32,  -2.  ]), 9], [array([-8.2 , 25.3 , 20.46,  0.58, -1.96]), 9], [array([-3.4 , 26.32, 21.12,  0.92, -1.86]), 12], [array([-1.620e+01,  2.510e+01,  2.054e+01, -2.000e-02, -2.140e+00]), 20], [array([-12.4 ,  26.24,  21.3 ,   0.32,  -2.08]), 29], [array([-5.6 , 27.34, 22.14,  0.6 , -2.04]), 32], [array([ 2.2 , 28.22, 22.74,  0.86, -2.  ]), 32], [array([-15.  ,  27.02,  22.06,  -0.04,  -2.32]), 36], [array([-5.2 , 28.08, 22.8 ,  0.26, -2.28]), 70], [array([ 4.4 , 29.  , 23.44,  0.54, -2.24]), 71], [array([-18.8 ,  27.72,  22.8 ,  -0.52,  -2.7 ]), 72], [array([-12.6 ,  28.68,  23.42,  -0.2 ,  -2.66]), 74], [array([-6.2 , 29.76, 24.1 ,  0.1 , -2.58]), 84], [array([ 3.2 , 30.78, 24.86,  0.42, -2.54]), 84], [array([-25.2 ,  29.4 ,  24.24,  -0.6 ,  -3.  ]), 84], [array([-16.8 ,  30.3 ,  24.7 ,  -0.34,  -2.94]), 85], [array([-13.4 ,  31.38,  25.48,  -0.08,  -2.86]), 86], [array([-4.2 , 32.34, 26.08,  0.2 , -2.8 ]), 8], [array([-16.6 ,  31.16,  25.48,  -0.64,  -3.1 ]), 9], [array([-8.  , 32.04, 26.12, -0.38, -3.06]), 12], [array([-2.  , 32.98, 26.76, -0.06, -3.02]), 12], [array([-14.8 ,  31.76,  26.18,  -1.  ,  -3.3 ]), 20], [array([-11.  ,  32.9 ,  26.94,  -0.66,  -3.24]), 29], [array([-4.2 , 34.  , 27.78, -0.38, -3.2 ]), 84], [array([-15.  ,  32.9 ,  27.32,  -1.18,  -3.46]), 87], [array([-8.4 , 33.94, 28.14, -0.88, -3.44]), 89], [array([ 1.  , 34.96, 28.9 , -0.56, -3.4 ]), 89], [array([-27.4 ,  33.58,  28.28,  -1.58,  -3.86]), 89], [array([-19.  ,  34.48,  28.74,  -1.32,  -3.8 ]), 90], [array([-15.6 ,  35.56,  29.52,  -1.06,  -3.72]), 91], [array([-6.4 , 36.52, 30.12, -0.78, -3.66]), 10], [array([ 2.2 , 37.4 , 30.76, -0.52, -3.62]), 11], [array([-15.2 ,  36.06,  30.14,  -1.46,  -3.92]), 12], [array([-9.2 , 37.  , 30.78, -1.14, -3.88]), 35], [array([-1.4 , 37.88, 31.38, -0.88, -3.84]), 35], [array([-18.6 ,  36.68,  30.7 ,  -1.78,  -4.16]), 39], [array([-8.8 , 37.74, 31.44, -1.48, -4.12]), 56], [array([-1.4 , 38.84, 32.14, -1.22, -4.08]), 56], [array([-16.8 ,  37.48,  31.58,  -2.18,  -4.36]), 57], [array([-12.2 ,  38.4 ,  32.3 ,  -1.98,  -4.32]), 69], [array([-6.6 , 39.44, 33.  , -1.68, -4.28]), 69], [array([ 3.  , 40.36, 33.64, -1.4 , -4.24]), 70], [array([-20.2 ,  39.08,  33.  ,  -2.46,  -4.7 ]), 71], [array([-14.  ,  40.04,  33.62,  -2.14,  -4.66]), 73], [array([-7.6 , 41.12, 34.3 , -1.84, -4.58]), 83], [array([ 1.8 , 42.14, 35.06, -1.52, -4.54]), 83], [array([-26.6 ,  40.76,  34.44,  -2.54,  -5.  ]), 83], [array([-18.2 ,  41.66,  34.9 ,  -2.28,  -4.94]), 86], [array([-9.  , 42.62, 35.5 , -2.  , -4.88]), 10], [array([-0.4 , 43.5 , 36.14, -1.74, -4.84]), 11], [array([-17.8 ,  42.16,  35.52,  -2.68,  -5.14]), 12], [array([-11.8 ,  43.1 ,  36.16,  -2.36,  -5.1 ]), 31], [array([-5.  , 44.2 , 37.  , -2.08, -5.06]), 59], [array([-20.4 ,  42.84,  36.44,  -3.04,  -5.34]), 60], [array([-15.8 ,  43.76,  37.16,  -2.84,  -5.3 ]), 72], [array([-10.2 ,  44.8 ,  37.86,  -2.54,  -5.26]), 72], [array([-0.6 , 45.72, 38.5 , -2.26, -5.22]), 73], [array([-23.8 ,  44.44,  37.86,  -3.32,  -5.68]), 74], [array([-17.6 ,  45.4 ,  38.48,  -3.  ,  -5.64]), 76], [array([-11.2 ,  46.48,  39.16,  -2.7 ,  -5.56]), 86], [array([-1.8 , 47.5 , 39.92, -2.38, -5.52]), 86], [array([-30.2 ,  46.12,  39.3 ,  -3.4 ,  -5.98]), 86], [array([-21.8 ,  47.02,  39.76,  -3.14,  -5.92]), 89], [array([-12.6 ,  47.98,  40.36,  -2.86,  -5.86]), 10], [array([-4.  , 48.86, 41.  , -2.6 , -5.82]), 11], [array([-21.4 ,  47.52,  40.38,  -3.54,  -6.12]), 12], [array([-15.4 ,  48.46,  41.02,  -3.22,  -6.08]), 31], [array([-8.6 , 49.56, 41.86, -2.94, -6.04]), 40], [array([ 1.2 , 50.62, 42.6 , -2.64, -6.  ]), 41], [array([-19.6 ,  49.36,  42.02,  -3.76,  -6.36]), 51], [array([-15.4 ,  50.44,  42.7 ,  -3.42,  -6.32]), 55], [array([-8.  , 51.54, 43.4 , -3.16, -6.28]), 71], [array([ 1.6 , 52.46, 44.04, -2.88, -6.24]), 72], [array([-21.6 ,  51.18,  43.4 ,  -3.94,  -6.7 ]), 73], [array([-15.4 ,  52.14,  44.02,  -3.62,  -6.66]), 75], [array([-9.  , 53.22, 44.7 , -3.32, -6.58]), 87], [array([-0.6 , 54.12, 45.16, -3.06, -6.52]), 87], [array([-15.2 ,  52.86,  44.66,  -4.04,  -6.82]), 89], [array([-6.  , 53.82, 45.26, -3.76, -6.76]), 6], [array([-20.2 ,  52.64,  44.62,  -4.72,  -7.12]), 9], [array([-11.6 ,  53.52,  45.26,  -4.46,  -7.08]), 36], [array([-3.8 , 54.4 , 45.86, -4.2 , -7.04]), 36], [array([-21.  ,  53.2 ,  45.18,  -5.1 ,  -7.36]), 40], [array([-11.2 ,  54.26,  45.92,  -4.8 ,  -7.32]), 74], [array([-1.6 , 55.18, 46.56, -4.52, -7.28]), 75], [array([-24.8 ,  53.9 ,  45.92,  -5.58,  -7.74]), 76], [array([-18.6 ,  54.86,  46.54,  -5.26,  -7.7 ]), 78], [array([-12.2 ,  55.94,  47.22,  -4.96,  -7.62]), 88], [array([-2.8 , 56.96, 47.98, -4.64, -7.58]), 88], [array([-31.2 ,  55.58,  47.36,  -5.66,  -8.04]), 88], [array([-22.8 ,  56.48,  47.82,  -5.4 ,  -7.98]), 91], [array([-13.6 ,  57.44,  48.42,  -5.12,  -7.92]), 10], [array([-5.  , 58.32, 49.06, -4.86, -7.88]), 11], [array([-22.4 ,  56.98,  48.44,  -5.8 ,  -8.18]), 12], [array([-16.4 ,  57.92,  49.08,  -5.48,  -8.14]), 31], [array([-9.6 , 59.02, 49.92, -5.2 , -8.1 ]), 75], [array([-2.48689958e-14,  5.99400000e+01,  5.05600000e+01, -4.92000000e+00,\n",
            "       -8.06000000e+00]), 76], [array([-23.2 ,  58.66,  49.92,  -5.98,  -8.52]), 77], [array([-17.  ,  59.62,  50.54,  -5.66,  -8.48]), 79], [array([-10.6 ,  60.7 ,  51.22,  -5.36,  -8.4 ]), 89], [array([-1.2 , 61.72, 51.98, -5.04, -8.36]), 89], [array([-29.6 ,  60.34,  51.36,  -6.06,  -8.82]), 89], [array([-21.2 ,  61.24,  51.82,  -5.8 ,  -8.76]), 92], [array([-12.  ,  62.2 ,  52.42,  -5.52,  -8.7 ]), 10], [array([-3.4 , 63.08, 53.06, -5.26, -8.66]), 11], [array([-20.8 ,  61.74,  52.44,  -6.2 ,  -8.96]), 12], [array([-14.8 ,  62.68,  53.08,  -5.88,  -8.92]), 35], [array([-7.  , 63.56, 53.68, -5.62, -8.88]), 59], [array([-22.4 ,  62.2 ,  53.12,  -6.58,  -9.16]), 60], [array([-17.8 ,  63.12,  53.84,  -6.38,  -9.12]), 73], [array([-8.2 , 64.04, 54.48, -6.1 , -9.08]), 86], [array([-19.2 ,  62.74,  53.92,  -7.02,  -9.38]), 86], [array([-12.6 ,  63.78,  54.74,  -6.72,  -9.36]), 88], [array([-3.2 , 64.8 , 55.5 , -6.4 , -9.32]), 88], [array([-31.6 ,  63.42,  54.88,  -7.42,  -9.78]), 88], [array([-23.2 ,  64.32,  55.34,  -7.16,  -9.72]), 91], [array([-14.  ,  65.28,  55.94,  -6.88,  -9.66]), 10], [array([-5.4 , 66.16, 56.58, -6.62, -9.62]), 11], [array([-22.8 ,  64.82,  55.96,  -7.56,  -9.92]), 12], [array([-16.8 ,  65.76,  56.6 ,  -7.24,  -9.88]), 35], [array([-9.  , 66.64, 57.2 , -6.98, -9.84]), 89], [array([-20.  ,  65.34,  56.64,  -7.9 , -10.14]), 89], [array([-13.4 ,  66.38,  57.46,  -7.6 , -10.12]), 91], [array([ -4.  ,  67.4 ,  58.22,  -7.28, -10.08]), 91], [array([-32.4 ,  66.02,  57.6 ,  -8.3 , -10.54]), 91], [array([-24.  ,  66.92,  58.06,  -8.04, -10.48]), 94], [array([-14.8 ,  67.88,  58.66,  -7.76, -10.42]), 10], [array([ -6.2 ,  68.76,  59.3 ,  -7.5 , -10.38]), 11], [array([-23.6 ,  67.42,  58.68,  -8.44, -10.68]), 12], [array([-17.6 ,  68.36,  59.32,  -8.12, -10.64]), 35], [array([ -9.8 ,  69.24,  59.92,  -7.86, -10.6 ]), 89], [array([-20.8 ,  67.94,  59.36,  -8.78, -10.9 ]), 89], [array([-14.2 ,  68.98,  60.18,  -8.48, -10.88]), 91], [array([ -4.8 ,  70.  ,  60.94,  -8.16, -10.84]), 93], [array([-19.4 ,  68.74,  60.44,  -9.14, -11.14]), 95], [array([-10.2 ,  69.7 ,  61.04,  -8.86, -11.08]), 19], [array([-20.6 ,  68.42,  60.4 ,  -9.76, -11.38]), 33], [array([-13.8 ,  69.52,  61.24,  -9.48, -11.34]), 36], [array([ -6.  ,  70.4 ,  61.84,  -9.22, -11.3 ]), 36], [array([-23.2 ,  69.2 ,  61.16, -10.12, -11.62]), 40], [array([-13.4 ,  70.26,  61.9 ,  -9.82, -11.58]), 74], [array([ -3.8 ,  71.18,  62.54,  -9.54, -11.54]), 75], [array([-27. ,  69.9,  61.9, -10.6, -12. ]), 76], [array([-20.8 ,  70.86,  62.52, -10.28, -11.96]), 78], [array([-14.4 ,  71.94,  63.2 ,  -9.98, -11.88]), 88], [array([ -5.  ,  72.96,  63.96,  -9.66, -11.84]), 90], [array([-19.6 ,  71.7 ,  63.46, -10.64, -12.14]), 92], [array([-10.4 ,  72.66,  64.06, -10.36, -12.08]), 19], [array([-20.8 ,  71.38,  63.42, -11.26, -12.38]), 33], [array([-14.  ,  72.48,  64.26, -10.98, -12.34]), 36], [array([ -6.2 ,  73.36,  64.86, -10.72, -12.3 ]), 36], [array([-23.4 ,  72.16,  64.18, -11.62, -12.62]), 40], [array([-13.6 ,  73.22,  64.92, -11.32, -12.58]), 74], [array([ -4.  ,  74.14,  65.56, -11.04, -12.54]), 75], [array([-27.2 ,  72.86,  64.92, -12.1 , -13.  ]), 76], [array([-21.  ,  73.82,  65.54, -11.78, -12.96]), 78], [array([-14.6 ,  74.9 ,  66.22, -11.48, -12.88]), 88], [array([ -5.2 ,  75.92,  66.98, -11.16, -12.84]), 90], [array([-19.8 ,  74.66,  66.48, -12.14, -13.14]), 92], [array([-10.6 ,  75.62,  67.08, -11.86, -13.08]), 19], [array([-21.  ,  74.34,  66.44, -12.76, -13.38]), 33], [array([-14.2 ,  75.44,  67.28, -12.48, -13.34]), 36], [array([ -6.4 ,  76.32,  67.88, -12.22, -13.3 ]), 36], [array([-23.6 ,  75.12,  67.2 , -13.12, -13.62]), 40], [array([-13.8 ,  76.18,  67.94, -12.82, -13.58]), 74], [array([ -4.2 ,  77.1 ,  68.58, -12.54, -13.54]), 75], [array([-27.4 ,  75.82,  67.94, -13.6 , -14.  ]), 76], [array([-21.2 ,  76.78,  68.56, -13.28, -13.96]), 78], [array([-14.8 ,  77.86,  69.24, -12.98, -13.88]), 88], [array([ -5.4 ,  78.88,  70.  , -12.66, -13.84]), 90], [array([-20.  ,  77.62,  69.5 , -13.64, -14.14]), 92], [array([-10.8 ,  78.58,  70.1 , -13.36, -14.08]), 19], [array([-21.2 ,  77.3 ,  69.46, -14.26, -14.38]), 33], [array([-14.4 ,  78.4 ,  70.3 , -13.98, -14.34]), 36], [array([ -6.6 ,  79.28,  70.9 , -13.72, -14.3 ]), 36], [array([-23.8 ,  78.08,  70.22, -14.62, -14.62]), 40], [array([-14.  ,  79.14,  70.96, -14.32, -14.58]), 74], [array([ -4.4 ,  80.06,  71.6 , -14.04, -14.54]), 75], [array([-27.6 ,  78.78,  70.96, -15.1 , -15.  ]), 76], [array([-21.4 ,  79.74,  71.58, -14.78, -14.96]), 78], [array([-15.  ,  80.82,  72.26, -14.48, -14.88]), 88], [array([ -5.6 ,  81.84,  73.02, -14.16, -14.84]), 90], [array([-20.2 ,  80.58,  72.52, -15.14, -15.14]), 92], [array([-11.  ,  81.54,  73.12, -14.86, -15.08]), 19], [array([-21.4 ,  80.26,  72.48, -15.76, -15.38]), 33], [array([-14.6 ,  81.36,  73.32, -15.48, -15.34]), 36], [array([ -6.8 ,  82.24,  73.92, -15.22, -15.3 ]), 36], [array([-24.  ,  81.04,  73.24, -16.12, -15.62]), 40], [array([-14.2 ,  82.1 ,  73.98, -15.82, -15.58]), 74], [array([ -4.6 ,  83.02,  74.62, -15.54, -15.54]), 75], [array([-27.8 ,  81.74,  73.98, -16.6 , -16.  ]), 76], [array([-21.6 ,  82.7 ,  74.6 , -16.28, -15.96]), 78], [array([-15.2 ,  83.78,  75.28, -15.98, -15.88]), 88], [array([ -5.8 ,  84.8 ,  76.04, -15.66, -15.84]), 90], [array([-20.4 ,  83.54,  75.54, -16.64, -16.14]), 92], [array([-11.2 ,  84.5 ,  76.14, -16.36, -16.08]), 19], [array([-21.6 ,  83.22,  75.5 , -17.26, -16.38]), 37], [array([-13.8 ,  84.1 ,  76.1 , -17.  , -16.34]), 77], [array([ -4.2 ,  85.02,  76.74, -16.72, -16.3 ]), 78], [array([-27.4 ,  83.74,  76.1 , -17.78, -16.76]), 79], [array([-21.2 ,  84.7 ,  76.72, -17.46, -16.72]), 92], [array([-11.8 ,  85.72,  77.48, -17.14, -16.68]), 19], [array([-22.2 ,  84.44,  76.84, -18.04, -16.98]), 37], [array([-14.4 ,  85.32,  77.44, -17.78, -16.94]), 77], [array([ -4.8 ,  86.24,  78.08, -17.5 , -16.9 ]), 78], [array([-28.  ,  84.96,  77.44, -18.56, -17.36]), 79], [array([-21.8 ,  85.92,  78.06, -18.24, -17.32]), 81], [array([-15.4 ,  87.  ,  78.74, -17.94, -17.24]), 91], [array([ -6.  ,  88.02,  79.5 , -17.62, -17.2 ]), 93], [array([-20.6 ,  86.76,  79.  , -18.6 , -17.5 ]), 95], [array([-11.4 ,  87.72,  79.6 , -18.32, -17.44]), 19], [array([-21.8 ,  86.44,  78.96, -19.22, -17.74]), 37], [array([-14.  ,  87.32,  79.56, -18.96, -17.7 ]), 77], [array([ -4.4 ,  88.24,  80.2 , -18.68, -17.66]), 78], [array([-27.6 ,  86.96,  79.56, -19.74, -18.12]), 79], [array([-21.4 ,  87.92,  80.18, -19.42, -18.08]), 92], [array([-12.  ,  88.94,  80.94, -19.1 , -18.04]), 19], [array([-22.4 ,  87.66,  80.3 , -20.  , -18.34]), 37], [array([-14.6 ,  88.54,  80.9 , -19.74, -18.3 ]), 77], [array([ -5.  ,  89.46,  81.54, -19.46, -18.26]), 78], [array([-28.2 ,  88.18,  80.9 , -20.52, -18.72]), 79], [array([-22.  ,  89.14,  81.52, -20.2 , -18.68]), 92], [array([-12.6 ,  90.16,  82.28, -19.88, -18.64]), 19], [array([-23.  ,  88.88,  81.64, -20.78, -18.94]), 37], [array([-15.2 ,  89.76,  82.24, -20.52, -18.9 ]), 77], [array([ -5.6 ,  90.68,  82.88, -20.24, -18.86]), 78], [array([-28.8 ,  89.4 ,  82.24, -21.3 , -19.32]), 79], [array([-22.6 ,  90.36,  82.86, -20.98, -19.28]), 92], [array([-13.2 ,  91.38,  83.62, -20.66, -19.24]), 19], [array([-23.6 ,  90.1 ,  82.98, -21.56, -19.54]), 37], [array([-15.8 ,  90.98,  83.58, -21.3 , -19.5 ]), 42], [array([ -6.  ,  92.04,  84.32, -21.  , -19.46]), 43], [array([-26.8 ,  90.78,  83.74, -22.12, -19.82]), 58], [array([-19.4 ,  91.88,  84.44, -21.86, -19.78]), 74], [array([ -9.8 ,  92.8 ,  85.08, -21.58, -19.74]), 84], [array([-20.6 ,  91.7 ,  84.62, -22.38, -20.  ]), 90], [array([-11.2 ,  92.72,  85.38, -22.06, -19.96]), 17], [array([-24.4 ,  91.38,  84.76, -22.94, -20.24]), 33], [array([-17.6 ,  92.48,  85.6 , -22.66, -20.2 ]), 36], [array([ -9.8 ,  93.36,  86.2 , -22.4 , -20.16]), 66], [array([-22.4 ,  92.16,  85.76, -23.2 , -20.36]), 75], [array([-12.8 ,  93.08,  86.4 , -22.92, -20.32]), 88], [array([-23.8 ,  91.78,  85.84, -23.84, -20.62]), 91], [array([-14.4 ,  92.8 ,  86.6 , -23.52, -20.58]), 92], [array([ -6.  ,  93.7 ,  87.06, -23.26, -20.52]), 92], [array([-20.6 ,  92.44,  86.56, -24.24, -20.82]), 94], [array([-11.4 ,  93.4 ,  87.16, -23.96, -20.76]), 17], [array([-24.6 ,  92.06,  86.54, -24.84, -21.04]), 33], [array([-17.8 ,  93.16,  87.38, -24.56, -21.  ]), 36], [array([-10.  ,  94.04,  87.98, -24.3 , -20.96]), 66], [array([-22.6 ,  92.84,  87.54, -25.1 , -21.16]), 75], [array([-13.  ,  93.76,  88.18, -24.82, -21.12]), 19], [array([-23.4 ,  92.48,  87.54, -25.72, -21.42]), 37], [array([-15.6 ,  93.36,  88.14, -25.46, -21.38]), 77], [array([ -6.  ,  94.28,  88.78, -25.18, -21.34]), 78], [array([-29.2 ,  93.  ,  88.14, -26.24, -21.8 ]), 79], [array([-23.  ,  93.96,  88.76, -25.92, -21.76]), 92], [array([-13.6 ,  94.98,  89.52, -25.6 , -21.72]), 19], [array([-24.  ,  93.7 ,  88.88, -26.5 , -22.02]), 37], [array([-16.2 ,  94.58,  89.48, -26.24, -21.98]), 42], [array([ -6.4 ,  95.64,  90.22, -25.94, -21.94]), 43], [array([-27.2 ,  94.38,  89.64, -27.06, -22.3 ]), 58], [array([-19.8 ,  95.48,  90.34, -26.8 , -22.26]), 74], [array([-10.2 ,  96.4 ,  90.98, -26.52, -22.22]), 84], [array([-21.  ,  95.3 ,  90.52, -27.32, -22.48]), 90], [array([-11.6 ,  96.32,  91.28, -27.  , -22.44]), 17], [array([-24.8 ,  94.98,  90.66, -27.88, -22.72]), 37], [array([-17.  ,  95.86,  91.26, -27.62, -22.68]), 42], [array([ -7.2 ,  96.92,  92.  , -27.32, -22.64]), 44], [array([-22.8 ,  95.58,  91.4 , -28.32, -22.98]), 58], [array([-15.4 ,  96.68,  92.1 , -28.06, -22.94]), 74], [array([ -5.8 ,  97.6 ,  92.74, -27.78, -22.9 ]), 75], [array([-29.  ,  96.32,  92.1 , -28.84, -23.36]), 76], [array([-22.8 ,  97.28,  92.72, -28.52, -23.32]), 89], [array([-13.4 ,  98.3 ,  93.48, -28.2 , -23.28]), 19], [array([-23.8 ,  97.02,  92.84, -29.1 , -23.58]), 37], [array([-16.  ,  97.9 ,  93.44, -28.84, -23.54]), 77], [array([ -6.4 ,  98.82,  94.08, -28.56, -23.5 ]), 79], [array([-30.  ,  97.28,  93.32, -29.9 , -23.94]), 79], [array([-23.8 ,  98.24,  93.94, -29.58, -23.9 ]), 92], [array([-14.4 ,  99.26,  94.7 , -29.26, -23.86]), 19], [array([-24.8 ,  97.98,  94.06, -30.16, -24.16]), 37], [array([-17.  ,  98.86,  94.66, -29.9 , -24.12]), 42], [array([ -7.2 ,  99.92,  95.4 , -29.6 , -24.08]), 44], [array([-22.8 ,  98.58,  94.8 , -30.6 , -24.42]), 58], [array([-15.4 ,  99.68,  95.5 , -30.34, -24.38]), 74], [array([ -5.8 , 100.6 ,  96.14, -30.06, -24.34]), 75], [array([-29.  ,  99.32,  95.5 , -31.12, -24.8 ]), 76], [array([-22.8 , 100.28,  96.12, -30.8 , -24.76]), 89], [array([-13.4 , 101.3 ,  96.88, -30.48, -24.72]), 19], [array([-23.8 , 100.02,  96.24, -31.38, -25.02]), 37], [array([-16.  , 100.9 ,  96.84, -31.12, -24.98]), 77], [array([ -6.4 , 101.82,  97.48, -30.84, -24.94]), 78], [array([-29.6 , 100.54,  96.84, -31.9 , -25.4 ]), 79], [array([-23.4 , 101.5 ,  97.46, -31.58, -25.36]), 92], [array([-14.  , 102.52,  98.22, -31.26, -25.32]), 19], [array([-24.4 , 101.24,  97.58, -32.16, -25.62]), 37], [array([-16.6 , 102.12,  98.18, -31.9 , -25.58]), 77], [array([ -7.  , 103.04,  98.82, -31.62, -25.54]), 79], [array([-30.6 , 101.5 ,  98.06, -32.96, -25.98]), 79], [array([-24.4 , 102.46,  98.68, -32.64, -25.94]), 92], [array([-15.  , 103.48,  99.44, -32.32, -25.9 ]), 19], [array([-25.4 , 102.2 ,  98.8 , -33.22, -26.2 ]), 37], [array([-17.6 , 103.08,  99.4 , -32.96, -26.16]), 42], [array([ -7.8 , 104.14, 100.14, -32.66, -26.12]), 44], [array([-23.4 , 102.8 ,  99.54, -33.66, -26.46]), 58], [array([-16.  , 103.9 , 100.24, -33.4 , -26.42]), 74], [array([ -6.4 , 104.82, 100.88, -33.12, -26.38]), 75], [array([-29.6 , 103.54, 100.24, -34.18, -26.84]), 76], [array([-23.4 , 104.5 , 100.86, -33.86, -26.8 ]), 89], [array([-14.  , 105.52, 101.62, -33.54, -26.76]), 19], [array([-24.4 , 104.24, 100.98, -34.44, -27.06]), 37], [array([-16.6 , 105.12, 101.58, -34.18, -27.02]), 77], [array([ -7.  , 106.04, 102.22, -33.9 , -26.98]), 79], [array([-30.6 , 104.5 , 101.46, -35.24, -27.42]), 79], [array([-24.4 , 105.46, 102.08, -34.92, -27.38]), 92], [array([-15.  , 106.48, 102.84, -34.6 , -27.34]), 19], [array([-25.4 , 105.2 , 102.2 , -35.5 , -27.64]), 37], [array([-17.6 , 106.08, 102.8 , -35.24, -27.6 ]), 77], [array([ -8.  , 107.  , 103.44, -34.96, -27.56]), 84], [array([-23.  , 105.72, 102.86, -35.82, -27.82]), 93], [array([-13.6 , 106.74, 103.62, -35.5 , -27.78]), 19], [array([-24.  , 105.46, 102.98, -36.4 , -28.08]), 37], [array([-16.2 , 106.34, 103.58, -36.14, -28.04]), 77], [array([ -6.6 , 107.26, 104.22, -35.86, -28.  ]), 79], [array([-30.2 , 105.72, 103.46, -37.2 , -28.44]), 79], [array([-24.  , 106.68, 104.08, -36.88, -28.4 ]), 92], [array([-14.6 , 107.7 , 104.84, -36.56, -28.36]), 19], [array([-25.  , 106.42, 104.2 , -37.46, -28.66]), 37], [array([-17.2 , 107.3 , 104.8 , -37.2 , -28.62]), 77], [array([ -7.6 , 108.22, 105.44, -36.92, -28.58]), 79], [array([-31.2 , 106.68, 104.68, -38.26, -29.02]), 79], [array([-25.  , 107.64, 105.3 , -37.94, -28.98]), 92], [array([-15.6 , 108.66, 106.06, -37.62, -28.94]), 19], [array([-26.  , 107.38, 105.42, -38.52, -29.24]), 37], [array([-18.2 , 108.26, 106.02, -38.26, -29.2 ]), 77], [array([ -8.6 , 109.18, 106.66, -37.98, -29.16]), 84], [array([-23.6 , 107.9 , 106.08, -38.84, -29.42]), 93], [array([-14.2 , 108.92, 106.84, -38.52, -29.38]), 19], [array([-24.6 , 107.64, 106.2 , -39.42, -29.68]), 37], [array([-16.8 , 108.52, 106.8 , -39.16, -29.64]), 77], [array([ -7.2 , 109.44, 107.44, -38.88, -29.6 ]), 79], [array([-30.8 , 107.9 , 106.68, -40.22, -30.04]), 79], [array([-24.6 , 108.86, 107.3 , -39.9 , -30.  ]), 92], [array([-15.2 , 109.88, 108.06, -39.58, -29.96]), 19], [array([-25.6 , 108.6 , 107.42, -40.48, -30.26]), 37], [array([-17.8 , 109.48, 108.02, -40.22, -30.22]), 77], [array([ -8.2 , 110.4 , 108.66, -39.94, -30.18]), 84], [array([-23.2 , 109.12, 108.08, -40.8 , -30.44]), 93], [array([-13.8 , 110.14, 108.84, -40.48, -30.4 ]), 19], [array([-24.2 , 108.86, 108.2 , -41.38, -30.7 ]), 37], [array([-16.4 , 109.74, 108.8 , -41.12, -30.66]), 97], [array([ -8.  , 110.64, 109.26, -40.86, -30.6 ]), 97], [array([-22.6 , 109.38, 108.76, -41.84, -30.9 ]), 99], [array([-13.4 , 110.34, 109.36, -41.56, -30.84]), 19], [array([-23.8 , 109.06, 108.72, -42.46, -31.14]), 37], [array([-16.  , 109.94, 109.32, -42.2 , -31.1 ]), 28], [array([-26.2 , 108.54, 108.68, -43.14, -31.38]), 37], [array([-18.4 , 109.42, 109.28, -42.88, -31.34]), 77], [array([ -8.8 , 110.34, 109.92, -42.6 , -31.3 ]), 84], [array([-23.8 , 109.06, 109.34, -43.46, -31.56]), 93], [array([-14.4 , 110.08, 110.1 , -43.14, -31.52]), 19], [array([-24.8 , 108.8 , 109.46, -44.04, -31.82]), 37], [array([-17.  , 109.68, 110.06, -43.78, -31.78]), 77], [array([ -7.4 , 110.6 , 110.7 , -43.5 , -31.74]), 79], [array([-31.  , 109.06, 109.94, -44.84, -32.18]), 79], [array([-24.8 , 110.02, 110.56, -44.52, -32.14]), 92], [array([-15.4 , 111.04, 111.32, -44.2 , -32.1 ]), 19], [array([-25.8 , 109.76, 110.68, -45.1 , -32.4 ]), 37], [array([-18.  , 110.64, 111.28, -44.84, -32.36]), 77], [array([ -8.4 , 111.56, 111.92, -44.56, -32.32]), 84], [array([-23.4 , 110.28, 111.34, -45.42, -32.58]), 93], [array([-14.  , 111.3 , 112.1 , -45.1 , -32.54]), 19], [array([-24.4 , 110.02, 111.46, -46.  , -32.84]), 37], [array([-16.6 , 110.9 , 112.06, -45.74, -32.8 ]), 97], [array([ -8.2 , 111.8 , 112.52, -45.48, -32.74]), 97], [array([-22.8 , 110.54, 112.02, -46.46, -33.04]), 99], [array([-13.6 , 111.5 , 112.62, -46.18, -32.98]), 19], [array([-24.  , 110.22, 111.98, -47.08, -33.28]), 37], [array([-16.2 , 111.1 , 112.58, -46.82, -33.24]), 28], [array([-26.4 , 109.7 , 111.94, -47.76, -33.52]), 37], [array([-18.6 , 110.58, 112.54, -47.5 , -33.48]), 77], [array([ -9.  , 111.5 , 113.18, -47.22, -33.44]), 84], [array([-24.  , 110.22, 112.6 , -48.08, -33.7 ]), 93], [array([-14.6 , 111.24, 113.36, -47.76, -33.66]), 19], [array([-25.  , 109.96, 112.72, -48.66, -33.96]), 37], [array([-17.2 , 110.84, 113.32, -48.4 , -33.92]), 77], [array([ -7.6 , 111.76, 113.96, -48.12, -33.88]), 84], [array([-22.6 , 110.48, 113.38, -48.98, -34.14]), 93], [array([-13.2 , 111.5 , 114.14, -48.66, -34.1 ]), 19], [array([-23.6 , 110.22, 113.5 , -49.56, -34.4 ]), 37], [array([-15.8 , 111.1 , 114.1 , -49.3 , -34.36]), 28], [array([-26.  , 109.7 , 113.46, -50.24, -34.64]), 37], [array([-18.2 , 110.58, 114.06, -49.98, -34.6 ]), 77], [array([ -8.6 , 111.5 , 114.7 , -49.7 , -34.56]), 84], [array([-23.6 , 110.22, 114.12, -50.56, -34.82]), 93], [array([-14.2 , 111.24, 114.88, -50.24, -34.78]), 19], [array([-24.6 , 109.96, 114.24, -51.14, -35.08]), 37], [array([-16.8 , 110.84, 114.84, -50.88, -35.04]), 77], [array([ -7.2 , 111.76, 115.48, -50.6 , -35.  ]), 79], [array([-30.8 , 110.22, 114.72, -51.94, -35.44]), 79], [array([-24.6 , 111.18, 115.34, -51.62, -35.4 ]), 92], [array([-15.2 , 112.2 , 116.1 , -51.3 , -35.36]), 19], [array([-25.6 , 110.92, 115.46, -52.2 , -35.66]), 37], [array([-17.8 , 111.8 , 116.06, -51.94, -35.62]), 77], [array([ -8.2 , 112.72, 116.7 , -51.66, -35.58]), 84], [array([-23.2 , 111.44, 116.12, -52.52, -35.84]), 93], [array([-13.8 , 112.46, 116.88, -52.2 , -35.8 ]), 19], [array([-24.2 , 111.18, 116.24, -53.1 , -36.1 ]), 37], [array([-16.4 , 112.06, 116.84, -52.84, -36.06]), 28], [array([-26.6 , 110.66, 116.2 , -53.78, -36.34]), 37], [array([-18.8 , 111.54, 116.8 , -53.52, -36.3 ]), 77], [array([ -9.2 , 112.46, 117.44, -53.24, -36.26]), 84], [array([-24.2 , 111.18, 116.86, -54.1 , -36.52]), 93], [array([-14.8 , 112.2 , 117.62, -53.78, -36.48]), 19], [array([-25.2 , 110.92, 116.98, -54.68, -36.78]), 37], [array([-17.4 , 111.8 , 117.58, -54.42, -36.74]), 77], [array([ -7.8 , 112.72, 118.22, -54.14, -36.7 ]), 84], [array([-22.8 , 111.44, 117.64, -55.  , -36.96]), 93], [array([-13.4 , 112.46, 118.4 , -54.68, -36.92]), 19], [array([-23.8 , 111.18, 117.76, -55.58, -37.22]), 37], [array([-16.  , 112.06, 118.36, -55.32, -37.18]), 28], [array([-26.2 , 110.66, 117.72, -56.26, -37.46]), 37], [array([-18.4 , 111.54, 118.32, -56.  , -37.42]), 77], [array([ -8.8 , 112.46, 118.96, -55.72, -37.38]), 84], [array([-23.8 , 111.18, 118.38, -56.58, -37.64]), 93], [array([-14.4 , 112.2 , 119.14, -56.26, -37.6 ]), 19], [array([-24.8 , 110.92, 118.5 , -57.16, -37.9 ]), 37], [array([-17.  , 111.8 , 119.1 , -56.9 , -37.86]), 77], [array([ -7.4 , 112.72, 119.74, -56.62, -37.82]), 84], [array([-22.4 , 111.44, 119.16, -57.48, -38.08]), 93], [array([-13.  , 112.46, 119.92, -57.16, -38.04]), 19], [array([-23.4 , 111.18, 119.28, -58.06, -38.34]), 37], [array([-15.6 , 112.06, 119.88, -57.8 , -38.3 ]), 28], [array([-25.8 , 110.66, 119.24, -58.74, -38.58]), 37], [array([-18.  , 111.54, 119.84, -58.48, -38.54]), 77], [array([ -8.4 , 112.46, 120.48, -58.2 , -38.5 ]), 84], [array([-23.4 , 111.18, 119.9 , -59.06, -38.76]), 93], [array([-14.  , 112.2 , 120.66, -58.74, -38.72]), 19], [array([-24.4 , 110.92, 120.02, -59.64, -39.02]), 37], [array([-16.6 , 111.8 , 120.62, -59.38, -38.98]), 97], [array([ -8.2 , 112.7 , 121.08, -59.12, -38.92]), 97], [array([-22.8 , 111.44, 120.58, -60.1 , -39.22]), 99], [array([-13.6 , 112.4 , 121.18, -59.82, -39.16]), 19], [array([-24.  , 111.12, 120.54, -60.72, -39.46]), 37], [array([-16.2 , 112.  , 121.14, -60.46, -39.42]), 28], [array([-26.4, 110.6, 120.5, -61.4, -39.7]), 37], [array([-18.6 , 111.48, 121.1 , -61.14, -39.66]), 77], [array([ -9.  , 112.4 , 121.74, -60.86, -39.62]), 84], [array([-24.  , 111.12, 121.16, -61.72, -39.88]), 93], [array([-14.6 , 112.14, 121.92, -61.4 , -39.84]), 19], [array([-25.  , 110.86, 121.28, -62.3 , -40.14]), 37], [array([-17.2 , 111.74, 121.88, -62.04, -40.1 ]), 77], [array([ -7.6 , 112.66, 122.52, -61.76, -40.06]), 84], [array([-22.6 , 111.38, 121.94, -62.62, -40.32]), 93], [array([-13.2 , 112.4 , 122.7 , -62.3 , -40.28]), 19], [array([-23.6 , 111.12, 122.06, -63.2 , -40.58]), 37], [array([-15.8 , 112.  , 122.66, -62.94, -40.54]), 28], [array([-26.  , 110.6 , 122.02, -63.88, -40.82]), 37], [array([-18.2 , 111.48, 122.62, -63.62, -40.78]), 77], [array([ -8.6 , 112.4 , 123.26, -63.34, -40.74]), 84], [array([-23.6 , 111.12, 122.68, -64.2 , -41.  ]), 93], [array([-14.2 , 112.14, 123.44, -63.88, -40.96]), 19], [array([-24.6 , 110.86, 122.8 , -64.78, -41.26]), 37], [array([-16.8 , 111.74, 123.4 , -64.52, -41.22]), 97], [array([ -8.4 , 112.64, 123.86, -64.26, -41.16]), 97], [array([-23.  , 111.38, 123.36, -65.24, -41.46]), 99], [array([-13.8 , 112.34, 123.96, -64.96, -41.4 ]), 19], [array([-24.2 , 111.06, 123.32, -65.86, -41.7 ]), 37]]\n"
          ]
        }
      ]
    },
    {
      "cell_type": "markdown",
      "metadata": {
        "id": "B2bjmZVEn8k-"
      },
      "source": [
        "###Testing the Accuracy of the Model"
      ]
    },
    {
      "cell_type": "code",
      "metadata": {
        "colab": {
          "base_uri": "https://localhost:8080/"
        },
        "id": "ue_zJ7GtmZSC",
        "outputId": "2b665e5e-6727-4776-dc12-d7fd944a4ec9"
      },
      "source": [
        "acc_van=count_voted_perc_acc(W1[0],x_test)\n",
        "print(acc_van)"
      ],
      "execution_count": 32,
      "outputs": [
        {
          "output_type": "stream",
          "name": "stdout",
          "text": [
            "0.8888888888888888\n"
          ]
        }
      ]
    },
    {
      "cell_type": "markdown",
      "metadata": {
        "id": "M4O0c87E7q82"
      },
      "source": [
        "### Accuracy vs Number of Epochs Elapsed\n"
      ]
    },
    {
      "cell_type": "code",
      "metadata": {
        "colab": {
          "base_uri": "https://localhost:8080/"
        },
        "id": "f-ZyzyiZ9MwH",
        "outputId": "38c942f7-1668-4406-96df-f19465acef1f"
      },
      "source": [
        "G2=W1[1]\n",
        "#print(G)\n",
        "x=np.arange(len(G2))\n",
        "y=[count_voted_perc_acc(G2[i],x_test) for i in range(len(G2))]\n",
        "print(y)"
      ],
      "execution_count": 37,
      "outputs": [
        {
          "output_type": "stream",
          "name": "stdout",
          "text": [
            "[0.7111111111111111, 0.7333333333333333, 0.7333333333333333, 0.7555555555555555, 0.7555555555555555, 0.7555555555555555, 0.7555555555555555, 0.7555555555555555, 0.7555555555555555, 0.7777777777777778, 0.7777777777777778, 0.7777777777777778, 0.8222222222222222, 0.8444444444444444, 0.8444444444444444, 0.8444444444444444, 0.8444444444444444, 0.8444444444444444, 0.8444444444444444, 0.8444444444444444, 0.8444444444444444, 0.8444444444444444, 0.8444444444444444, 0.8444444444444444, 0.8444444444444444, 0.8444444444444444, 0.8444444444444444, 0.8444444444444444, 0.8444444444444444, 0.8444444444444444, 0.8444444444444444, 0.8444444444444444, 0.8444444444444444, 0.8444444444444444, 0.8444444444444444, 0.8444444444444444, 0.8444444444444444, 0.8444444444444444, 0.8444444444444444, 0.8444444444444444, 0.8444444444444444, 0.8444444444444444, 0.8444444444444444, 0.8666666666666667, 0.8888888888888888, 0.8888888888888888, 0.8888888888888888, 0.8888888888888888, 0.8888888888888888, 0.8888888888888888, 0.8888888888888888, 0.8888888888888888, 0.8888888888888888, 0.8888888888888888, 0.8888888888888888, 0.8888888888888888, 0.8888888888888888, 0.8888888888888888, 0.8888888888888888, 0.8888888888888888, 0.8888888888888888, 0.8888888888888888, 0.8888888888888888, 0.8888888888888888, 0.8888888888888888, 0.8888888888888888, 0.8888888888888888, 0.8888888888888888, 0.8888888888888888, 0.8888888888888888]\n"
          ]
        }
      ]
    },
    {
      "cell_type": "code",
      "metadata": {
        "colab": {
          "base_uri": "https://localhost:8080/",
          "height": 279
        },
        "id": "6PWQYxYZ-hK7",
        "outputId": "be6ee02a-9470-4df1-add2-3f3e9a87083a"
      },
      "source": [
        "plt.plot(x,y)\n",
        "plt.xlabel(\"Epoch\")\n",
        "plt.ylabel(\"Accuracy Achieved (in %)\")\n",
        "plt.show()"
      ],
      "execution_count": 38,
      "outputs": [
        {
          "output_type": "display_data",
          "data": {
            "image/png": "[encoded data removed]",
            "text/plain": [
              "<Figure size 432x288 with 1 Axes>"
            ]
          },
          "metadata": {
            "needs_background": "light"
          }
        }
      ]
    },
    {
      "cell_type": "markdown",
      "metadata": {
        "id": "yaH0Skfw_zYR"
      },
      "source": [
        "It resembles a step function, staying stable at times, with not as much of a sharp incline at first but it does get to a respectable 88.89% more or less.\n",
        "\n",
        "The vanilla perceptron seems to have performed better overall,right from the start but the interesting thing about this voted perceptron is that unlike in the case of the vanilla perceptron, accuracy only ever increased for the voted one, like a monotone function.\n",
        "\n",
        "Suffice it to say that the voting process definitely is interesting.\n",
        "\n",
        "(Note: I used a learning rate of 0.2 but that can be turned up to 1 of course.)"
      ]
    }
  ]
}