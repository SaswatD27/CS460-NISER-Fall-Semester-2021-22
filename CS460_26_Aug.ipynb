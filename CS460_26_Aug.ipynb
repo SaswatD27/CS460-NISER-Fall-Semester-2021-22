{
  "nbformat": 4,
  "nbformat_minor": 0,
  "metadata": {
    "colab": {
      "name": "CS460 26 Aug.ipynb",
      "provenance": [],
      "authorship_tag": "ABX9TyNR9eNqlfRkj3oB2qktCUnn",
      "include_colab_link": true
    },
    "kernelspec": {
      "name": "python3",
      "display_name": "Python 3"
    },
    "language_info": {
      "name": "python"
    }
  },
  "cells": [
    {
      "cell_type": "markdown",
      "metadata": {
        "id": "view-in-github",
        "colab_type": "text"
      },
      "source": [
        "<a href=\"https://colab.research.google.com/github/SaswatD27/CS460-NISER-Fall-Semester-2021-22/blob/main/CS460_26_Aug.ipynb\" target=\"_parent\"><img src=\"https://colab.research.google.com/assets/colab-badge.svg\" alt=\"Open In Colab\"/></a>"
      ]
    },
    {
      "cell_type": "markdown",
      "metadata": {
        "id": "jI6KXUnhh6bI"
      },
      "source": [
        "#**Creating a Dataset with Linear Correlation, Yeehaw**"
      ]
    },
    {
      "cell_type": "code",
      "metadata": {
        "colab": {
          "base_uri": "https://localhost:8080/",
          "height": 279
        },
        "id": "J_fH6pF-gzT6",
        "outputId": "0c7418b9-1e96-4d73-cb74-f75152a06685"
      },
      "source": [
        "import numpy as np\n",
        "from matplotlib import pyplot as plt\n",
        "n=100\n",
        "m=np.random.uniform(-1,1)\n",
        "#print(m)\n",
        "x=np.random.uniform(-5,5,n)\n",
        "#print(x)\n",
        "c=np.random.uniform(-1,1,n)\n",
        "#print(c)\n",
        "y=m*x+c\n",
        "#print(y)\n",
        "plt.scatter(x,y)\n",
        "plt.xlabel(\"x-axis\")\n",
        "plt.ylabel(\"y-axis\")\n",
        "plt.show()"
      ],
      "execution_count": 24,
      "outputs": [
        {
          "output_type": "display_data",
          "data": {
            "image/png": "[encoded data removed]",
            "text/plain": [
              "<Figure size 432x288 with 1 Axes>"
            ]
          },
          "metadata": {
            "needs_background": "light"
          }
        }
      ]
    }
  ]
}