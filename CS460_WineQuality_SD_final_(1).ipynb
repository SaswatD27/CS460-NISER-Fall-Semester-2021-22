{
  "nbformat": 4,
  "nbformat_minor": 0,
  "metadata": {
    "colab": {
      "name": "CS460_WineQuality_SD final (1).ipynb",
      "provenance": [],
      "collapsed_sections": [
        "TVyFpJlClahh",
        "LOvd1i9toLns",
        "ftyNVEJwpKYz"
      ],
      "include_colab_link": true
    },
    "kernelspec": {
      "name": "python3",
      "display_name": "Python 3"
    },
    "language_info": {
      "name": "python"
    }
  },
  "cells": [
    {
      "cell_type": "markdown",
      "metadata": {
        "id": "view-in-github",
        "colab_type": "text"
      },
      "source": [
        "<a href=\"https://colab.research.google.com/github/SaswatD27/CS460-NISER-Fall-Semester-2021-22/blob/main/CS460_WineQuality_SD_final_(1).ipynb\" target=\"_parent\"><img src=\"https://colab.research.google.com/assets/colab-badge.svg\" alt=\"Open In Colab\"/></a>"
      ]
    },
    {
      "cell_type": "code",
      "metadata": {
        "id": "1GFzduaoZcQM"
      },
      "source": [
        "import numpy as np\n",
        "from sklearn.model_selection import train_test_split\n",
        "import random\n",
        "from matplotlib import pyplot as plt\n",
        "import pandas\n",
        "import math"
      ],
      "execution_count": null,
      "outputs": []
    },
    {
      "cell_type": "code",
      "metadata": {
        "id": "lbTIHRysrvUr"
      },
      "source": [
        "db=np.genfromtxt('winequality-red.csv',delimiter=',')\n",
        "db=db[1:]"
      ],
      "execution_count": null,
      "outputs": []
    },
    {
      "cell_type": "code",
      "metadata": {
        "id": "YdylYJbysJoR"
      },
      "source": [
        "X=[x[:-1] for x in db]\n",
        "y=[x[-1] for x in db]\n",
        "X_train, X_test, y_train, y_test = train_test_split(X, y, test_size=0.3)"
      ],
      "execution_count": null,
      "outputs": []
    },
    {
      "cell_type": "markdown",
      "source": [
        "Read from below"
      ],
      "metadata": {
        "id": "RBMVZBavse5N"
      }
    },
    {
      "cell_type": "markdown",
      "metadata": {
        "id": "tho_p6oHqC9C"
      },
      "source": [
        "## From Scratch"
      ]
    },
    {
      "cell_type": "markdown",
      "source": [
        "##9.a Linear Regression Code"
      ],
      "metadata": {
        "id": "1s87h9vhtAeu"
      }
    },
    {
      "cell_type": "markdown",
      "metadata": {
        "id": "TVyFpJlClahh"
      },
      "source": [
        "## 9.a"
      ]
    },
    {
      "cell_type": "code",
      "metadata": {
        "id": "0V5k1icohULE"
      },
      "source": [
        "def SGD_SD(x,y,alpha=0.000005,epochs=1000):#alpha=0.000012658 is fairly good #epochs=1000000 works well\n",
        "  w=np.ones(len(x[0])+1)\n",
        "  #b=1\n",
        "  flag=0\n",
        "  delw=np.zeros(len(w))\n",
        "  n_iter=0\n",
        "  n=len(x)\n",
        "  while n_iter<epochs:\n",
        "    \"\"\"\n",
        "    for i in range(n):\n",
        "      delw+=x[i]*((w*x[i]+b)-y[i])\n",
        "      delb+=((w*x[i]+b)-y[i])\n",
        "    delw*=(2/n)\n",
        "    delb*=(2/n)\n",
        "    \"\"\"\n",
        "    for i in range(n):\n",
        "      j = random.randint(0, n - 1)\n",
        "      X=list(x[j])\n",
        "      X.insert(0,1)\n",
        "      X=np.array(X)\n",
        "      delw=2*(X*(np.dot(w,X)-y[j]))\n",
        "      #delb=2*(np.dot(w,x[i])-y[i])\n",
        "      w-=alpha*delw\n",
        "      #b-=alpha*delb\n",
        "    n_iter+=1\n",
        "    #i=n_iter%len(x)\n",
        "    #print(i,\" done.\", w)\n",
        "  return w#b"
      ],
      "execution_count": null,
      "outputs": []
    },
    {
      "cell_type": "code",
      "metadata": {
        "colab": {
          "base_uri": "https://localhost:8080/"
        },
        "id": "YKrJ0Pzdk4rn",
        "outputId": "04e9c47d-7ffd-4cca-ac7c-8a4e3b4a6db9"
      },
      "source": [
        "alp=1/(314*250)\n",
        "m=SGD_SD(X_train,y_train,alpha=alp,epochs=500) #runs SGD\n",
        "print(loss(X_train,y_train))"
      ],
      "execution_count": null,
      "outputs": [
        {
          "output_type": "stream",
          "name": "stdout",
          "text": [
            "929.5019127641159\n"
          ]
        }
      ]
    },
    {
      "cell_type": "code",
      "metadata": {
        "colab": {
          "base_uri": "https://localhost:8080/"
        },
        "id": "TM2EpR4-leGZ",
        "outputId": "2e753341-36ba-4140-e2e6-309509ce1dfb"
      },
      "source": [
        "alp=1/(314*250) #varies the number of epochs and reports corresponding loss for each number chosen\n",
        "#ep=[200, 350, 500, 750, 1000]\n",
        "ep=[50,100,150,200,250]\n",
        "for epoch in ep:\n",
        "  m=SGD_SD(X_train,y_train,alpha=alp,epochs=epoch)\n",
        "  print(loss(X_train,y_train))"
      ],
      "execution_count": null,
      "outputs": [
        {
          "output_type": "stream",
          "name": "stdout",
          "text": [
            "831.0330168703924\n",
            "2054.604111656549\n",
            "1029.9183673883647\n",
            "836.3574294433404\n",
            "872.8193393211251\n"
          ]
        }
      ]
    },
    {
      "cell_type": "markdown",
      "metadata": {
        "id": "-pLAOT8jk-WA"
      },
      "source": [
        "Loss decreases with increase in number of epochs, usually but as outputs are discrete, this is not a good reflection. Some now omitted code reported a 57.083% accuracy in exact, nearest integer prediction, and 96.67% accuracy with an error of $\\pm 1$, so it predicts wine quality pretty closely."
      ]
    },
    {
      "cell_type": "markdown",
      "metadata": {
        "id": "TELXuR6vnYi6"
      },
      "source": [
        "### 9.b L1\n",
        "This takes cost function as\n",
        "$$\\text{Cost=}\\frac 1 N\\sum_{i=1}^N(y_p^{(i)}-y_a^{(i)})^2+c|w|$$\n",
        "\n",
        "Penalises weights while gradient descent, tends towards nullifying insignificant weights. Reduces overfitting.\n",
        "\n",
        "Bias-variance tradeoff: Variance reduces, so bias increases. Variance reduces as low impact features are penalised, preventing overfitting.\n",
        "\n",
        "Bias increases as some features are nullified or have their impact reduced, leading to underfitting/high bias in some cases (assumes that those features are not important.)"
      ]
    },
    {
      "cell_type": "code",
      "metadata": {
        "id": "X-_YDTISi1oM"
      },
      "source": [
        "#L1\n",
        "def SGD_SD_L1(x,y,alpha=0.000005,epochs=1000,c=0.5):#alpha=0.000012658 is fairly good #epochs=1000000 works well\n",
        "  w=np.ones(len(x[0])+1)\n",
        "  #b=1\n",
        "  flag=0\n",
        "  delw=np.zeros(len(w))\n",
        "  n_iter=0\n",
        "  n=len(x)\n",
        "  while n_iter<epochs:\n",
        "    \"\"\"\n",
        "    for i in range(n):\n",
        "      delw+=x[i]*((w*x[i]+b)-y[i])\n",
        "      delb+=((w*x[i]+b)-y[i])\n",
        "    delw*=(2/n)\n",
        "    delb*=(2/n)\n",
        "    \"\"\"\n",
        "    for i in range(n):\n",
        "      j = random.randint(0, n - 1)\n",
        "      X=list(x[j])\n",
        "      X.insert(0,1)\n",
        "      X=np.array(X)\n",
        "      w1=np.array([abs(a) for a in w])\n",
        "      delw=2*(X*(np.dot(w,X)-y[j]))+c*w1/w\n",
        "      #delb=2*(np.dot(w,x[i])-y[i])\n",
        "      w-=alpha*delw\n",
        "      #b-=alpha*delb\n",
        "    n_iter+=1\n",
        "    #i=n_iter%len(x)\n",
        "    #print(i,\" done.\", w)\n",
        "  return w#b"
      ],
      "execution_count": null,
      "outputs": []
    },
    {
      "cell_type": "code",
      "metadata": {
        "colab": {
          "base_uri": "https://localhost:8080/"
        },
        "id": "lVprY0CXoOMW",
        "outputId": "7ab9eb61-be4e-4d53-cacc-d32452807c57"
      },
      "source": [
        "#Runs LR with SGD with L1 regularisation\n",
        "alp=1/(314*250)\n",
        "m=SGD_SD_L1(X_train,y_train,alpha=alp,epochs=1000,c=0.5)\n",
        "print(loss(X_train,y_train))"
      ],
      "execution_count": null,
      "outputs": [
        {
          "output_type": "stream",
          "name": "stdout",
          "text": [
            "977.4856380455592\n"
          ]
        }
      ]
    },
    {
      "cell_type": "markdown",
      "metadata": {
        "id": "B4gRjvDBpGlL"
      },
      "source": [
        "## 9.c L2\n",
        "\n",
        "This takes cost function as\n",
        "$$\\text{Cost=}\\frac 1 N\\sum_{i=1}^N(y_p^{(i)}-y_a^{(i)})^2+c\\Vert w\\Vert^2$$\n",
        "\n",
        "Penalises weights while gradient descent, but does not nullify them. Reduces overfitting. Better performance than L1.\n",
        "\n",
        "Bias-variance tradeoff: Variance reduces, so bias increases. Variance reduces as low impact features are penalised, preventing overfitting.\n",
        "\n",
        "Bias increases as influence of features decreases, assuming that some of them are not very important."
      ]
    },
    {
      "cell_type": "code",
      "metadata": {
        "id": "ICp3WsBMmh2k"
      },
      "source": [
        "#L2\n",
        "def SGD_SD_L2(x,y,alpha=0.000005,epochs=1000,c=0.5):#alpha=0.000012658 is fairly good #epochs=1000000 works well\n",
        "  w=np.ones(len(x[0])+1)\n",
        "  #b=1\n",
        "  flag=0\n",
        "  delw=np.zeros(len(w))\n",
        "  n_iter=0\n",
        "  n=len(x)\n",
        "  while n_iter<epochs:\n",
        "    \"\"\"\n",
        "    for i in range(n):\n",
        "      delw+=x[i]*((w*x[i]+b)-y[i])\n",
        "      delb+=((w*x[i]+b)-y[i])\n",
        "    delw*=(2/n)\n",
        "    delb*=(2/n)\n",
        "    \"\"\"\n",
        "    for i in range(n):\n",
        "      j = random.randint(0, n - 1)\n",
        "      X=list(x[j])\n",
        "      X.insert(0,1)\n",
        "      X=np.array(X)\n",
        "      delw=2*(X*(np.dot(w,X)-y[j]))+2*c*w\n",
        "      #delb=2*(np.dot(w,x[i])-y[i])\n",
        "      w-=alpha*delw\n",
        "      #b-=alpha*delb\n",
        "    n_iter+=1\n",
        "    #i=n_iter%len(x)\n",
        "    #print(i,\" done.\", w)\n",
        "  return w#b"
      ],
      "execution_count": null,
      "outputs": []
    },
    {
      "cell_type": "code",
      "metadata": {
        "id": "PbExLuGejk1d"
      },
      "source": [
        "def pred_y(m,x): #prediction\n",
        "  return np.dot(x,m[1:])+m[0]"
      ],
      "execution_count": null,
      "outputs": []
    },
    {
      "cell_type": "code",
      "metadata": {
        "id": "RqpOzF4Ki9w-"
      },
      "source": [
        "def loss(x_t,y_t): #calculates loss\n",
        "  sum=0\n",
        "  for x in x_t:\n",
        "    for y in y_t:\n",
        "      sum+=(pred_y(m,x)-y)**2\n",
        "  return sum/len(x_t)"
      ],
      "execution_count": null,
      "outputs": []
    },
    {
      "cell_type": "code",
      "metadata": {
        "colab": {
          "base_uri": "https://localhost:8080/"
        },
        "id": "F7oXtjhlpMna",
        "outputId": "ed392499-8f70-4b48-cf65-efb881e91e23"
      },
      "source": [
        "#Runs L2 SGD, reports loss\n",
        "alp=1/(314*250)\n",
        "m=SGD_SD_L2(X_train,y_train,alpha=alp,epochs=1000,c=0.5)\n",
        "print(loss(X_train,y_train))"
      ],
      "execution_count": null,
      "outputs": [
        {
          "output_type": "stream",
          "name": "stdout",
          "text": [
            "989.6298035043067\n"
          ]
        }
      ]
    },
    {
      "cell_type": "markdown",
      "metadata": {
        "id": "LOvd1i9toLns"
      },
      "source": [
        "## 9.d For L1"
      ]
    },
    {
      "cell_type": "code",
      "metadata": {
        "id": "MqzP3u0TqGDm"
      },
      "source": [
        "#Runs L1 SGD and collects data on value of hyperparameter vs loss\n",
        "alp=1/(314*250)\n",
        "#ep=[200, 350, 500, 750, 1000]\n",
        "hyp=[0.1,0.25,0.5,1,1.5,2,3,4,5]\n",
        "loss_1=[]\n",
        "for c1 in hyp:\n",
        "  m=SGD_SD_L1(X_train,y_train,alpha=alp,epochs=200,c=c1)\n",
        "  loss_1.append(loss(X_train,y_train))"
      ],
      "execution_count": null,
      "outputs": []
    },
    {
      "cell_type": "code",
      "metadata": {
        "colab": {
          "base_uri": "https://localhost:8080/"
        },
        "id": "ctr8svcar41H",
        "outputId": "6182098a-4c3a-4726-a306-760984ef99ef"
      },
      "source": [
        "print(loss_1)"
      ],
      "execution_count": null,
      "outputs": [
        {
          "output_type": "stream",
          "name": "stdout",
          "text": [
            "[886.8299217889975, 938.1213867129351, 987.6017713671437, 1102.2248255720049, 978.4634944120997, 1100.1913282946218, 1030.7829216297048, 1096.7207985906216, 1097.809087543475]\n"
          ]
        }
      ]
    },
    {
      "cell_type": "code",
      "metadata": {
        "colab": {
          "base_uri": "https://localhost:8080/",
          "height": 265
        },
        "id": "K8w1n41JqdTo",
        "outputId": "dc6b3617-1aa5-4e82-f075-18633c143e94"
      },
      "source": [
        "#plot: value of hyperparameter (x) vs loss (y)\n",
        "plt.plot(range(len(hyp)),loss_1)\n",
        "plt.show()"
      ],
      "execution_count": null,
      "outputs": [
        {
          "output_type": "display_data",
          "data": {
            "image/png": "[encoded data removed]",
            "text/plain": [
              "<Figure size 432x288 with 1 Axes>"
            ]
          },
          "metadata": {
            "needs_background": "light"
          }
        }
      ]
    },
    {
      "cell_type": "markdown",
      "metadata": {
        "id": "i8iJwFAssxbo"
      },
      "source": [
        "Upward trend in loss which then stabilises as hyperparameter increases. Note that the jaggedness could be due to the nature of the dataset, with discrete labels. (This dataset is popular for regression anyway and rounded off predictions give good accuracy.) Curve nearly plateaus at a point and does not increase beyond a point."
      ]
    },
    {
      "cell_type": "markdown",
      "metadata": {
        "id": "ftyNVEJwpKYz"
      },
      "source": [
        "## 9.d for L2"
      ]
    },
    {
      "cell_type": "markdown",
      "metadata": {
        "id": "NbcA7ZwRsHad"
      },
      "source": [
        "Varying hyperparameters"
      ]
    },
    {
      "cell_type": "code",
      "metadata": {
        "id": "yo5WbFaZpbrN"
      },
      "source": [
        "#Runs L2 SGD to collect data on value of hyperparameter vs loss\n",
        "alp=1/(314*250)\n",
        "#ep=[200, 350, 500, 750, 1000]\n",
        "hyp=[0.1,0.25,0.5,1,1.5,2,3,4,5]\n",
        "loss_2=[]\n",
        "for c1 in hyp:\n",
        "  m=SGD_SD_L2(X_train,y_train,alpha=alp,epochs=200,c=c1)\n",
        "  loss_2.append(loss(X_train,y_train))"
      ],
      "execution_count": null,
      "outputs": []
    },
    {
      "cell_type": "code",
      "metadata": {
        "colab": {
          "base_uri": "https://localhost:8080/"
        },
        "id": "MES4CBx7r2Hn",
        "outputId": "fe6a6f58-1c10-4fad-90c6-168ff28cea58"
      },
      "source": [
        "print(loss_2)"
      ],
      "execution_count": null,
      "outputs": [
        {
          "output_type": "stream",
          "name": "stdout",
          "text": [
            "[859.1228095144558, 896.3353596352525, 926.8036575891444, 922.0921981880491, 947.9248958468105, 943.3392084432952, 938.5321742489293, 959.4110267446148, 962.3886498960587]\n"
          ]
        }
      ]
    },
    {
      "cell_type": "code",
      "metadata": {
        "colab": {
          "base_uri": "https://localhost:8080/",
          "height": 265
        },
        "id": "rsKzlHlbrvmz",
        "outputId": "e12a132b-2377-4227-fd9c-5e3450013815"
      },
      "source": [
        "#Plot: value of hyperparameter (x) vs loss (y)\n",
        "plt.plot(range(len(hyp)),loss_2)\n",
        "plt.show()"
      ],
      "execution_count": null,
      "outputs": [
        {
          "output_type": "display_data",
          "data": {
            "image/png": "[encoded data removed]",
            "text/plain": [
              "<Figure size 432x288 with 1 Axes>"
            ]
          },
          "metadata": {
            "needs_background": "light"
          }
        }
      ]
    },
    {
      "cell_type": "markdown",
      "metadata": {
        "id": "xibJ31Jns68x"
      },
      "source": [
        "Upward trend in loss which then stabilises as hyperparameter increases. Much smoother than L1, more gradual and pronounced upward trend. No significant plateau observed for high hyperparameter"
      ]
    }
  ]
}