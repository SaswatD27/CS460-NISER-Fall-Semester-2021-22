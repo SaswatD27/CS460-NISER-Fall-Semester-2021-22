{
  "nbformat": 4,
  "nbformat_minor": 0,
  "metadata": {
    "colab": {
      "name": "MyPerceptrons.ipynb",
      "provenance": [],
      "authorship_tag": "ABX9TyPaHgM9jEDUv+U+wiZ/BfOS",
      "include_colab_link": true
    },
    "kernelspec": {
      "name": "python3",
      "display_name": "Python 3"
    },
    "language_info": {
      "name": "python"
    }
  },
  "cells": [
    {
      "cell_type": "markdown",
      "metadata": {
        "id": "view-in-github",
        "colab_type": "text"
      },
      "source": [
        "<a href=\"https://colab.research.google.com/github/SaswatD27/CS460-NISER-Fall-Semester-2021-22/blob/main/MyPerceptrons%20-%2023%20Sept%20'21.ipynb\" target=\"_parent\"><img src=\"https://colab.research.google.com/assets/colab-badge.svg\" alt=\"Open In Colab\"/></a>"
      ]
    },
    {
      "cell_type": "markdown",
      "metadata": {
        "id": "SlKahsOMd6NP"
      },
      "source": [
        "#**Me and My Three Brain Cells : Perceptrons!**"
      ]
    },
    {
      "cell_type": "code",
      "metadata": {
        "id": "3mWuGR4fvOkX"
      },
      "source": [
        "import numpy as np\n",
        "from matplotlib import pyplot as plt"
      ],
      "execution_count": null,
      "outputs": []
    },
    {
      "cell_type": "code",
      "metadata": {
        "colab": {
          "base_uri": "https://localhost:8080/"
        },
        "id": "mlH8PuVf1tpL",
        "outputId": "c13fc68f-b96a-4b47-8d82-d022fecd3765"
      },
      "source": [
        "db=np.genfromtxt('Iris1.csv',delimiter=',')#Checking whether a given flower is of the Iris Setosa species or not\n",
        "db=db[1:]\n",
        "print(db)"
      ],
      "execution_count": 72,
      "outputs": [
        {
          "output_type": "stream",
          "name": "stdout",
          "text": [
            "[[ 1.00e+00  5.10e+00  3.50e+00  1.40e+00  2.00e-01  1.00e+00]\n",
            " [ 2.00e+00  4.90e+00  3.00e+00  1.40e+00  2.00e-01  1.00e+00]\n",
            " [ 3.00e+00  4.70e+00  3.20e+00  1.30e+00  2.00e-01  1.00e+00]\n",
            " [ 4.00e+00  4.60e+00  3.10e+00  1.50e+00  2.00e-01  1.00e+00]\n",
            " [ 5.00e+00  5.00e+00  3.60e+00  1.40e+00  2.00e-01  1.00e+00]\n",
            " [ 6.00e+00  5.40e+00  3.90e+00  1.70e+00  4.00e-01  1.00e+00]\n",
            " [ 7.00e+00  4.60e+00  3.40e+00  1.40e+00  3.00e-01  1.00e+00]\n",
            " [ 8.00e+00  5.00e+00  3.40e+00  1.50e+00  2.00e-01  1.00e+00]\n",
            " [ 9.00e+00  4.40e+00  2.90e+00  1.40e+00  2.00e-01  1.00e+00]\n",
            " [ 1.00e+01  4.90e+00  3.10e+00  1.50e+00  1.00e-01  1.00e+00]\n",
            " [ 1.10e+01  5.40e+00  3.70e+00  1.50e+00  2.00e-01  1.00e+00]\n",
            " [ 1.20e+01  4.80e+00  3.40e+00  1.60e+00  2.00e-01  1.00e+00]\n",
            " [ 1.30e+01  4.80e+00  3.00e+00  1.40e+00  1.00e-01  1.00e+00]\n",
            " [ 1.40e+01  4.30e+00  3.00e+00  1.10e+00  1.00e-01  1.00e+00]\n",
            " [ 1.50e+01  5.80e+00  4.00e+00  1.20e+00  2.00e-01  1.00e+00]\n",
            " [ 1.60e+01  5.70e+00  4.40e+00  1.50e+00  4.00e-01  1.00e+00]\n",
            " [ 1.70e+01  5.40e+00  3.90e+00  1.30e+00  4.00e-01  1.00e+00]\n",
            " [ 1.80e+01  5.10e+00  3.50e+00  1.40e+00  3.00e-01  1.00e+00]\n",
            " [ 1.90e+01  5.70e+00  3.80e+00  1.70e+00  3.00e-01  1.00e+00]\n",
            " [ 2.00e+01  5.10e+00  3.80e+00  1.50e+00  3.00e-01  1.00e+00]\n",
            " [ 2.10e+01  5.40e+00  3.40e+00  1.70e+00  2.00e-01  1.00e+00]\n",
            " [ 2.20e+01  5.10e+00  3.70e+00  1.50e+00  4.00e-01  1.00e+00]\n",
            " [ 2.30e+01  4.60e+00  3.60e+00  1.00e+00  2.00e-01  1.00e+00]\n",
            " [ 2.40e+01  5.10e+00  3.30e+00  1.70e+00  5.00e-01  1.00e+00]\n",
            " [ 2.50e+01  4.80e+00  3.40e+00  1.90e+00  2.00e-01  1.00e+00]\n",
            " [ 2.60e+01  5.00e+00  3.00e+00  1.60e+00  2.00e-01  1.00e+00]\n",
            " [ 2.70e+01  5.00e+00  3.40e+00  1.60e+00  4.00e-01  1.00e+00]\n",
            " [ 2.80e+01  5.20e+00  3.50e+00  1.50e+00  2.00e-01  1.00e+00]\n",
            " [ 2.90e+01  5.20e+00  3.40e+00  1.40e+00  2.00e-01  1.00e+00]\n",
            " [ 3.00e+01  4.70e+00  3.20e+00  1.60e+00  2.00e-01  1.00e+00]\n",
            " [ 3.10e+01  4.80e+00  3.10e+00  1.60e+00  2.00e-01  1.00e+00]\n",
            " [ 3.20e+01  5.40e+00  3.40e+00  1.50e+00  4.00e-01  1.00e+00]\n",
            " [ 3.30e+01  5.20e+00  4.10e+00  1.50e+00  1.00e-01  1.00e+00]\n",
            " [ 3.40e+01  5.50e+00  4.20e+00  1.40e+00  2.00e-01  1.00e+00]\n",
            " [ 3.50e+01  4.90e+00  3.10e+00  1.50e+00  1.00e-01  1.00e+00]\n",
            " [ 3.60e+01  5.00e+00  3.20e+00  1.20e+00  2.00e-01  1.00e+00]\n",
            " [ 3.70e+01  5.50e+00  3.50e+00  1.30e+00  2.00e-01  1.00e+00]\n",
            " [ 3.80e+01  4.90e+00  3.10e+00  1.50e+00  1.00e-01  1.00e+00]\n",
            " [ 3.90e+01  4.40e+00  3.00e+00  1.30e+00  2.00e-01  1.00e+00]\n",
            " [ 4.00e+01  5.10e+00  3.40e+00  1.50e+00  2.00e-01  1.00e+00]\n",
            " [ 4.10e+01  5.00e+00  3.50e+00  1.30e+00  3.00e-01  1.00e+00]\n",
            " [ 4.20e+01  4.50e+00  2.30e+00  1.30e+00  3.00e-01  1.00e+00]\n",
            " [ 4.30e+01  4.40e+00  3.20e+00  1.30e+00  2.00e-01  1.00e+00]\n",
            " [ 4.40e+01  5.00e+00  3.50e+00  1.60e+00  6.00e-01  1.00e+00]\n",
            " [ 4.50e+01  5.10e+00  3.80e+00  1.90e+00  4.00e-01  1.00e+00]\n",
            " [ 4.60e+01  4.80e+00  3.00e+00  1.40e+00  3.00e-01  1.00e+00]\n",
            " [ 4.70e+01  5.10e+00  3.80e+00  1.60e+00  2.00e-01  1.00e+00]\n",
            " [ 4.80e+01  4.60e+00  3.20e+00  1.40e+00  2.00e-01  1.00e+00]\n",
            " [ 4.90e+01  5.30e+00  3.70e+00  1.50e+00  2.00e-01  1.00e+00]\n",
            " [ 5.00e+01  5.00e+00  3.30e+00  1.40e+00  2.00e-01  1.00e+00]\n",
            " [ 5.10e+01  7.00e+00  3.20e+00  4.70e+00  1.40e+00 -1.00e+00]\n",
            " [ 5.20e+01  6.40e+00  3.20e+00  4.50e+00  1.50e+00 -1.00e+00]\n",
            " [ 5.30e+01  6.90e+00  3.10e+00  4.90e+00  1.50e+00 -1.00e+00]\n",
            " [ 5.40e+01  5.50e+00  2.30e+00  4.00e+00  1.30e+00 -1.00e+00]\n",
            " [ 5.50e+01  6.50e+00  2.80e+00  4.60e+00  1.50e+00 -1.00e+00]\n",
            " [ 5.60e+01  5.70e+00  2.80e+00  4.50e+00  1.30e+00 -1.00e+00]\n",
            " [ 5.70e+01  6.30e+00  3.30e+00  4.70e+00  1.60e+00 -1.00e+00]\n",
            " [ 5.80e+01  4.90e+00  2.40e+00  3.30e+00  1.00e+00 -1.00e+00]\n",
            " [ 5.90e+01  6.60e+00  2.90e+00  4.60e+00  1.30e+00 -1.00e+00]\n",
            " [ 6.00e+01  5.20e+00  2.70e+00  3.90e+00  1.40e+00 -1.00e+00]\n",
            " [ 6.10e+01  5.00e+00  2.00e+00  3.50e+00  1.00e+00 -1.00e+00]\n",
            " [ 6.20e+01  5.90e+00  3.00e+00  4.20e+00  1.50e+00 -1.00e+00]\n",
            " [ 6.30e+01  6.00e+00  2.20e+00  4.00e+00  1.00e+00 -1.00e+00]\n",
            " [ 6.40e+01  6.10e+00  2.90e+00  4.70e+00  1.40e+00 -1.00e+00]\n",
            " [ 6.50e+01  5.60e+00  2.90e+00  3.60e+00  1.30e+00 -1.00e+00]\n",
            " [ 6.60e+01  6.70e+00  3.10e+00  4.40e+00  1.40e+00 -1.00e+00]\n",
            " [ 6.70e+01  5.60e+00  3.00e+00  4.50e+00  1.50e+00 -1.00e+00]\n",
            " [ 6.80e+01  5.80e+00  2.70e+00  4.10e+00  1.00e+00 -1.00e+00]\n",
            " [ 6.90e+01  6.20e+00  2.20e+00  4.50e+00  1.50e+00 -1.00e+00]\n",
            " [ 7.00e+01  5.60e+00  2.50e+00  3.90e+00  1.10e+00 -1.00e+00]\n",
            " [ 7.10e+01  5.90e+00  3.20e+00  4.80e+00  1.80e+00 -1.00e+00]\n",
            " [ 7.20e+01  6.10e+00  2.80e+00  4.00e+00  1.30e+00 -1.00e+00]\n",
            " [ 7.30e+01  6.30e+00  2.50e+00  4.90e+00  1.50e+00 -1.00e+00]\n",
            " [ 7.40e+01  6.10e+00  2.80e+00  4.70e+00  1.20e+00 -1.00e+00]\n",
            " [ 7.50e+01  6.40e+00  2.90e+00  4.30e+00  1.30e+00 -1.00e+00]\n",
            " [ 7.60e+01  6.60e+00  3.00e+00  4.40e+00  1.40e+00 -1.00e+00]\n",
            " [ 7.70e+01  6.80e+00  2.80e+00  4.80e+00  1.40e+00 -1.00e+00]\n",
            " [ 7.80e+01  6.70e+00  3.00e+00  5.00e+00  1.70e+00 -1.00e+00]\n",
            " [ 7.90e+01  6.00e+00  2.90e+00  4.50e+00  1.50e+00 -1.00e+00]\n",
            " [ 8.00e+01  5.70e+00  2.60e+00  3.50e+00  1.00e+00 -1.00e+00]\n",
            " [ 8.10e+01  5.50e+00  2.40e+00  3.80e+00  1.10e+00 -1.00e+00]\n",
            " [ 8.20e+01  5.50e+00  2.40e+00  3.70e+00  1.00e+00 -1.00e+00]\n",
            " [ 8.30e+01  5.80e+00  2.70e+00  3.90e+00  1.20e+00 -1.00e+00]\n",
            " [ 8.40e+01  6.00e+00  2.70e+00  5.10e+00  1.60e+00 -1.00e+00]\n",
            " [ 8.50e+01  5.40e+00  3.00e+00  4.50e+00  1.50e+00 -1.00e+00]\n",
            " [ 8.60e+01  6.00e+00  3.40e+00  4.50e+00  1.60e+00 -1.00e+00]\n",
            " [ 8.70e+01  6.70e+00  3.10e+00  4.70e+00  1.50e+00 -1.00e+00]\n",
            " [ 8.80e+01  6.30e+00  2.30e+00  4.40e+00  1.30e+00 -1.00e+00]\n",
            " [ 8.90e+01  5.60e+00  3.00e+00  4.10e+00  1.30e+00 -1.00e+00]\n",
            " [ 9.00e+01  5.50e+00  2.50e+00  4.00e+00  1.30e+00 -1.00e+00]\n",
            " [ 9.10e+01  5.50e+00  2.60e+00  4.40e+00  1.20e+00 -1.00e+00]\n",
            " [ 9.20e+01  6.10e+00  3.00e+00  4.60e+00  1.40e+00 -1.00e+00]\n",
            " [ 9.30e+01  5.80e+00  2.60e+00  4.00e+00  1.20e+00 -1.00e+00]\n",
            " [ 9.40e+01  5.00e+00  2.30e+00  3.30e+00  1.00e+00 -1.00e+00]\n",
            " [ 9.50e+01  5.60e+00  2.70e+00  4.20e+00  1.30e+00 -1.00e+00]\n",
            " [ 9.60e+01  5.70e+00  3.00e+00  4.20e+00  1.20e+00 -1.00e+00]\n",
            " [ 9.70e+01  5.70e+00  2.90e+00  4.20e+00  1.30e+00 -1.00e+00]\n",
            " [ 9.80e+01  6.20e+00  2.90e+00  4.30e+00  1.30e+00 -1.00e+00]\n",
            " [ 9.90e+01  5.10e+00  2.50e+00  3.00e+00  1.10e+00 -1.00e+00]\n",
            " [ 1.00e+02  5.70e+00  2.80e+00  4.10e+00  1.30e+00 -1.00e+00]\n",
            " [ 1.01e+02  6.30e+00  3.30e+00  6.00e+00  2.50e+00 -1.00e+00]\n",
            " [ 1.02e+02  5.80e+00  2.70e+00  5.10e+00  1.90e+00 -1.00e+00]\n",
            " [ 1.03e+02  7.10e+00  3.00e+00  5.90e+00  2.10e+00 -1.00e+00]\n",
            " [ 1.04e+02  6.30e+00  2.90e+00  5.60e+00  1.80e+00 -1.00e+00]\n",
            " [ 1.05e+02  6.50e+00  3.00e+00  5.80e+00  2.20e+00 -1.00e+00]\n",
            " [ 1.06e+02  7.60e+00  3.00e+00  6.60e+00  2.10e+00 -1.00e+00]\n",
            " [ 1.07e+02  4.90e+00  2.50e+00  4.50e+00  1.70e+00 -1.00e+00]\n",
            " [ 1.08e+02  7.30e+00  2.90e+00  6.30e+00  1.80e+00 -1.00e+00]\n",
            " [ 1.09e+02  6.70e+00  2.50e+00  5.80e+00  1.80e+00 -1.00e+00]\n",
            " [ 1.10e+02  7.20e+00  3.60e+00  6.10e+00  2.50e+00 -1.00e+00]\n",
            " [ 1.11e+02  6.50e+00  3.20e+00  5.10e+00  2.00e+00 -1.00e+00]\n",
            " [ 1.12e+02  6.40e+00  2.70e+00  5.30e+00  1.90e+00 -1.00e+00]\n",
            " [ 1.13e+02  6.80e+00  3.00e+00  5.50e+00  2.10e+00 -1.00e+00]\n",
            " [ 1.14e+02  5.70e+00  2.50e+00  5.00e+00  2.00e+00 -1.00e+00]\n",
            " [ 1.15e+02  5.80e+00  2.80e+00  5.10e+00  2.40e+00 -1.00e+00]\n",
            " [ 1.16e+02  6.40e+00  3.20e+00  5.30e+00  2.30e+00 -1.00e+00]\n",
            " [ 1.17e+02  6.50e+00  3.00e+00  5.50e+00  1.80e+00 -1.00e+00]\n",
            " [ 1.18e+02  7.70e+00  3.80e+00  6.70e+00  2.20e+00 -1.00e+00]\n",
            " [ 1.19e+02  7.70e+00  2.60e+00  6.90e+00  2.30e+00 -1.00e+00]\n",
            " [ 1.20e+02  6.00e+00  2.20e+00  5.00e+00  1.50e+00 -1.00e+00]\n",
            " [ 1.21e+02  6.90e+00  3.20e+00  5.70e+00  2.30e+00 -1.00e+00]\n",
            " [ 1.22e+02  5.60e+00  2.80e+00  4.90e+00  2.00e+00 -1.00e+00]\n",
            " [ 1.23e+02  7.70e+00  2.80e+00  6.70e+00  2.00e+00 -1.00e+00]\n",
            " [ 1.24e+02  6.30e+00  2.70e+00  4.90e+00  1.80e+00 -1.00e+00]\n",
            " [ 1.25e+02  6.70e+00  3.30e+00  5.70e+00  2.10e+00 -1.00e+00]\n",
            " [ 1.26e+02  7.20e+00  3.20e+00  6.00e+00  1.80e+00 -1.00e+00]\n",
            " [ 1.27e+02  6.20e+00  2.80e+00  4.80e+00  1.80e+00 -1.00e+00]\n",
            " [ 1.28e+02  6.10e+00  3.00e+00  4.90e+00  1.80e+00 -1.00e+00]\n",
            " [ 1.29e+02  6.40e+00  2.80e+00  5.60e+00  2.10e+00 -1.00e+00]\n",
            " [ 1.30e+02  7.20e+00  3.00e+00  5.80e+00  1.60e+00 -1.00e+00]\n",
            " [ 1.31e+02  7.40e+00  2.80e+00  6.10e+00  1.90e+00 -1.00e+00]\n",
            " [ 1.32e+02  7.90e+00  3.80e+00  6.40e+00  2.00e+00 -1.00e+00]\n",
            " [ 1.33e+02  6.40e+00  2.80e+00  5.60e+00  2.20e+00 -1.00e+00]\n",
            " [ 1.34e+02  6.30e+00  2.80e+00  5.10e+00  1.50e+00 -1.00e+00]\n",
            " [ 1.35e+02  6.10e+00  2.60e+00  5.60e+00  1.40e+00 -1.00e+00]\n",
            " [ 1.36e+02  7.70e+00  3.00e+00  6.10e+00  2.30e+00 -1.00e+00]\n",
            " [ 1.37e+02  6.30e+00  3.40e+00  5.60e+00  2.40e+00 -1.00e+00]\n",
            " [ 1.38e+02  6.40e+00  3.10e+00  5.50e+00  1.80e+00 -1.00e+00]\n",
            " [ 1.39e+02  6.00e+00  3.00e+00  4.80e+00  1.80e+00 -1.00e+00]\n",
            " [ 1.40e+02  6.90e+00  3.10e+00  5.40e+00  2.10e+00 -1.00e+00]\n",
            " [ 1.41e+02  6.70e+00  3.10e+00  5.60e+00  2.40e+00 -1.00e+00]\n",
            " [ 1.42e+02  6.90e+00  3.10e+00  5.10e+00  2.30e+00 -1.00e+00]\n",
            " [ 1.43e+02  5.80e+00  2.70e+00  5.10e+00  1.90e+00 -1.00e+00]\n",
            " [ 1.44e+02  6.80e+00  3.20e+00  5.90e+00  2.30e+00 -1.00e+00]\n",
            " [ 1.45e+02  6.70e+00  3.30e+00  5.70e+00  2.50e+00 -1.00e+00]\n",
            " [ 1.46e+02  6.70e+00  3.00e+00  5.20e+00  2.30e+00 -1.00e+00]\n",
            " [ 1.47e+02  6.30e+00  2.50e+00  5.00e+00  1.90e+00 -1.00e+00]\n",
            " [ 1.48e+02  6.50e+00  3.00e+00  5.20e+00  2.00e+00 -1.00e+00]\n",
            " [ 1.49e+02  6.20e+00  3.40e+00  5.40e+00  2.30e+00 -1.00e+00]\n",
            " [ 1.50e+02  5.90e+00  3.00e+00  5.10e+00  1.80e+00 -1.00e+00]]\n"
          ]
        }
      ]
    },
    {
      "cell_type": "markdown",
      "metadata": {
        "id": "8SascV5VnC0o"
      },
      "source": [
        "##**1. Normal Vanilla Perceptron**\n",
        "###Training Algorithm"
      ]
    },
    {
      "cell_type": "code",
      "metadata": {
        "id": "cUAZtUF3vd61"
      },
      "source": [
        "def perc_train(db):\n",
        "  w=np.zeros(len(db[0])-1)\n",
        "  G=[]\n",
        "  a=0\n",
        "  flag=0\n",
        "  i=0\n",
        "  epoch=0\n",
        "  nu=0.2\n",
        "  while(flag!=1):\n",
        "    count=0\n",
        "    for x in db:\n",
        "      i+=1\n",
        "      #print(x,i)\n",
        "      a=np.dot(w,x[:-1])\n",
        "      #print(a)\n",
        "      if a*x[-1]<=0:\n",
        "        count+=1\n",
        "        w+=(nu*x[-1])*x[:-1]\n",
        "    epoch+=1\n",
        "    print(\"Epoch - \",epoch,\" done.\",\"\\n w =\",w)\n",
        "    G.append(w.copy())\n",
        "    #print(G)\n",
        "    if count==0:\n",
        "      flag=1\n",
        "  return [w,G]"
      ],
      "execution_count": 139,
      "outputs": []
    },
    {
      "cell_type": "markdown",
      "metadata": {
        "id": "YmGYpIp6nUmg"
      },
      "source": [
        "###Prediction and Testing Functions"
      ]
    },
    {
      "cell_type": "code",
      "metadata": {
        "id": "oiLzOzfUwIoO"
      },
      "source": [
        "def perc_pred(w,x):\n",
        "  #print(np.sign(np.dot(w,x)))\n",
        "  return np.sign(np.dot(w,x))\n",
        "def count_perc_acc(w,db):\n",
        "  count=0\n",
        "  for x in db:\n",
        "    if x[-1]==perc_pred(w,x[:-1]):\n",
        "      count+=1\n",
        "  return count/len(db)"
      ],
      "execution_count": 140,
      "outputs": []
    },
    {
      "cell_type": "markdown",
      "metadata": {
        "id": "jNWwA3TanZoh"
      },
      "source": [
        "###Actual Training on the Dataset"
      ]
    },
    {
      "cell_type": "code",
      "metadata": {
        "colab": {
          "base_uri": "https://localhost:8080/"
        },
        "id": "0TlPVbaS8KAK",
        "outputId": "237ebbee-3bf2-407d-ff86-f048f54a3ed2"
      },
      "source": [
        "w1=perc_train(db)\n",
        "print(w1[0])"
      ],
      "execution_count": 141,
      "outputs": [
        {
          "output_type": "stream",
          "name": "stdout",
          "text": [
            "Epoch -  1  done. \n",
            " w = [-10.    -0.38   0.06  -0.66  -0.24]\n",
            "Epoch -  2  done. \n",
            " w = [-5.    7.1   5.46  1.06 -0.14]\n",
            "Epoch -  3  done. \n",
            " w = [-7.8   7.62  6.18  0.82 -0.34]\n",
            "Epoch -  4  done. \n",
            " w = [-9.8   9.26  7.58  0.84 -0.5 ]\n",
            "Epoch -  5  done. \n",
            " w = [-9.   11.66  9.48  1.14 -0.64]\n",
            "Epoch -  6  done. \n",
            " w = [-10.2   13.02  10.74   0.96  -0.82]\n",
            "Epoch -  7  done. \n",
            " w = [-11.6   14.48  12.02   0.88  -0.96]\n",
            "Epoch -  8  done. \n",
            " w = [-5.6  16.82 13.92  1.06 -1.08]\n",
            "Epoch -  9  done. \n",
            " w = [-11.2   16.34  14.     0.32  -1.32]\n",
            "Epoch -  10  done. \n",
            " w = [-11.4   17.78  15.3    0.26  -1.44]\n",
            "Epoch -  11  done. \n",
            " w = [-9.4 19.3 16.6  0.2 -1.6]\n",
            "Epoch -  12  done. \n",
            " w = [-10.2   19.96  17.34  -0.18  -1.78]\n",
            "Epoch -  13  done. \n",
            " w = [-13.    20.34  18.02  -0.7   -2.  ]\n",
            "Epoch -  14  done. \n",
            " w = [-11.8   21.92  19.28  -0.76  -2.16]\n",
            "Epoch -  15  done. \n",
            " w = [-7.   23.28 20.58 -0.92 -2.3 ]\n",
            "Epoch -  16  done. \n",
            " w = [-12.    22.88  20.54  -1.54  -2.54]\n",
            "Epoch -  17  done. \n",
            " w = [-7.2  24.24 21.84 -1.7  -2.68]\n",
            "Epoch -  18  done. \n",
            " w = [-12.2   23.84  21.8   -2.32  -2.92]\n",
            "Epoch -  19  done. \n",
            " w = [-7.4  25.2  23.1  -2.48 -3.06]\n",
            "Epoch -  20  done. \n",
            " w = [-12.4   24.8   23.06  -3.1   -3.3 ]\n",
            "Epoch -  21  done. \n",
            " w = [-7.4  26.06 24.34 -3.36 -3.48]\n",
            "Epoch -  22  done. \n",
            " w = [-11.8   25.7   24.38  -4.02  -3.72]\n",
            "Epoch -  23  done. \n",
            " w = [-13.2   26.32  25.04  -4.36  -3.9 ]\n",
            "Epoch -  24  done. \n",
            " w = [-8.6  27.78 26.36 -4.48 -4.06]\n",
            "Epoch -  25  done. \n",
            " w = [-13.8   27.34  26.4   -5.04  -4.3 ]\n",
            "Epoch -  26  done. \n",
            " w = [-9.8  28.8  27.72 -5.16 -4.46]\n",
            "Epoch -  27  done. \n",
            " w = [-6.8  29.32 28.2  -5.5  -4.58]\n",
            "Epoch -  28  done. \n",
            " w = [-10.    28.9   28.18  -6.14  -4.84]\n",
            "Epoch -  29  done. \n",
            " w = [-7.8  29.3  28.86 -6.62 -5.04]\n",
            "Epoch -  30  done. \n",
            " w = [-12.    28.84  28.86  -7.24  -5.28]\n",
            "Epoch -  31  done. \n",
            " w = [-12.    29.46  29.54  -7.52  -5.48]\n",
            "Epoch -  32  done. \n",
            " w = [-12.    30.08  30.22  -7.8   -5.68]\n",
            "Epoch -  33  done. \n",
            " w = [-12.    30.7   30.9   -8.08  -5.88]\n",
            "Epoch -  34  done. \n",
            " w = [-10.8   31.3   31.62  -8.42  -6.06]\n",
            "Epoch -  35  done. \n",
            " w = [-8.6  31.7  32.3  -8.9  -6.26]\n",
            "Epoch -  36  done. \n",
            " w = [-12.8   31.24  32.3   -9.52  -6.5 ]\n",
            "Epoch -  37  done. \n",
            " w = [-12.8   31.86  32.98  -9.8   -6.7 ]\n",
            "Epoch -  38  done. \n",
            " w = [-12.8   32.48  33.66 -10.08  -6.9 ]\n",
            "Epoch -  39  done. \n",
            " w = [-12.6   33.04  34.4  -10.4   -7.06]\n",
            "Epoch -  40  done. \n",
            " w = [-11.2   33.54  35.1  -10.84  -7.28]\n",
            "Epoch -  41  done. \n",
            " w = [ -8.8   34.04  35.72 -11.18  -7.42]\n",
            "Epoch -  42  done. \n",
            " w = [-13.    33.58  35.72 -11.8   -7.66]\n",
            "Epoch -  43  done. \n",
            " w = [-12.6   34.16  36.44 -12.12  -7.82]\n",
            "Epoch -  44  done. \n",
            " w = [-11.2   34.66  37.14 -12.56  -8.04]\n",
            "Epoch -  45  done. \n",
            " w = [ -8.    35.12  37.64 -12.86  -8.22]\n",
            "Epoch -  46  done. \n",
            " w = [-11.2   34.7   37.62 -13.5   -8.48]\n",
            "Epoch -  47  done. \n",
            " w = [ -8.    35.16  38.12 -13.8   -8.66]\n",
            "Epoch -  48  done. \n",
            " w = [-11.2   34.74  38.1  -14.44  -8.92]\n",
            "Epoch -  49  done. \n",
            " w = [ -8.    35.2   38.6  -14.74  -9.1 ]\n",
            "Epoch -  50  done. \n",
            " w = [-11.2   34.78  38.58 -15.38  -9.36]\n",
            "Epoch -  51  done. \n",
            " w = [ -8.    35.24  39.08 -15.68  -9.54]\n",
            "Epoch -  52  done. \n",
            " w = [-11.2   34.82  39.06 -16.32  -9.8 ]\n",
            "Epoch -  53  done. \n",
            " w = [ -8.    35.28  39.56 -16.62  -9.98]\n",
            "Epoch -  54  done. \n",
            " w = [-11.2   34.86  39.54 -17.26 -10.24]\n",
            "Epoch -  55  done. \n",
            " w = [ -8.    35.32  40.04 -17.56 -10.42]\n",
            "Epoch -  56  done. \n",
            " w = [-11.2   34.9   40.02 -18.2  -10.68]\n",
            "Epoch -  57  done. \n",
            " w = [ -8.    35.36  40.52 -18.5  -10.86]\n",
            "Epoch -  58  done. \n",
            " w = [-11.2   34.94  40.5  -19.14 -11.12]\n",
            "Epoch -  59  done. \n",
            " w = [ -8.    35.4   41.   -19.44 -11.3 ]\n",
            "Epoch -  60  done. \n",
            " w = [-11.2   34.98  40.98 -20.08 -11.56]\n",
            "Epoch -  61  done. \n",
            " w = [ -8.    35.44  41.48 -20.38 -11.74]\n",
            "Epoch -  62  done. \n",
            " w = [-11.2   35.02  41.46 -21.02 -12.  ]\n",
            "Epoch -  63  done. \n",
            " w = [ -8.    35.48  41.96 -21.32 -12.18]\n",
            "Epoch -  64  done. \n",
            " w = [-11.2   35.06  41.94 -21.96 -12.44]\n",
            "Epoch -  65  done. \n",
            " w = [ -8.    35.52  42.44 -22.26 -12.62]\n",
            "Epoch -  66  done. \n",
            " w = [-11.2   35.1   42.42 -22.9  -12.88]\n",
            "Epoch -  67  done. \n",
            " w = [ -8.    35.56  42.92 -23.2  -13.06]\n",
            "Epoch -  68  done. \n",
            " w = [-11.2   35.14  42.9  -23.84 -13.32]\n",
            "Epoch -  69  done. \n",
            " w = [ -8.    35.6   43.4  -24.14 -13.5 ]\n",
            "Epoch -  70  done. \n",
            " w = [-11.2   35.18  43.38 -24.78 -13.76]\n",
            "Epoch -  71  done. \n",
            " w = [ -8.    35.64  43.88 -25.08 -13.94]\n",
            "Epoch -  72  done. \n",
            " w = [-11.2   35.22  43.86 -25.72 -14.2 ]\n",
            "Epoch -  73  done. \n",
            " w = [ -8.    35.68  44.36 -26.02 -14.38]\n",
            "Epoch -  74  done. \n",
            " w = [-11.2   35.26  44.34 -26.66 -14.64]\n",
            "Epoch -  75  done. \n",
            " w = [ -8.    35.72  44.84 -26.96 -14.82]\n",
            "Epoch -  76  done. \n",
            " w = [-11.2   35.3   44.82 -27.6  -15.08]\n",
            "Epoch -  77  done. \n",
            " w = [ -8.    35.76  45.32 -27.9  -15.26]\n",
            "Epoch -  78  done. \n",
            " w = [-11.2   35.34  45.3  -28.54 -15.52]\n",
            "Epoch -  79  done. \n",
            " w = [ -8.    35.8   45.8  -28.84 -15.7 ]\n",
            "Epoch -  80  done. \n",
            " w = [-11.2   35.38  45.78 -29.48 -15.96]\n",
            "Epoch -  81  done. \n",
            " w = [ -8.    35.84  46.28 -29.78 -16.14]\n",
            "Epoch -  82  done. \n",
            " w = [-11.2   35.42  46.26 -30.42 -16.4 ]\n",
            "Epoch -  83  done. \n",
            " w = [ -8.    35.88  46.76 -30.72 -16.58]\n",
            "Epoch -  84  done. \n",
            " w = [-11.2   35.46  46.74 -31.36 -16.84]\n",
            "Epoch -  85  done. \n",
            " w = [ -8.    35.92  47.24 -31.66 -17.02]\n",
            "Epoch -  86  done. \n",
            " w = [-11.2   35.5   47.22 -32.3  -17.28]\n",
            "Epoch -  87  done. \n",
            " w = [ -8.    35.96  47.72 -32.6  -17.46]\n",
            "Epoch -  88  done. \n",
            " w = [-11.2   35.54  47.7  -33.24 -17.72]\n",
            "Epoch -  89  done. \n",
            " w = [ -8.    36.    48.2  -33.54 -17.9 ]\n",
            "Epoch -  90  done. \n",
            " w = [-11.2   35.58  48.18 -34.18 -18.16]\n",
            "Epoch -  91  done. \n",
            " w = [ -8.    36.04  48.68 -34.48 -18.34]\n",
            "Epoch -  92  done. \n",
            " w = [-11.2   35.62  48.66 -35.12 -18.6 ]\n",
            "Epoch -  93  done. \n",
            " w = [ -8.    36.08  49.16 -35.42 -18.78]\n",
            "Epoch -  94  done. \n",
            " w = [-11.2   35.66  49.14 -36.06 -19.04]\n",
            "Epoch -  95  done. \n",
            " w = [ -8.    36.12  49.64 -36.36 -19.22]\n",
            "Epoch -  96  done. \n",
            " w = [-11.2   35.7   49.62 -37.   -19.48]\n",
            "Epoch -  97  done. \n",
            " w = [ -8.    36.16  50.12 -37.3  -19.66]\n",
            "Epoch -  98  done. \n",
            " w = [-11.2   35.74  50.1  -37.94 -19.92]\n",
            "Epoch -  99  done. \n",
            " w = [ -8.    36.2   50.6  -38.24 -20.1 ]\n",
            "Epoch -  100  done. \n",
            " w = [-11.2   35.78  50.58 -38.88 -20.36]\n",
            "Epoch -  101  done. \n",
            " w = [ -8.    36.24  51.08 -39.18 -20.54]\n",
            "Epoch -  102  done. \n",
            " w = [-11.2   35.82  51.06 -39.82 -20.8 ]\n",
            "Epoch -  103  done. \n",
            " w = [ -8.    36.28  51.56 -40.12 -20.98]\n",
            "Epoch -  104  done. \n",
            " w = [-11.2   35.86  51.54 -40.76 -21.24]\n",
            "Epoch -  105  done. \n",
            " w = [ -8.    36.32  52.04 -41.06 -21.42]\n",
            "Epoch -  106  done. \n",
            " w = [-11.2   35.9   52.02 -41.7  -21.68]\n",
            "Epoch -  107  done. \n",
            " w = [ -8.    36.36  52.52 -42.   -21.86]\n",
            "Epoch -  108  done. \n",
            " w = [-11.2   35.94  52.5  -42.64 -22.12]\n",
            "Epoch -  109  done. \n",
            " w = [ -8.    36.4   53.   -42.94 -22.3 ]\n",
            "Epoch -  110  done. \n",
            " w = [-11.2   35.98  52.98 -43.58 -22.56]\n",
            "Epoch -  111  done. \n",
            " w = [ -8.    36.44  53.48 -43.88 -22.74]\n",
            "Epoch -  112  done. \n",
            " w = [-11.2   36.02  53.46 -44.52 -23.  ]\n",
            "Epoch -  113  done. \n",
            " w = [ -8.    36.48  53.96 -44.82 -23.18]\n",
            "Epoch -  114  done. \n",
            " w = [-11.2   36.06  53.94 -45.46 -23.44]\n",
            "Epoch -  115  done. \n",
            " w = [ -8.    36.52  54.44 -45.76 -23.62]\n",
            "Epoch -  116  done. \n",
            " w = [-11.2   36.1   54.42 -46.4  -23.88]\n",
            "Epoch -  117  done. \n",
            " w = [ -8.    36.56  54.92 -46.7  -24.06]\n",
            "Epoch -  118  done. \n",
            " w = [-11.2   36.14  54.9  -47.34 -24.32]\n",
            "Epoch -  119  done. \n",
            " w = [ -8.    36.6   55.4  -47.64 -24.5 ]\n",
            "Epoch -  120  done. \n",
            " w = [-11.2   36.18  55.38 -48.28 -24.76]\n",
            "Epoch -  121  done. \n",
            " w = [ -8.    36.64  55.88 -48.58 -24.94]\n",
            "Epoch -  122  done. \n",
            " w = [-11.2   36.22  55.86 -49.22 -25.2 ]\n",
            "Epoch -  123  done. \n",
            " w = [ -8.    36.68  56.36 -49.52 -25.38]\n",
            "Epoch -  124  done. \n",
            " w = [-11.2   36.26  56.34 -50.16 -25.64]\n",
            "Epoch -  125  done. \n",
            " w = [ -8.    36.72  56.84 -50.46 -25.82]\n",
            "Epoch -  126  done. \n",
            " w = [-11.2   36.3   56.82 -51.1  -26.08]\n",
            "Epoch -  127  done. \n",
            " w = [ -8.    36.76  57.32 -51.4  -26.26]\n",
            "Epoch -  128  done. \n",
            " w = [-11.2   36.34  57.3  -52.04 -26.52]\n",
            "Epoch -  129  done. \n",
            " w = [ -8.    36.8   57.8  -52.34 -26.7 ]\n",
            "Epoch -  130  done. \n",
            " w = [-11.2   36.38  57.78 -52.98 -26.96]\n",
            "Epoch -  131  done. \n",
            " w = [ -8.    36.84  58.28 -53.28 -27.14]\n",
            "Epoch -  132  done. \n",
            " w = [-11.2   36.42  58.26 -53.92 -27.4 ]\n",
            "Epoch -  133  done. \n",
            " w = [ -8.    36.88  58.76 -54.22 -27.58]\n",
            "Epoch -  134  done. \n",
            " w = [-11.2   36.46  58.74 -54.86 -27.84]\n",
            "Epoch -  135  done. \n",
            " w = [ -8.    36.92  59.24 -55.16 -28.02]\n",
            "Epoch -  136  done. \n",
            " w = [-11.2   36.5   59.22 -55.8  -28.28]\n",
            "Epoch -  137  done. \n",
            " w = [ -8.    36.96  59.72 -56.1  -28.46]\n",
            "Epoch -  138  done. \n",
            " w = [-11.2   36.54  59.7  -56.74 -28.72]\n",
            "Epoch -  139  done. \n",
            " w = [ -8.    37.    60.2  -57.04 -28.9 ]\n",
            "Epoch -  140  done. \n",
            " w = [-11.2   36.58  60.18 -57.68 -29.16]\n",
            "Epoch -  141  done. \n",
            " w = [ -8.    37.04  60.68 -57.98 -29.34]\n",
            "Epoch -  142  done. \n",
            " w = [-11.2   36.62  60.66 -58.62 -29.6 ]\n",
            "Epoch -  143  done. \n",
            " w = [ -8.    37.08  61.16 -58.92 -29.78]\n",
            "Epoch -  144  done. \n",
            " w = [-11.2   36.66  61.14 -59.56 -30.04]\n",
            "Epoch -  145  done. \n",
            " w = [ -8.    37.12  61.64 -59.86 -30.22]\n",
            "Epoch -  146  done. \n",
            " w = [-10.6   36.7   61.62 -60.5  -30.48]\n",
            "Epoch -  147  done. \n",
            " w = [ -7.4   37.16  62.12 -60.8  -30.66]\n",
            "Epoch -  148  done. \n",
            " w = [-10.    36.74  62.1  -61.44 -30.92]\n",
            "Epoch -  149  done. \n",
            " w = [ -4.    37.68  62.74 -61.12 -30.88]\n",
            "Epoch -  150  done. \n",
            " w = [ -4.    37.68  62.74 -61.12 -30.88]\n",
            "[ -4.    37.68  62.74 -61.12 -30.88]\n"
          ]
        }
      ]
    },
    {
      "cell_type": "markdown",
      "metadata": {
        "id": "H6iPVYianew7"
      },
      "source": [
        "###Testing the Accuracy of the Model\n",
        "(Will be 1 anyway given that the training algorithm terminated)"
      ]
    },
    {
      "cell_type": "code",
      "metadata": {
        "colab": {
          "base_uri": "https://localhost:8080/"
        },
        "id": "T-QjjFJGbLhE",
        "outputId": "41aae460-c013-42af-def1-9631414b6662"
      },
      "source": [
        "acc_van=count_perc_acc(w1[0],db)\n",
        "print(acc_van)"
      ],
      "execution_count": 142,
      "outputs": [
        {
          "output_type": "stream",
          "name": "stdout",
          "text": [
            "1.0\n"
          ]
        }
      ]
    },
    {
      "cell_type": "markdown",
      "metadata": {
        "id": "69o0EVCopXbT"
      },
      "source": [
        "### Accuracy vs Number of Epochs Elapsed\n"
      ]
    },
    {
      "cell_type": "code",
      "metadata": {
        "colab": {
          "base_uri": "https://localhost:8080/"
        },
        "id": "NLcKacy5qzCj",
        "outputId": "f6adcab7-4493-402f-f964-c67edc80977a"
      },
      "source": [
        "G1=w1[1]\n",
        "#print(G)\n",
        "x=np.arange(len(G))\n",
        "y=[count_perc_acc(G1[i],db) for i in range(len(G1))]\n",
        "print(y)"
      ],
      "execution_count": 170,
      "outputs": [
        {
          "output_type": "stream",
          "name": "stdout",
          "text": [
            "[0.6666666666666666, 0.74, 0.7133333333333334, 0.7133333333333334, 0.7266666666666667, 0.72, 0.72, 0.8133333333333334, 0.74, 0.7466666666666667, 0.78, 0.7733333333333333, 0.7466666666666667, 0.7666666666666667, 0.8333333333333334, 0.7666666666666667, 0.8333333333333334, 0.7733333333333333, 0.84, 0.7733333333333333, 0.8533333333333334, 0.7866666666666666, 0.7733333333333333, 0.8266666666666667, 0.7733333333333333, 0.82, 0.9, 0.8133333333333334, 0.8733333333333333, 0.8, 0.8, 0.8, 0.8066666666666666, 0.8133333333333334, 0.8666666666666667, 0.8, 0.8, 0.8066666666666666, 0.8133333333333334, 0.82, 0.88, 0.8066666666666666, 0.8133333333333334, 0.8266666666666667, 0.9, 0.8266666666666667, 0.9, 0.8266666666666667, 0.9, 0.8266666666666667, 0.9, 0.8266666666666667, 0.9, 0.8266666666666667, 0.9, 0.8266666666666667, 0.9, 0.8266666666666667, 0.9, 0.8266666666666667, 0.9, 0.8266666666666667, 0.9, 0.8266666666666667, 0.9, 0.8266666666666667, 0.9, 0.8266666666666667, 0.9, 0.8266666666666667, 0.9, 0.8266666666666667, 0.9, 0.8266666666666667, 0.9, 0.8266666666666667, 0.9, 0.8266666666666667, 0.9, 0.8266666666666667, 0.9066666666666666, 0.8266666666666667, 0.9066666666666666, 0.8266666666666667, 0.9066666666666666, 0.8266666666666667, 0.9066666666666666, 0.8266666666666667, 0.9066666666666666, 0.8266666666666667, 0.9066666666666666, 0.8266666666666667, 0.9066666666666666, 0.8266666666666667, 0.9066666666666666, 0.8266666666666667, 0.9066666666666666, 0.8266666666666667, 0.9066666666666666, 0.8266666666666667, 0.9066666666666666, 0.8266666666666667, 0.9066666666666666, 0.8266666666666667, 0.9066666666666666, 0.8266666666666667, 0.9066666666666666, 0.8266666666666667, 0.9066666666666666, 0.8266666666666667, 0.9066666666666666, 0.8266666666666667, 0.9066666666666666, 0.8266666666666667, 0.9066666666666666, 0.8266666666666667, 0.9066666666666666, 0.8266666666666667, 0.9066666666666666, 0.8266666666666667, 0.9066666666666666, 0.8266666666666667, 0.9066666666666666, 0.8266666666666667, 0.9066666666666666, 0.8266666666666667, 0.9066666666666666, 0.8266666666666667, 0.9066666666666666, 0.8266666666666667, 0.9066666666666666, 0.8266666666666667, 0.9066666666666666, 0.8266666666666667, 0.9066666666666666, 0.8266666666666667, 0.9066666666666666, 0.8266666666666667, 0.9066666666666666, 0.8266666666666667, 0.9066666666666666, 0.8266666666666667, 0.9066666666666666, 0.8266666666666667, 0.9133333333333333, 0.8466666666666667, 0.9266666666666666, 0.8733333333333333, 1.0, 1.0]\n"
          ]
        }
      ]
    },
    {
      "cell_type": "code",
      "metadata": {
        "colab": {
          "base_uri": "https://localhost:8080/",
          "height": 279
        },
        "id": "F5H4Anms7YLD",
        "outputId": "24bd757a-7f21-4a0d-ded0-447ccff8e6a2"
      },
      "source": [
        "plt.plot(x,y)\n",
        "plt.xlabel(\"Epoch\")\n",
        "plt.ylabel(\"Accuracy Achieved (in %)\")\n",
        "plt.show()\n"
      ],
      "execution_count": 172,
      "outputs": [
        {
          "output_type": "display_data",
          "data": {
            "image/png": "[encoded data removed]",
            "text/plain": [
              "<Figure size 432x288 with 1 Axes>"
            ]
          },
          "metadata": {
            "needs_background": "light"
          }
        }
      ]
    },
    {
      "cell_type": "markdown",
      "metadata": {
        "id": "GgpQey8v_kc2"
      },
      "source": [
        "Gradually makes its way to termination, accuracy oscillates a bit between updates, but it does achieve 100% accuracy. Hallelujah!"
      ]
    },
    {
      "cell_type": "markdown",
      "metadata": {
        "id": "cci99ZrfniCb"
      },
      "source": [
        "##**2. Voted Perceptron**\n",
        "###Training Algorithm"
      ]
    },
    {
      "cell_type": "code",
      "metadata": {
        "id": "HL59C1costOY"
      },
      "source": [
        "def voted_perc_train(db):\n",
        "  W=[]\n",
        "  G=[]\n",
        "  w=np.zeros(len(db[0])-1)\n",
        "  a=0\n",
        "  flag=0\n",
        "  i=0\n",
        "  epoch=0\n",
        "  nu=0.2\n",
        "  while(flag!=1):\n",
        "    count=0\n",
        "    c=0\n",
        "    for x in db:\n",
        "      i+=1\n",
        "      #print(x,i)\n",
        "      a=np.dot(w,x[:-1])\n",
        "      #print(a)\n",
        "      if a*x[-1]>0:\n",
        "        c+=1\n",
        "      else:\n",
        "        count+=1\n",
        "        W.append([w.copy(),c])\n",
        "        w+=(nu*x[-1])*x[:-1]\n",
        "    epoch+=1\n",
        "    print(\"Epoch - \",epoch,\" done.\",\"\\n w =\",w)\n",
        "    G.append(W.copy())\n",
        "    if count==0:\n",
        "      flag=1\n",
        "  return [W,G]"
      ],
      "execution_count": 161,
      "outputs": []
    },
    {
      "cell_type": "markdown",
      "metadata": {
        "id": "FIlbsdQEnrAq"
      },
      "source": [
        "###Prediction and Testing Functions"
      ]
    },
    {
      "cell_type": "code",
      "metadata": {
        "id": "S7iv8V3-zU9q"
      },
      "source": [
        "def voted_perc_pred(W,x):\n",
        "  sum1=0\n",
        "  for i in range(len(W)):\n",
        "    sum1+=(W[i][1]*np.dot(W[i][0],x))\n",
        "  return np.sign(sum1)\n",
        "\n",
        "def count_voted_perc_acc(W,db):\n",
        "  count=0\n",
        "  for x in db:\n",
        "    if x[-1]==voted_perc_pred(W,x[:-1]):\n",
        "      count+=1\n",
        "  return count/len(db)"
      ],
      "execution_count": 162,
      "outputs": []
    },
    {
      "cell_type": "markdown",
      "metadata": {
        "id": "SfMpqoh8n5No"
      },
      "source": [
        "###Actual Training on the Dataset"
      ]
    },
    {
      "cell_type": "code",
      "metadata": {
        "colab": {
          "base_uri": "https://localhost:8080/"
        },
        "id": "MO5ofIl-95v8",
        "outputId": "796546cb-841a-4814-9d00-2b84c91c595d"
      },
      "source": [
        "W1=voted_perc_train(db)\n",
        "print(W1[0])"
      ],
      "execution_count": 163,
      "outputs": [
        {
          "output_type": "stream",
          "name": "stdout",
          "text": [
            "Epoch -  1  done. \n",
            " w = [-10.    -0.38   0.06  -0.66  -0.24]\n",
            "Epoch -  2  done. \n",
            " w = [-5.    7.1   5.46  1.06 -0.14]\n",
            "Epoch -  3  done. \n",
            " w = [-7.8   7.62  6.18  0.82 -0.34]\n",
            "Epoch -  4  done. \n",
            " w = [-9.8   9.26  7.58  0.84 -0.5 ]\n",
            "Epoch -  5  done. \n",
            " w = [-9.   11.66  9.48  1.14 -0.64]\n",
            "Epoch -  6  done. \n",
            " w = [-10.2   13.02  10.74   0.96  -0.82]\n",
            "Epoch -  7  done. \n",
            " w = [-11.6   14.48  12.02   0.88  -0.96]\n",
            "Epoch -  8  done. \n",
            " w = [-5.6  16.82 13.92  1.06 -1.08]\n",
            "Epoch -  9  done. \n",
            " w = [-11.2   16.34  14.     0.32  -1.32]\n",
            "Epoch -  10  done. \n",
            " w = [-11.4   17.78  15.3    0.26  -1.44]\n",
            "Epoch -  11  done. \n",
            " w = [-9.4 19.3 16.6  0.2 -1.6]\n",
            "Epoch -  12  done. \n",
            " w = [-10.2   19.96  17.34  -0.18  -1.78]\n",
            "Epoch -  13  done. \n",
            " w = [-13.    20.34  18.02  -0.7   -2.  ]\n",
            "Epoch -  14  done. \n",
            " w = [-11.8   21.92  19.28  -0.76  -2.16]\n",
            "Epoch -  15  done. \n",
            " w = [-7.   23.28 20.58 -0.92 -2.3 ]\n",
            "Epoch -  16  done. \n",
            " w = [-12.    22.88  20.54  -1.54  -2.54]\n",
            "Epoch -  17  done. \n",
            " w = [-7.2  24.24 21.84 -1.7  -2.68]\n",
            "Epoch -  18  done. \n",
            " w = [-12.2   23.84  21.8   -2.32  -2.92]\n",
            "Epoch -  19  done. \n",
            " w = [-7.4  25.2  23.1  -2.48 -3.06]\n",
            "Epoch -  20  done. \n",
            " w = [-12.4   24.8   23.06  -3.1   -3.3 ]\n",
            "Epoch -  21  done. \n",
            " w = [-7.4  26.06 24.34 -3.36 -3.48]\n",
            "Epoch -  22  done. \n",
            " w = [-11.8   25.7   24.38  -4.02  -3.72]\n",
            "Epoch -  23  done. \n",
            " w = [-13.2   26.32  25.04  -4.36  -3.9 ]\n",
            "Epoch -  24  done. \n",
            " w = [-8.6  27.78 26.36 -4.48 -4.06]\n",
            "Epoch -  25  done. \n",
            " w = [-13.8   27.34  26.4   -5.04  -4.3 ]\n",
            "Epoch -  26  done. \n",
            " w = [-9.8  28.8  27.72 -5.16 -4.46]\n",
            "Epoch -  27  done. \n",
            " w = [-6.8  29.32 28.2  -5.5  -4.58]\n",
            "Epoch -  28  done. \n",
            " w = [-10.    28.9   28.18  -6.14  -4.84]\n",
            "Epoch -  29  done. \n",
            " w = [-7.8  29.3  28.86 -6.62 -5.04]\n",
            "Epoch -  30  done. \n",
            " w = [-12.    28.84  28.86  -7.24  -5.28]\n",
            "Epoch -  31  done. \n",
            " w = [-12.    29.46  29.54  -7.52  -5.48]\n",
            "Epoch -  32  done. \n",
            " w = [-12.    30.08  30.22  -7.8   -5.68]\n",
            "Epoch -  33  done. \n",
            " w = [-12.    30.7   30.9   -8.08  -5.88]\n",
            "Epoch -  34  done. \n",
            " w = [-10.8   31.3   31.62  -8.42  -6.06]\n",
            "Epoch -  35  done. \n",
            " w = [-8.6  31.7  32.3  -8.9  -6.26]\n",
            "Epoch -  36  done. \n",
            " w = [-12.8   31.24  32.3   -9.52  -6.5 ]\n",
            "Epoch -  37  done. \n",
            " w = [-12.8   31.86  32.98  -9.8   -6.7 ]\n",
            "Epoch -  38  done. \n",
            " w = [-12.8   32.48  33.66 -10.08  -6.9 ]\n",
            "Epoch -  39  done. \n",
            " w = [-12.6   33.04  34.4  -10.4   -7.06]\n",
            "Epoch -  40  done. \n",
            " w = [-11.2   33.54  35.1  -10.84  -7.28]\n",
            "Epoch -  41  done. \n",
            " w = [ -8.8   34.04  35.72 -11.18  -7.42]\n",
            "Epoch -  42  done. \n",
            " w = [-13.    33.58  35.72 -11.8   -7.66]\n",
            "Epoch -  43  done. \n",
            " w = [-12.6   34.16  36.44 -12.12  -7.82]\n",
            "Epoch -  44  done. \n",
            " w = [-11.2   34.66  37.14 -12.56  -8.04]\n",
            "Epoch -  45  done. \n",
            " w = [ -8.    35.12  37.64 -12.86  -8.22]\n",
            "Epoch -  46  done. \n",
            " w = [-11.2   34.7   37.62 -13.5   -8.48]\n",
            "Epoch -  47  done. \n",
            " w = [ -8.    35.16  38.12 -13.8   -8.66]\n",
            "Epoch -  48  done. \n",
            " w = [-11.2   34.74  38.1  -14.44  -8.92]\n",
            "Epoch -  49  done. \n",
            " w = [ -8.    35.2   38.6  -14.74  -9.1 ]\n",
            "Epoch -  50  done. \n",
            " w = [-11.2   34.78  38.58 -15.38  -9.36]\n",
            "Epoch -  51  done. \n",
            " w = [ -8.    35.24  39.08 -15.68  -9.54]\n",
            "Epoch -  52  done. \n",
            " w = [-11.2   34.82  39.06 -16.32  -9.8 ]\n",
            "Epoch -  53  done. \n",
            " w = [ -8.    35.28  39.56 -16.62  -9.98]\n",
            "Epoch -  54  done. \n",
            " w = [-11.2   34.86  39.54 -17.26 -10.24]\n",
            "Epoch -  55  done. \n",
            " w = [ -8.    35.32  40.04 -17.56 -10.42]\n",
            "Epoch -  56  done. \n",
            " w = [-11.2   34.9   40.02 -18.2  -10.68]\n",
            "Epoch -  57  done. \n",
            " w = [ -8.    35.36  40.52 -18.5  -10.86]\n",
            "Epoch -  58  done. \n",
            " w = [-11.2   34.94  40.5  -19.14 -11.12]\n",
            "Epoch -  59  done. \n",
            " w = [ -8.    35.4   41.   -19.44 -11.3 ]\n",
            "Epoch -  60  done. \n",
            " w = [-11.2   34.98  40.98 -20.08 -11.56]\n",
            "Epoch -  61  done. \n",
            " w = [ -8.    35.44  41.48 -20.38 -11.74]\n",
            "Epoch -  62  done. \n",
            " w = [-11.2   35.02  41.46 -21.02 -12.  ]\n",
            "Epoch -  63  done. \n",
            " w = [ -8.    35.48  41.96 -21.32 -12.18]\n",
            "Epoch -  64  done. \n",
            " w = [-11.2   35.06  41.94 -21.96 -12.44]\n",
            "Epoch -  65  done. \n",
            " w = [ -8.    35.52  42.44 -22.26 -12.62]\n",
            "Epoch -  66  done. \n",
            " w = [-11.2   35.1   42.42 -22.9  -12.88]\n",
            "Epoch -  67  done. \n",
            " w = [ -8.    35.56  42.92 -23.2  -13.06]\n",
            "Epoch -  68  done. \n",
            " w = [-11.2   35.14  42.9  -23.84 -13.32]\n",
            "Epoch -  69  done. \n",
            " w = [ -8.    35.6   43.4  -24.14 -13.5 ]\n",
            "Epoch -  70  done. \n",
            " w = [-11.2   35.18  43.38 -24.78 -13.76]\n",
            "Epoch -  71  done. \n",
            " w = [ -8.    35.64  43.88 -25.08 -13.94]\n",
            "Epoch -  72  done. \n",
            " w = [-11.2   35.22  43.86 -25.72 -14.2 ]\n",
            "Epoch -  73  done. \n",
            " w = [ -8.    35.68  44.36 -26.02 -14.38]\n",
            "Epoch -  74  done. \n",
            " w = [-11.2   35.26  44.34 -26.66 -14.64]\n",
            "Epoch -  75  done. \n",
            " w = [ -8.    35.72  44.84 -26.96 -14.82]\n",
            "Epoch -  76  done. \n",
            " w = [-11.2   35.3   44.82 -27.6  -15.08]\n",
            "Epoch -  77  done. \n",
            " w = [ -8.    35.76  45.32 -27.9  -15.26]\n",
            "Epoch -  78  done. \n",
            " w = [-11.2   35.34  45.3  -28.54 -15.52]\n",
            "Epoch -  79  done. \n",
            " w = [ -8.    35.8   45.8  -28.84 -15.7 ]\n",
            "Epoch -  80  done. \n",
            " w = [-11.2   35.38  45.78 -29.48 -15.96]\n",
            "Epoch -  81  done. \n",
            " w = [ -8.    35.84  46.28 -29.78 -16.14]\n",
            "Epoch -  82  done. \n",
            " w = [-11.2   35.42  46.26 -30.42 -16.4 ]\n",
            "Epoch -  83  done. \n",
            " w = [ -8.    35.88  46.76 -30.72 -16.58]\n",
            "Epoch -  84  done. \n",
            " w = [-11.2   35.46  46.74 -31.36 -16.84]\n",
            "Epoch -  85  done. \n",
            " w = [ -8.    35.92  47.24 -31.66 -17.02]\n",
            "Epoch -  86  done. \n",
            " w = [-11.2   35.5   47.22 -32.3  -17.28]\n",
            "Epoch -  87  done. \n",
            " w = [ -8.    35.96  47.72 -32.6  -17.46]\n",
            "Epoch -  88  done. \n",
            " w = [-11.2   35.54  47.7  -33.24 -17.72]\n",
            "Epoch -  89  done. \n",
            " w = [ -8.    36.    48.2  -33.54 -17.9 ]\n",
            "Epoch -  90  done. \n",
            " w = [-11.2   35.58  48.18 -34.18 -18.16]\n",
            "Epoch -  91  done. \n",
            " w = [ -8.    36.04  48.68 -34.48 -18.34]\n",
            "Epoch -  92  done. \n",
            " w = [-11.2   35.62  48.66 -35.12 -18.6 ]\n",
            "Epoch -  93  done. \n",
            " w = [ -8.    36.08  49.16 -35.42 -18.78]\n",
            "Epoch -  94  done. \n",
            " w = [-11.2   35.66  49.14 -36.06 -19.04]\n",
            "Epoch -  95  done. \n",
            " w = [ -8.    36.12  49.64 -36.36 -19.22]\n",
            "Epoch -  96  done. \n",
            " w = [-11.2   35.7   49.62 -37.   -19.48]\n",
            "Epoch -  97  done. \n",
            " w = [ -8.    36.16  50.12 -37.3  -19.66]\n",
            "Epoch -  98  done. \n",
            " w = [-11.2   35.74  50.1  -37.94 -19.92]\n",
            "Epoch -  99  done. \n",
            " w = [ -8.    36.2   50.6  -38.24 -20.1 ]\n",
            "Epoch -  100  done. \n",
            " w = [-11.2   35.78  50.58 -38.88 -20.36]\n",
            "Epoch -  101  done. \n",
            " w = [ -8.    36.24  51.08 -39.18 -20.54]\n",
            "Epoch -  102  done. \n",
            " w = [-11.2   35.82  51.06 -39.82 -20.8 ]\n",
            "Epoch -  103  done. \n",
            " w = [ -8.    36.28  51.56 -40.12 -20.98]\n",
            "Epoch -  104  done. \n",
            " w = [-11.2   35.86  51.54 -40.76 -21.24]\n",
            "Epoch -  105  done. \n",
            " w = [ -8.    36.32  52.04 -41.06 -21.42]\n",
            "Epoch -  106  done. \n",
            " w = [-11.2   35.9   52.02 -41.7  -21.68]\n",
            "Epoch -  107  done. \n",
            " w = [ -8.    36.36  52.52 -42.   -21.86]\n",
            "Epoch -  108  done. \n",
            " w = [-11.2   35.94  52.5  -42.64 -22.12]\n",
            "Epoch -  109  done. \n",
            " w = [ -8.    36.4   53.   -42.94 -22.3 ]\n",
            "Epoch -  110  done. \n",
            " w = [-11.2   35.98  52.98 -43.58 -22.56]\n",
            "Epoch -  111  done. \n",
            " w = [ -8.    36.44  53.48 -43.88 -22.74]\n",
            "Epoch -  112  done. \n",
            " w = [-11.2   36.02  53.46 -44.52 -23.  ]\n",
            "Epoch -  113  done. \n",
            " w = [ -8.    36.48  53.96 -44.82 -23.18]\n",
            "Epoch -  114  done. \n",
            " w = [-11.2   36.06  53.94 -45.46 -23.44]\n",
            "Epoch -  115  done. \n",
            " w = [ -8.    36.52  54.44 -45.76 -23.62]\n",
            "Epoch -  116  done. \n",
            " w = [-11.2   36.1   54.42 -46.4  -23.88]\n",
            "Epoch -  117  done. \n",
            " w = [ -8.    36.56  54.92 -46.7  -24.06]\n",
            "Epoch -  118  done. \n",
            " w = [-11.2   36.14  54.9  -47.34 -24.32]\n",
            "Epoch -  119  done. \n",
            " w = [ -8.    36.6   55.4  -47.64 -24.5 ]\n",
            "Epoch -  120  done. \n",
            " w = [-11.2   36.18  55.38 -48.28 -24.76]\n",
            "Epoch -  121  done. \n",
            " w = [ -8.    36.64  55.88 -48.58 -24.94]\n",
            "Epoch -  122  done. \n",
            " w = [-11.2   36.22  55.86 -49.22 -25.2 ]\n",
            "Epoch -  123  done. \n",
            " w = [ -8.    36.68  56.36 -49.52 -25.38]\n",
            "Epoch -  124  done. \n",
            " w = [-11.2   36.26  56.34 -50.16 -25.64]\n",
            "Epoch -  125  done. \n",
            " w = [ -8.    36.72  56.84 -50.46 -25.82]\n",
            "Epoch -  126  done. \n",
            " w = [-11.2   36.3   56.82 -51.1  -26.08]\n",
            "Epoch -  127  done. \n",
            " w = [ -8.    36.76  57.32 -51.4  -26.26]\n",
            "Epoch -  128  done. \n",
            " w = [-11.2   36.34  57.3  -52.04 -26.52]\n",
            "Epoch -  129  done. \n",
            " w = [ -8.    36.8   57.8  -52.34 -26.7 ]\n",
            "Epoch -  130  done. \n",
            " w = [-11.2   36.38  57.78 -52.98 -26.96]\n",
            "Epoch -  131  done. \n",
            " w = [ -8.    36.84  58.28 -53.28 -27.14]\n",
            "Epoch -  132  done. \n",
            " w = [-11.2   36.42  58.26 -53.92 -27.4 ]\n",
            "Epoch -  133  done. \n",
            " w = [ -8.    36.88  58.76 -54.22 -27.58]\n",
            "Epoch -  134  done. \n",
            " w = [-11.2   36.46  58.74 -54.86 -27.84]\n",
            "Epoch -  135  done. \n",
            " w = [ -8.    36.92  59.24 -55.16 -28.02]\n",
            "Epoch -  136  done. \n",
            " w = [-11.2   36.5   59.22 -55.8  -28.28]\n",
            "Epoch -  137  done. \n",
            " w = [ -8.    36.96  59.72 -56.1  -28.46]\n",
            "Epoch -  138  done. \n",
            " w = [-11.2   36.54  59.7  -56.74 -28.72]\n",
            "Epoch -  139  done. \n",
            " w = [ -8.    37.    60.2  -57.04 -28.9 ]\n",
            "Epoch -  140  done. \n",
            " w = [-11.2   36.58  60.18 -57.68 -29.16]\n",
            "Epoch -  141  done. \n",
            " w = [ -8.    37.04  60.68 -57.98 -29.34]\n",
            "Epoch -  142  done. \n",
            " w = [-11.2   36.62  60.66 -58.62 -29.6 ]\n",
            "Epoch -  143  done. \n",
            " w = [ -8.    37.08  61.16 -58.92 -29.78]\n",
            "Epoch -  144  done. \n",
            " w = [-11.2   36.66  61.14 -59.56 -30.04]\n",
            "Epoch -  145  done. \n",
            " w = [ -8.    37.12  61.64 -59.86 -30.22]\n",
            "Epoch -  146  done. \n",
            " w = [-10.6   36.7   61.62 -60.5  -30.48]\n",
            "Epoch -  147  done. \n",
            " w = [ -7.4   37.16  62.12 -60.8  -30.66]\n",
            "Epoch -  148  done. \n",
            " w = [-10.    36.74  62.1  -61.44 -30.92]\n",
            "Epoch -  149  done. \n",
            " w = [ -4.    37.68  62.74 -61.12 -30.88]\n",
            "Epoch -  150  done. \n",
            " w = [ -4.    37.68  62.74 -61.12 -30.88]\n",
            "[[array([0., 0., 0., 0., 0.]), 0], [array([0.2 , 1.02, 0.7 , 0.28, 0.04]), 49], [array([-10.  ,  -0.38,   0.06,  -0.66,  -0.24]), 0], [array([-9.8 ,  0.64,  0.76, -0.38, -0.2 ]), 0], [array([-9.4 ,  1.62,  1.36, -0.1 , -0.16]), 0], [array([-8.8 ,  2.56,  2.  ,  0.16, -0.12]), 0], [array([-8.  ,  3.48,  2.62,  0.46, -0.08]), 0], [array([-7.  ,  4.48,  3.34,  0.74, -0.04]), 0], [array([-5.8 ,  5.56,  4.12,  1.08,  0.04]), 1], [array([-4.2 ,  6.56,  4.8 ,  1.38,  0.08]), 4], [array([-1.8 ,  7.52,  5.48,  1.7 ,  0.12]), 26], [array([5.2 , 8.5 , 6.1 , 2.  , 0.14]), 41], [array([-5.  ,  7.1 ,  5.46,  1.06, -0.14]), 11], [array([-2.6 ,  8.06,  6.14,  1.38, -0.1 ]), 23], [array([ 2.4 ,  9.02,  6.82,  1.76, -0.06]), 48], [array([-7.8 ,  7.62,  6.18,  0.82, -0.34]), 7], [array([-6.2 ,  8.62,  6.86,  1.12, -0.3 ]), 10], [array([-3.8 ,  9.58,  7.54,  1.44, -0.26]), 18], [array([ 0.4 , 10.66,  8.22,  1.78, -0.22]), 47], [array([-9.8 ,  9.26,  7.58,  0.84, -0.5 ]), 7], [array([-8.2 , 10.26,  8.26,  1.14, -0.46]), 7], [array([-6.4 , 11.14,  8.84,  1.42, -0.42]), 10], [array([-3.8 , 12.1 ,  9.44,  1.7 , -0.4 ]), 21], [array([ 1.2 , 13.06, 10.12,  2.08, -0.36]), 46], [array([-9.  , 11.66,  9.48,  1.14, -0.64]), 8], [array([-7.2 , 12.54, 10.06,  1.42, -0.6 ]), 11], [array([-4.6 , 13.5 , 10.66,  1.7 , -0.58]), 20], [array([-4.4408921e-15,  1.4420000e+01,  1.1380000e+01,  1.9000000e+00,\n",
            "       -5.4000000e-01]), 47], [array([-10.2 ,  13.02,  10.74,   0.96,  -0.82]), 8], [array([-8.4 , 13.9 , 11.32,  1.24, -0.78]), 11], [array([-5.8 , 14.86, 11.92,  1.52, -0.76]), 19], [array([-1.4 , 15.88, 12.66,  1.82, -0.68]), 47], [array([-11.6 ,  14.48,  12.02,   0.88,  -0.96]), 8], [array([-9.8 , 15.36, 12.6 ,  1.16, -0.92]), 11], [array([-7.2 , 16.32, 13.2 ,  1.44, -0.9 ]), 17], [array([-3.2 , 17.34, 13.96,  1.74, -0.84]), 35], [array([ 4.6 , 18.22, 14.56,  2.  , -0.8 ]), 46], [array([-5.6 , 16.82, 13.92,  1.06, -1.08]), 22], [array([-1.  , 17.74, 14.64,  1.26, -1.04]), 49], [array([-11.2 ,  16.34,  14.  ,   0.32,  -1.32]), 11], [array([-8.8 , 17.3 , 14.68,  0.64, -1.28]), 12], [array([-6.  , 18.16, 15.28,  0.86, -1.26]), 21], [array([-1.2 , 19.18, 15.94,  1.2 , -1.16]), 47], [array([-11.4 ,  17.78,  15.3 ,   0.26,  -1.44]), 12], [array([-8.8 , 18.74, 15.9 ,  0.54, -1.42]), 16], [array([-5.2 , 19.76, 16.6 ,  0.82, -1.36]), 27], [array([ 0.8 , 20.7 , 17.24,  1.14, -1.32]), 47], [array([-9.4, 19.3, 16.6,  0.2, -1.6]), 17], [array([-5.8 , 20.32, 17.3 ,  0.48, -1.54]), 27], [array([-7.10542736e-15,  2.13600000e+01,  1.79800000e+01,  7.60000000e-01,\n",
            "       -1.50000000e+00]), 48], [array([-10.2 ,  19.96,  17.34,  -0.18,  -1.78]), 13], [array([-7.4 , 20.82, 17.94,  0.04, -1.76]), 21], [array([-2.8 , 21.74, 18.66,  0.24, -1.72]), 48], [array([-13.  ,  20.34,  18.02,  -0.7 ,  -2.  ]), 12], [array([-10.4 ,  21.3 ,  18.62,  -0.42,  -1.98]), 16], [array([-6.8 , 22.32, 19.32, -0.14, -1.92]), 23], [array([-1.6 , 23.32, 19.92,  0.18, -1.88]), 47], [array([-11.8 ,  21.92,  19.28,  -0.76,  -2.16]), 13], [array([-9.  , 22.78, 19.88, -0.54, -2.14]), 20], [array([-4.6 , 23.8 , 20.62, -0.24, -2.06]), 36], [array([ 3.200e+00,  2.468e+01,  2.122e+01,  2.000e-02, -2.020e+00]), 47], [array([-7.  , 23.28, 20.58, -0.92, -2.3 ]), 25], [array([-1.8 , 24.28, 21.18, -0.6 , -2.26]), 49], [array([-12.  ,  22.88,  20.54,  -1.54,  -2.54]), 13], [array([-9.2 , 23.74, 21.14, -1.32, -2.52]), 20], [array([-4.8 , 24.76, 21.88, -1.02, -2.44]), 36], [array([ 3.  , 25.64, 22.48, -0.76, -2.4 ]), 47], [array([-7.2 , 24.24, 21.84, -1.7 , -2.68]), 25], [array([-2.  , 25.24, 22.44, -1.38, -2.64]), 49], [array([-12.2 ,  23.84,  21.8 ,  -2.32,  -2.92]), 13], [array([-9.4, 24.7, 22.4, -2.1, -2.9]), 20], [array([-5.  , 25.72, 23.14, -1.8 , -2.82]), 36], [array([ 2.8 , 26.6 , 23.74, -1.54, -2.78]), 47], [array([-7.4 , 25.2 , 23.1 , -2.48, -3.06]), 25], [array([-2.2 , 26.2 , 23.7 , -2.16, -3.02]), 49], [array([-12.4 ,  24.8 ,  23.06,  -3.1 ,  -3.3 ]), 13], [array([-9.6 , 25.66, 23.66, -2.88, -3.28]), 21], [array([-5.  , 26.58, 24.38, -2.68, -3.24]), 36], [array([ 2.8 , 27.46, 24.98, -2.42, -3.2 ]), 47], [array([-7.4 , 26.06, 24.34, -3.36, -3.48]), 28], [array([-1.6 , 27.1 , 25.02, -3.08, -3.44]), 49], [array([-11.8 ,  25.7 ,  24.38,  -4.02,  -3.72]), 17], [array([-8.2 , 26.72, 25.08, -3.74, -3.66]), 24], [array([-3.  , 27.72, 25.68, -3.42, -3.62]), 48], [array([-13.2 ,  26.32,  25.04,  -4.36,  -3.9 ]), 13], [array([-10.4 ,  27.18,  25.64,  -4.14,  -3.88]), 20], [array([-6.  , 28.2 , 26.38, -3.84, -3.8 ]), 35], [array([ 1.6 , 29.18, 27.  , -3.54, -3.78]), 47], [array([-8.6 , 27.78, 26.36, -4.48, -4.06]), 24], [array([-3.6 , 28.74, 27.04, -4.1 , -4.02]), 49], [array([-13.8 ,  27.34,  26.4 ,  -5.04,  -4.3 ]), 13], [array([-11.  ,  28.2 ,  27.  ,  -4.82,  -4.28]), 20], [array([-6.6 , 29.22, 27.74, -4.52, -4.2 ]), 32], [array([ 0.4 , 30.2 , 28.36, -4.22, -4.18]), 47], [array([-9.8 , 28.8 , 27.72, -5.16, -4.46]), 23], [array([-5.  , 29.82, 28.38, -4.82, -4.36]), 40], [array([ 3.4 , 30.72, 28.84, -4.56, -4.3 ]), 48], [array([-6.8 , 29.32, 28.2 , -5.5 , -4.58]), 34], [array([ 0.2 , 30.3 , 28.82, -5.2 , -4.56]), 49], [array([-10.  ,  28.9 ,  28.18,  -6.14,  -4.84]), 22], [array([-5.4 , 29.82, 28.9 , -5.94, -4.8 ]), 37], [array([ 2.4 , 30.7 , 29.5 , -5.68, -4.76]), 48], [array([-7.8 , 29.3 , 28.86, -6.62, -5.04]), 29], [array([-1.8 , 30.24, 29.5 , -6.3 , -5.  ]), 49], [array([-12.  ,  28.84,  28.86,  -7.24,  -5.28]), 20], [array([-7.8 , 29.92, 29.54, -6.9 , -5.24]), 28], [array([-1.8 , 30.86, 30.18, -6.58, -5.2 ]), 48], [array([-12.  ,  29.46,  29.54,  -7.52,  -5.48]), 20], [array([-7.8 , 30.54, 30.22, -7.18, -5.44]), 28], [array([-1.8 , 31.48, 30.86, -6.86, -5.4 ]), 48], [array([-12.  ,  30.08,  30.22,  -7.8 ,  -5.68]), 20], [array([-7.8 , 31.16, 30.9 , -7.46, -5.64]), 28], [array([-1.8 , 32.1 , 31.54, -7.14, -5.6 ]), 48], [array([-12.  ,  30.7 ,  30.9 ,  -8.08,  -5.88]), 21], [array([-7.6 , 31.72, 31.64, -7.78, -5.8 ]), 33], [array([-0.6 , 32.7 , 32.26, -7.48, -5.78]), 48], [array([-10.8 ,  31.3 ,  31.62,  -8.42,  -6.06]), 22], [array([-6.2 , 32.22, 32.34, -8.22, -6.02]), 37], [array([ 1.6 , 33.1 , 32.94, -7.96, -5.98]), 48], [array([-8.6 , 31.7 , 32.3 , -8.9 , -6.26]), 29], [array([-2.6 , 32.64, 32.94, -8.58, -6.22]), 49], [array([-12.8 ,  31.24,  32.3 ,  -9.52,  -6.5 ]), 20], [array([-8.6 , 32.32, 32.98, -9.18, -6.46]), 28], [array([-2.6 , 33.26, 33.62, -8.86, -6.42]), 48], [array([-12.8 ,  31.86,  32.98,  -9.8 ,  -6.7 ]), 20], [array([-8.6 , 32.94, 33.66, -9.46, -6.66]), 28], [array([-2.6 , 33.88, 34.3 , -9.14, -6.62]), 48], [array([-12.8 ,  32.48,  33.66, -10.08,  -6.9 ]), 21], [array([-8.4 , 33.5 , 34.4 , -9.78, -6.82]), 28], [array([-2.4 , 34.44, 35.04, -9.46, -6.78]), 48], [array([-12.6 ,  33.04,  34.4 , -10.4 ,  -7.06]), 22], [array([ -8.  ,  33.96,  35.12, -10.2 ,  -7.02]), 33], [array([-1.  , 34.94, 35.74, -9.9 , -7.  ]), 48], [array([-11.2 ,  33.54,  35.1 , -10.84,  -7.28]), 23], [array([ -6.4 ,  34.56,  35.76, -10.5 ,  -7.18]), 37], [array([  1.4 ,  35.44,  36.36, -10.24,  -7.14]), 48], [array([ -8.8 ,  34.04,  35.72, -11.18,  -7.42]), 29], [array([ -2.8 ,  34.98,  36.36, -10.86,  -7.38]), 49], [array([-13.  ,  33.58,  35.72, -11.8 ,  -7.66]), 21], [array([ -8.6 ,  34.6 ,  36.46, -11.5 ,  -7.58]), 29], [array([ -2.4 ,  35.56,  37.08, -11.18,  -7.54]), 48], [array([-12.6 ,  34.16,  36.44, -12.12,  -7.82]), 22], [array([ -8.  ,  35.08,  37.16, -11.92,  -7.78]), 33], [array([ -1.  ,  36.06,  37.78, -11.62,  -7.76]), 48], [array([-11.2 ,  34.66,  37.14, -12.56,  -8.04]), 24], [array([ -6.2 ,  35.62,  37.82, -12.18,  -8.  ]), 40], [array([  2.2 ,  36.52,  38.28, -11.92,  -7.94]), 48], [array([ -8.  ,  35.12,  37.64, -12.86,  -8.22]), 34], [array([ -1.  ,  36.1 ,  38.26, -12.56,  -8.2 ]), 49], [array([-11.2 ,  34.7 ,  37.62, -13.5 ,  -8.48]), 24], [array([ -6.2 ,  35.66,  38.3 , -13.12,  -8.44]), 40], [array([  2.2 ,  36.56,  38.76, -12.86,  -8.38]), 48], [array([ -8.  ,  35.16,  38.12, -13.8 ,  -8.66]), 34], [array([ -1.  ,  36.14,  38.74, -13.5 ,  -8.64]), 49], [array([-11.2 ,  34.74,  38.1 , -14.44,  -8.92]), 24], [array([ -6.2 ,  35.7 ,  38.78, -14.06,  -8.88]), 40], [array([  2.2 ,  36.6 ,  39.24, -13.8 ,  -8.82]), 48], [array([ -8.  ,  35.2 ,  38.6 , -14.74,  -9.1 ]), 34], [array([ -1.  ,  36.18,  39.22, -14.44,  -9.08]), 49], [array([-11.2 ,  34.78,  38.58, -15.38,  -9.36]), 24], [array([ -6.2 ,  35.74,  39.26, -15.  ,  -9.32]), 40], [array([  2.2 ,  36.64,  39.72, -14.74,  -9.26]), 48], [array([ -8.  ,  35.24,  39.08, -15.68,  -9.54]), 34], [array([ -1.  ,  36.22,  39.7 , -15.38,  -9.52]), 49], [array([-11.2 ,  34.82,  39.06, -16.32,  -9.8 ]), 24], [array([ -6.2 ,  35.78,  39.74, -15.94,  -9.76]), 40], [array([  2.2 ,  36.68,  40.2 , -15.68,  -9.7 ]), 48], [array([ -8.  ,  35.28,  39.56, -16.62,  -9.98]), 34], [array([ -1.  ,  36.26,  40.18, -16.32,  -9.96]), 49], [array([-11.2 ,  34.86,  39.54, -17.26, -10.24]), 24], [array([ -6.2 ,  35.82,  40.22, -16.88, -10.2 ]), 40], [array([  2.2 ,  36.72,  40.68, -16.62, -10.14]), 48], [array([ -8.  ,  35.32,  40.04, -17.56, -10.42]), 34], [array([ -1.  ,  36.3 ,  40.66, -17.26, -10.4 ]), 49], [array([-11.2 ,  34.9 ,  40.02, -18.2 , -10.68]), 24], [array([ -6.2 ,  35.86,  40.7 , -17.82, -10.64]), 40], [array([  2.2 ,  36.76,  41.16, -17.56, -10.58]), 48], [array([ -8.  ,  35.36,  40.52, -18.5 , -10.86]), 34], [array([ -1.  ,  36.34,  41.14, -18.2 , -10.84]), 49], [array([-11.2 ,  34.94,  40.5 , -19.14, -11.12]), 24], [array([ -6.2 ,  35.9 ,  41.18, -18.76, -11.08]), 40], [array([  2.2 ,  36.8 ,  41.64, -18.5 , -11.02]), 48], [array([ -8.  ,  35.4 ,  41.  , -19.44, -11.3 ]), 34], [array([ -1.  ,  36.38,  41.62, -19.14, -11.28]), 49], [array([-11.2 ,  34.98,  40.98, -20.08, -11.56]), 24], [array([ -6.2 ,  35.94,  41.66, -19.7 , -11.52]), 40], [array([  2.2 ,  36.84,  42.12, -19.44, -11.46]), 48], [array([ -8.  ,  35.44,  41.48, -20.38, -11.74]), 34], [array([ -1.  ,  36.42,  42.1 , -20.08, -11.72]), 49], [array([-11.2 ,  35.02,  41.46, -21.02, -12.  ]), 24], [array([ -6.2 ,  35.98,  42.14, -20.64, -11.96]), 40], [array([  2.2 ,  36.88,  42.6 , -20.38, -11.9 ]), 48], [array([ -8.  ,  35.48,  41.96, -21.32, -12.18]), 34], [array([ -1.  ,  36.46,  42.58, -21.02, -12.16]), 49], [array([-11.2 ,  35.06,  41.94, -21.96, -12.44]), 24], [array([ -6.2 ,  36.02,  42.62, -21.58, -12.4 ]), 40], [array([  2.2 ,  36.92,  43.08, -21.32, -12.34]), 48], [array([ -8.  ,  35.52,  42.44, -22.26, -12.62]), 34], [array([ -1.  ,  36.5 ,  43.06, -21.96, -12.6 ]), 49], [array([-11.2 ,  35.1 ,  42.42, -22.9 , -12.88]), 24], [array([ -6.2 ,  36.06,  43.1 , -22.52, -12.84]), 40], [array([  2.2 ,  36.96,  43.56, -22.26, -12.78]), 48], [array([ -8.  ,  35.56,  42.92, -23.2 , -13.06]), 34], [array([ -1.  ,  36.54,  43.54, -22.9 , -13.04]), 49], [array([-11.2 ,  35.14,  42.9 , -23.84, -13.32]), 24], [array([ -6.2 ,  36.1 ,  43.58, -23.46, -13.28]), 40], [array([  2.2 ,  37.  ,  44.04, -23.2 , -13.22]), 48], [array([ -8.  ,  35.6 ,  43.4 , -24.14, -13.5 ]), 34], [array([ -1.  ,  36.58,  44.02, -23.84, -13.48]), 49], [array([-11.2 ,  35.18,  43.38, -24.78, -13.76]), 24], [array([ -6.2 ,  36.14,  44.06, -24.4 , -13.72]), 40], [array([  2.2 ,  37.04,  44.52, -24.14, -13.66]), 48], [array([ -8.  ,  35.64,  43.88, -25.08, -13.94]), 34], [array([ -1.  ,  36.62,  44.5 , -24.78, -13.92]), 49], [array([-11.2 ,  35.22,  43.86, -25.72, -14.2 ]), 24], [array([ -6.2 ,  36.18,  44.54, -25.34, -14.16]), 40], [array([  2.2 ,  37.08,  45.  , -25.08, -14.1 ]), 48], [array([ -8.  ,  35.68,  44.36, -26.02, -14.38]), 34], [array([ -1.  ,  36.66,  44.98, -25.72, -14.36]), 49], [array([-11.2 ,  35.26,  44.34, -26.66, -14.64]), 24], [array([ -6.2 ,  36.22,  45.02, -26.28, -14.6 ]), 40], [array([  2.2 ,  37.12,  45.48, -26.02, -14.54]), 48], [array([ -8.  ,  35.72,  44.84, -26.96, -14.82]), 34], [array([ -1.  ,  36.7 ,  45.46, -26.66, -14.8 ]), 49], [array([-11.2 ,  35.3 ,  44.82, -27.6 , -15.08]), 24], [array([ -6.2 ,  36.26,  45.5 , -27.22, -15.04]), 40], [array([  2.2 ,  37.16,  45.96, -26.96, -14.98]), 48], [array([ -8.  ,  35.76,  45.32, -27.9 , -15.26]), 34], [array([ -1.  ,  36.74,  45.94, -27.6 , -15.24]), 49], [array([-11.2 ,  35.34,  45.3 , -28.54, -15.52]), 24], [array([ -6.2 ,  36.3 ,  45.98, -28.16, -15.48]), 40], [array([  2.2 ,  37.2 ,  46.44, -27.9 , -15.42]), 48], [array([ -8.  ,  35.8 ,  45.8 , -28.84, -15.7 ]), 34], [array([ -1.  ,  36.78,  46.42, -28.54, -15.68]), 49], [array([-11.2 ,  35.38,  45.78, -29.48, -15.96]), 24], [array([ -6.2 ,  36.34,  46.46, -29.1 , -15.92]), 40], [array([  2.2 ,  37.24,  46.92, -28.84, -15.86]), 48], [array([ -8.  ,  35.84,  46.28, -29.78, -16.14]), 34], [array([ -1.  ,  36.82,  46.9 , -29.48, -16.12]), 49], [array([-11.2 ,  35.42,  46.26, -30.42, -16.4 ]), 24], [array([ -6.2 ,  36.38,  46.94, -30.04, -16.36]), 40], [array([  2.2 ,  37.28,  47.4 , -29.78, -16.3 ]), 48], [array([ -8.  ,  35.88,  46.76, -30.72, -16.58]), 34], [array([ -1.  ,  36.86,  47.38, -30.42, -16.56]), 49], [array([-11.2 ,  35.46,  46.74, -31.36, -16.84]), 24], [array([ -6.2 ,  36.42,  47.42, -30.98, -16.8 ]), 40], [array([  2.2 ,  37.32,  47.88, -30.72, -16.74]), 48], [array([ -8.  ,  35.92,  47.24, -31.66, -17.02]), 34], [array([ -1.  ,  36.9 ,  47.86, -31.36, -17.  ]), 49], [array([-11.2 ,  35.5 ,  47.22, -32.3 , -17.28]), 24], [array([ -6.2 ,  36.46,  47.9 , -31.92, -17.24]), 40], [array([  2.2 ,  37.36,  48.36, -31.66, -17.18]), 48], [array([ -8.  ,  35.96,  47.72, -32.6 , -17.46]), 34], [array([ -1.  ,  36.94,  48.34, -32.3 , -17.44]), 49], [array([-11.2 ,  35.54,  47.7 , -33.24, -17.72]), 24], [array([ -6.2 ,  36.5 ,  48.38, -32.86, -17.68]), 40], [array([  2.2 ,  37.4 ,  48.84, -32.6 , -17.62]), 48], [array([ -8.  ,  36.  ,  48.2 , -33.54, -17.9 ]), 34], [array([ -1.  ,  36.98,  48.82, -33.24, -17.88]), 49], [array([-11.2 ,  35.58,  48.18, -34.18, -18.16]), 24], [array([ -6.2 ,  36.54,  48.86, -33.8 , -18.12]), 40], [array([  2.2 ,  37.44,  49.32, -33.54, -18.06]), 48], [array([ -8.  ,  36.04,  48.68, -34.48, -18.34]), 34], [array([ -1.  ,  37.02,  49.3 , -34.18, -18.32]), 49], [array([-11.2 ,  35.62,  48.66, -35.12, -18.6 ]), 24], [array([ -6.2 ,  36.58,  49.34, -34.74, -18.56]), 40], [array([  2.2 ,  37.48,  49.8 , -34.48, -18.5 ]), 48], [array([ -8.  ,  36.08,  49.16, -35.42, -18.78]), 34], [array([ -1.  ,  37.06,  49.78, -35.12, -18.76]), 49], [array([-11.2 ,  35.66,  49.14, -36.06, -19.04]), 24], [array([ -6.2 ,  36.62,  49.82, -35.68, -19.  ]), 40], [array([  2.2 ,  37.52,  50.28, -35.42, -18.94]), 48], [array([ -8.  ,  36.12,  49.64, -36.36, -19.22]), 34], [array([ -1.  ,  37.1 ,  50.26, -36.06, -19.2 ]), 49], [array([-11.2 ,  35.7 ,  49.62, -37.  , -19.48]), 24], [array([ -6.2 ,  36.66,  50.3 , -36.62, -19.44]), 40], [array([  2.2 ,  37.56,  50.76, -36.36, -19.38]), 48], [array([ -8.  ,  36.16,  50.12, -37.3 , -19.66]), 34], [array([ -1.  ,  37.14,  50.74, -37.  , -19.64]), 49], [array([-11.2 ,  35.74,  50.1 , -37.94, -19.92]), 24], [array([ -6.2 ,  36.7 ,  50.78, -37.56, -19.88]), 40], [array([  2.2 ,  37.6 ,  51.24, -37.3 , -19.82]), 48], [array([ -8.  ,  36.2 ,  50.6 , -38.24, -20.1 ]), 34], [array([ -1.  ,  37.18,  51.22, -37.94, -20.08]), 49], [array([-11.2 ,  35.78,  50.58, -38.88, -20.36]), 24], [array([ -6.2 ,  36.74,  51.26, -38.5 , -20.32]), 40], [array([  2.2 ,  37.64,  51.72, -38.24, -20.26]), 48], [array([ -8.  ,  36.24,  51.08, -39.18, -20.54]), 34], [array([ -1.  ,  37.22,  51.7 , -38.88, -20.52]), 49], [array([-11.2 ,  35.82,  51.06, -39.82, -20.8 ]), 24], [array([ -6.2 ,  36.78,  51.74, -39.44, -20.76]), 40], [array([  2.2 ,  37.68,  52.2 , -39.18, -20.7 ]), 48], [array([ -8.  ,  36.28,  51.56, -40.12, -20.98]), 34], [array([ -1.  ,  37.26,  52.18, -39.82, -20.96]), 49], [array([-11.2 ,  35.86,  51.54, -40.76, -21.24]), 24], [array([ -6.2 ,  36.82,  52.22, -40.38, -21.2 ]), 40], [array([  2.2 ,  37.72,  52.68, -40.12, -21.14]), 48], [array([ -8.  ,  36.32,  52.04, -41.06, -21.42]), 34], [array([ -1.  ,  37.3 ,  52.66, -40.76, -21.4 ]), 49], [array([-11.2 ,  35.9 ,  52.02, -41.7 , -21.68]), 24], [array([ -6.2 ,  36.86,  52.7 , -41.32, -21.64]), 40], [array([  2.2 ,  37.76,  53.16, -41.06, -21.58]), 48], [array([ -8.  ,  36.36,  52.52, -42.  , -21.86]), 34], [array([ -1.  ,  37.34,  53.14, -41.7 , -21.84]), 49], [array([-11.2 ,  35.94,  52.5 , -42.64, -22.12]), 24], [array([ -6.2 ,  36.9 ,  53.18, -42.26, -22.08]), 40], [array([  2.2 ,  37.8 ,  53.64, -42.  , -22.02]), 48], [array([ -8.  ,  36.4 ,  53.  , -42.94, -22.3 ]), 34], [array([ -1.  ,  37.38,  53.62, -42.64, -22.28]), 49], [array([-11.2 ,  35.98,  52.98, -43.58, -22.56]), 24], [array([ -6.2 ,  36.94,  53.66, -43.2 , -22.52]), 40], [array([  2.2 ,  37.84,  54.12, -42.94, -22.46]), 48], [array([ -8.  ,  36.44,  53.48, -43.88, -22.74]), 34], [array([ -1.  ,  37.42,  54.1 , -43.58, -22.72]), 49], [array([-11.2 ,  36.02,  53.46, -44.52, -23.  ]), 24], [array([ -6.2 ,  36.98,  54.14, -44.14, -22.96]), 40], [array([  2.2 ,  37.88,  54.6 , -43.88, -22.9 ]), 48], [array([ -8.  ,  36.48,  53.96, -44.82, -23.18]), 34], [array([ -1.  ,  37.46,  54.58, -44.52, -23.16]), 49], [array([-11.2 ,  36.06,  53.94, -45.46, -23.44]), 24], [array([ -6.2 ,  37.02,  54.62, -45.08, -23.4 ]), 40], [array([  2.2 ,  37.92,  55.08, -44.82, -23.34]), 48], [array([ -8.  ,  36.52,  54.44, -45.76, -23.62]), 34], [array([ -1.  ,  37.5 ,  55.06, -45.46, -23.6 ]), 49], [array([-11.2 ,  36.1 ,  54.42, -46.4 , -23.88]), 24], [array([ -6.2 ,  37.06,  55.1 , -46.02, -23.84]), 40], [array([  2.2 ,  37.96,  55.56, -45.76, -23.78]), 48], [array([ -8.  ,  36.56,  54.92, -46.7 , -24.06]), 34], [array([ -1.  ,  37.54,  55.54, -46.4 , -24.04]), 49], [array([-11.2 ,  36.14,  54.9 , -47.34, -24.32]), 24], [array([ -6.2 ,  37.1 ,  55.58, -46.96, -24.28]), 40], [array([  2.2 ,  38.  ,  56.04, -46.7 , -24.22]), 48], [array([ -8.  ,  36.6 ,  55.4 , -47.64, -24.5 ]), 34], [array([ -1.  ,  37.58,  56.02, -47.34, -24.48]), 49], [array([-11.2 ,  36.18,  55.38, -48.28, -24.76]), 24], [array([ -6.2 ,  37.14,  56.06, -47.9 , -24.72]), 40], [array([  2.2 ,  38.04,  56.52, -47.64, -24.66]), 48], [array([ -8.  ,  36.64,  55.88, -48.58, -24.94]), 34], [array([ -1.  ,  37.62,  56.5 , -48.28, -24.92]), 49], [array([-11.2 ,  36.22,  55.86, -49.22, -25.2 ]), 24], [array([ -6.2 ,  37.18,  56.54, -48.84, -25.16]), 40], [array([  2.2 ,  38.08,  57.  , -48.58, -25.1 ]), 48], [array([ -8.  ,  36.68,  56.36, -49.52, -25.38]), 34], [array([ -1.  ,  37.66,  56.98, -49.22, -25.36]), 49], [array([-11.2 ,  36.26,  56.34, -50.16, -25.64]), 24], [array([ -6.2 ,  37.22,  57.02, -49.78, -25.6 ]), 40], [array([  2.2 ,  38.12,  57.48, -49.52, -25.54]), 48], [array([ -8.  ,  36.72,  56.84, -50.46, -25.82]), 34], [array([ -1.  ,  37.7 ,  57.46, -50.16, -25.8 ]), 49], [array([-11.2 ,  36.3 ,  56.82, -51.1 , -26.08]), 24], [array([ -6.2 ,  37.26,  57.5 , -50.72, -26.04]), 40], [array([  2.2 ,  38.16,  57.96, -50.46, -25.98]), 48], [array([ -8.  ,  36.76,  57.32, -51.4 , -26.26]), 34], [array([ -1.  ,  37.74,  57.94, -51.1 , -26.24]), 49], [array([-11.2 ,  36.34,  57.3 , -52.04, -26.52]), 24], [array([ -6.2 ,  37.3 ,  57.98, -51.66, -26.48]), 40], [array([  2.2 ,  38.2 ,  58.44, -51.4 , -26.42]), 48], [array([ -8.  ,  36.8 ,  57.8 , -52.34, -26.7 ]), 34], [array([ -1.  ,  37.78,  58.42, -52.04, -26.68]), 49], [array([-11.2 ,  36.38,  57.78, -52.98, -26.96]), 24], [array([ -6.2 ,  37.34,  58.46, -52.6 , -26.92]), 40], [array([  2.2 ,  38.24,  58.92, -52.34, -26.86]), 48], [array([ -8.  ,  36.84,  58.28, -53.28, -27.14]), 34], [array([ -1.  ,  37.82,  58.9 , -52.98, -27.12]), 49], [array([-11.2 ,  36.42,  58.26, -53.92, -27.4 ]), 24], [array([ -6.2 ,  37.38,  58.94, -53.54, -27.36]), 40], [array([  2.2 ,  38.28,  59.4 , -53.28, -27.3 ]), 48], [array([ -8.  ,  36.88,  58.76, -54.22, -27.58]), 34], [array([ -1.  ,  37.86,  59.38, -53.92, -27.56]), 49], [array([-11.2 ,  36.46,  58.74, -54.86, -27.84]), 24], [array([ -6.2 ,  37.42,  59.42, -54.48, -27.8 ]), 40], [array([  2.2 ,  38.32,  59.88, -54.22, -27.74]), 48], [array([ -8.  ,  36.92,  59.24, -55.16, -28.02]), 34], [array([ -1.  ,  37.9 ,  59.86, -54.86, -28.  ]), 49], [array([-11.2 ,  36.5 ,  59.22, -55.8 , -28.28]), 24], [array([ -6.2 ,  37.46,  59.9 , -55.42, -28.24]), 40], [array([  2.2 ,  38.36,  60.36, -55.16, -28.18]), 48], [array([ -8.  ,  36.96,  59.72, -56.1 , -28.46]), 34], [array([ -1.  ,  37.94,  60.34, -55.8 , -28.44]), 49], [array([-11.2 ,  36.54,  59.7 , -56.74, -28.72]), 24], [array([ -6.2 ,  37.5 ,  60.38, -56.36, -28.68]), 40], [array([  2.2 ,  38.4 ,  60.84, -56.1 , -28.62]), 48], [array([ -8.  ,  37.  ,  60.2 , -57.04, -28.9 ]), 34], [array([ -1.  ,  37.98,  60.82, -56.74, -28.88]), 49], [array([-11.2 ,  36.58,  60.18, -57.68, -29.16]), 24], [array([ -6.2 ,  37.54,  60.86, -57.3 , -29.12]), 40], [array([  2.2 ,  38.44,  61.32, -57.04, -29.06]), 48], [array([ -8.  ,  37.04,  60.68, -57.98, -29.34]), 34], [array([ -1.  ,  38.02,  61.3 , -57.68, -29.32]), 49], [array([-11.2 ,  36.62,  60.66, -58.62, -29.6 ]), 24], [array([ -6.2 ,  37.58,  61.34, -58.24, -29.56]), 40], [array([  2.2 ,  38.48,  61.8 , -57.98, -29.5 ]), 48], [array([ -8.  ,  37.08,  61.16, -58.92, -29.78]), 34], [array([ -1.  ,  38.06,  61.78, -58.62, -29.76]), 49], [array([-11.2 ,  36.66,  61.14, -59.56, -30.04]), 24], [array([ -6.2 ,  37.62,  61.82, -59.18, -30.  ]), 40], [array([  2.2 ,  38.52,  62.28, -58.92, -29.94]), 48], [array([ -8.  ,  37.12,  61.64, -59.86, -30.22]), 37], [array([ -0.4 ,  38.1 ,  62.26, -59.56, -30.2 ]), 49], [array([-10.6 ,  36.7 ,  61.62, -60.5 , -30.48]), 24], [array([ -5.6 ,  37.66,  62.3 , -60.12, -30.44]), 40], [array([  2.8 ,  38.56,  62.76, -59.86, -30.38]), 48], [array([ -7.4 ,  37.16,  62.12, -60.8 , -30.66]), 37], [array([  0.2 ,  38.14,  62.74, -60.5 , -30.64]), 49], [array([-10.  ,  36.74,  62.1 , -61.44, -30.92]), 29]]\n"
          ]
        }
      ]
    },
    {
      "cell_type": "markdown",
      "metadata": {
        "id": "B2bjmZVEn8k-"
      },
      "source": [
        "###Testing the Accuracy of the Model"
      ]
    },
    {
      "cell_type": "code",
      "metadata": {
        "colab": {
          "base_uri": "https://localhost:8080/"
        },
        "id": "ue_zJ7GtmZSC",
        "outputId": "24f8346e-3af0-47f1-bcfa-17b24fc12ac3"
      },
      "source": [
        "acc_van=count_voted_perc_acc(W1[0],db)\n",
        "print(acc_van)"
      ],
      "execution_count": 165,
      "outputs": [
        {
          "output_type": "stream",
          "name": "stdout",
          "text": [
            "0.98\n"
          ]
        }
      ]
    },
    {
      "cell_type": "markdown",
      "metadata": {
        "id": "M4O0c87E7q82"
      },
      "source": [
        "### Accuracy vs Number of Epochs Elapsed\n"
      ]
    },
    {
      "cell_type": "code",
      "metadata": {
        "colab": {
          "base_uri": "https://localhost:8080/"
        },
        "id": "f-ZyzyiZ9MwH",
        "outputId": "80be259c-4a36-4bee-b325-73acd431948e"
      },
      "source": [
        "G2=W1[1]\n",
        "#print(G)\n",
        "x=np.arange(len(G2))\n",
        "y=[count_voted_perc_acc(G[i],db) for i in range(len(G2))]\n",
        "print(y)"
      ],
      "execution_count": 173,
      "outputs": [
        {
          "output_type": "stream",
          "name": "stdout",
          "text": [
            "[0.3333333333333333, 0.3333333333333333, 0.3333333333333333, 0.3333333333333333, 0.3933333333333333, 0.7933333333333333, 0.94, 0.9266666666666666, 0.9266666666666666, 0.9533333333333334, 0.9466666666666667, 0.94, 0.9466666666666667, 0.9333333333333333, 0.9466666666666667, 0.9466666666666667, 0.9533333333333334, 0.9533333333333334, 0.9466666666666667, 0.9466666666666667, 0.9466666666666667, 0.9466666666666667, 0.9533333333333334, 0.9533333333333334, 0.9533333333333334, 0.9533333333333334, 0.96, 0.9533333333333334, 0.9666666666666667, 0.9666666666666667, 0.9666666666666667, 0.96, 0.9666666666666667, 0.9666666666666667, 0.9666666666666667, 0.9666666666666667, 0.9666666666666667, 0.9666666666666667, 0.96, 0.96, 0.9666666666666667, 0.9666666666666667, 0.9666666666666667, 0.9666666666666667, 0.9666666666666667, 0.9666666666666667, 0.98, 0.98, 0.98, 0.98, 0.98, 0.9733333333333334, 0.9666666666666667, 0.9666666666666667, 0.9666666666666667, 0.9666666666666667, 0.9666666666666667, 0.9666666666666667, 0.9666666666666667, 0.9666666666666667, 0.9666666666666667, 0.9666666666666667, 0.9666666666666667, 0.9666666666666667, 0.9666666666666667, 0.9666666666666667, 0.96, 0.96, 0.96, 0.96, 0.96, 0.96, 0.96, 0.96, 0.96, 0.96, 0.96, 0.96, 0.96, 0.96, 0.96, 0.96, 0.96, 0.96, 0.96, 0.96, 0.96, 0.96, 0.96, 0.96, 0.96, 0.96, 0.96, 0.96, 0.9666666666666667, 0.9666666666666667, 0.9666666666666667, 0.9666666666666667, 0.9666666666666667, 0.9666666666666667, 0.9666666666666667, 0.9666666666666667, 0.9666666666666667, 0.9666666666666667, 0.9666666666666667, 0.9666666666666667, 0.9666666666666667, 0.9666666666666667, 0.9666666666666667, 0.9666666666666667, 0.9666666666666667, 0.9666666666666667, 0.9733333333333334, 0.9733333333333334, 0.9733333333333334, 0.9733333333333334, 0.98, 0.98, 0.98, 0.98, 0.98, 0.98, 0.98, 0.98, 0.98, 0.98, 0.98, 0.98, 0.98, 0.98, 0.98, 0.98, 0.98, 0.98, 0.98, 0.98, 0.98, 0.98, 0.98, 0.98, 0.98, 0.98, 0.98, 0.98, 0.98, 0.98, 0.98, 0.98, 0.98, 0.98]\n"
          ]
        }
      ]
    },
    {
      "cell_type": "code",
      "metadata": {
        "colab": {
          "base_uri": "https://localhost:8080/",
          "height": 280
        },
        "id": "6PWQYxYZ-hK7",
        "outputId": "1c9d9d12-6a5c-4ba7-f2ce-1b4d217c38ce"
      },
      "source": [
        "plt.plot(x,y)\n",
        "plt.xlabel(\"Epoch\")\n",
        "plt.ylabel(\"Accuracy Achieved (in %)\")\n",
        "plt.show()"
      ],
      "execution_count": 174,
      "outputs": [
        {
          "output_type": "display_data",
          "data": {
            "image/png": "[encoded data removed]",
            "text/plain": [
              "<Figure size 432x288 with 1 Axes>"
            ]
          },
          "metadata": {
            "needs_background": "light"
          }
        }
      ]
    },
    {
      "cell_type": "markdown",
      "metadata": {
        "id": "yaH0Skfw_zYR"
      },
      "source": [
        "The exact opposite of a sleeper hit: at least in this situation, it shot up and didn't nearly oscillate as much but it stabilised towards the end.\n",
        "\n",
        "Didn't give us a cent percent accuracy, but at 98%, it's not half bad. Might be due to the entire voting process.\n",
        "\n",
        "Compared to the normal vanilla perceptron, of course this took the same number of epochs to terminate,but it approached termination much faster than the former in initial stages, and did not nearly oscillate at much, achieving near perfect accuracy very early on.\n",
        "\n",
        "Suffice it to say that the voting process definitely works wonders.\n",
        "\n",
        "(Note: I used a learning rate of 0.2 but that can be turned up to 1 of course.)"
      ]
    }
  ]
}