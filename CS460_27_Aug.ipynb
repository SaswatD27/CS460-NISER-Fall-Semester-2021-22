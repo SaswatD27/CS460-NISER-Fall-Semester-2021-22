{
  "nbformat": 4,
  "nbformat_minor": 0,
  "metadata": {
    "colab": {
      "name": "CS460 27 Aug.ipynb",
      "provenance": [],
      "authorship_tag": "ABX9TyM0uuNl+lDyEf68Ph/67dim",
      "include_colab_link": true
    },
    "kernelspec": {
      "display_name": "Python 3",
      "name": "python3"
    },
    "language_info": {
      "name": "python"
    }
  },
  "cells": [
    {
      "cell_type": "markdown",
      "metadata": {
        "id": "view-in-github",
        "colab_type": "text"
      },
      "source": [
        "<a href=\"https://colab.research.google.com/github/SaswatD27/CS460-NISER-Fall-Semester-2021-22/blob/main/CS460_27_Aug.ipynb\" target=\"_parent\"><img src=\"https://colab.research.google.com/assets/colab-badge.svg\" alt=\"Open In Colab\"/></a>"
      ]
    },
    {
      "cell_type": "markdown",
      "metadata": {
        "id": "DVcj7ccnqFrM"
      },
      "source": [
        "#**Objective: Take the Dataset you created, grab Scikit Learn and do some Linear Regression on it, Private.**\n",
        "Lima Charlie, sir."
      ]
    },
    {
      "cell_type": "code",
      "metadata": {
        "colab": {
          "base_uri": "https://localhost:8080/",
          "height": 279
        },
        "id": "J_fH6pF-gzT6",
        "outputId": "935c2eff-d151-43bc-b4af-75ec2a14c0b9"
      },
      "source": [
        "import numpy as np\n",
        "from matplotlib import pyplot as plt\n",
        "n=100\n",
        "m=np.random.uniform(-1,1)\n",
        "#print(m)\n",
        "x=np.random.uniform(-5,5,n)\n",
        "#print(x)\n",
        "c=np.random.uniform(-1,1,n)\n",
        "#print(c)\n",
        "y=m*x+c\n",
        "#print(y)\n",
        "plt.scatter(x,y)\n",
        "plt.xlabel(\"x-axis\")\n",
        "plt.ylabel(\"y-axis\")\n",
        "plt.show()"
      ],
      "execution_count": null,
      "outputs": [
        {
          "data": {
            "image/png": "[encoded data removed]",
            "text/plain": [
              "<Figure size 432x288 with 1 Axes>"
            ]
          },
          "metadata": {},
          "output_type": "display_data"
        }
      ]
    },
    {
      "cell_type": "code",
      "metadata": {
        "id": "rLagxHhxqo-0",
        "colab": {
          "base_uri": "https://localhost:8080/"
        },
        "outputId": "b467cf62-15c8-4162-da92-bb8d7b696c7a"
      },
      "source": [
        "from sklearn.linear_model import LinearRegression\n",
        "x1=x.reshape(-1,1)\n",
        "line=LinearRegression().fit(x1,y)\n",
        "print(line)\n",
        "print(line.score(x1,y))"
      ],
      "execution_count": 44,
      "outputs": [
        {
          "output_type": "stream",
          "text": [
            "LinearRegression(copy_X=True, fit_intercept=True, n_jobs=None, normalize=False)\n",
            "0.8345592306931301\n"
          ],
          "name": "stdout"
        }
      ]
    },
    {
      "cell_type": "code",
      "metadata": {
        "colab": {
          "base_uri": "https://localhost:8080/",
          "height": 282
        },
        "id": "oi9JY1RGwdUY",
        "outputId": "7c2ddac4-4a0a-4ec4-c7eb-95c569f62ab1"
      },
      "source": [
        "plt.plot(x,line.predict(x1))\n",
        "plt.scatter(x,y)\n",
        "plt.show()"
      ],
      "execution_count": 43,
      "outputs": [
        {
          "output_type": "execute_result",
          "data": {
            "text/plain": [
              "<matplotlib.collections.PathCollection at 0x7f5b187e00d0>"
            ]
          },
          "metadata": {},
          "execution_count": 43
        },
        {
          "output_type": "display_data",
          "data": {
            "image/png": "[encoded data removed]",
            "text/plain": [
              "<Figure size 432x288 with 1 Axes>"
            ]
          },
          "metadata": {
            "needs_background": "light"
          }
        }
      ]
    }
  ]
}
