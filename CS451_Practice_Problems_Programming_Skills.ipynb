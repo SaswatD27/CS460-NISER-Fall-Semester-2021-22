{
  "nbformat": 4,
  "nbformat_minor": 0,
  "metadata": {
    "colab": {
      "name": "CS451 Practice Problems - Programming Skills.ipynb",
      "provenance": [],
      "authorship_tag": "ABX9TyPs5oaJFsyQ1E81RURxlGPe",
      "include_colab_link": true
    },
    "kernelspec": {
      "name": "python3",
      "display_name": "Python 3"
    },
    "language_info": {
      "name": "python"
    }
  },
  "cells": [
    {
      "cell_type": "markdown",
      "metadata": {
        "id": "view-in-github",
        "colab_type": "text"
      },
      "source": [
        "<a href=\"https://colab.research.google.com/github/SaswatD27/CS460-NISER-Fall-Semester-2021-22/blob/main/CS451_Practice_Problems_Programming_Skills.ipynb\" target=\"_parent\"><img src=\"https://colab.research.google.com/assets/colab-badge.svg\" alt=\"Open In Colab\"/></a>"
      ]
    },
    {
      "cell_type": "markdown",
      "metadata": {
        "id": "SdllY6UzyBoo"
      },
      "source": [
        "#Programming Skills\n",
        "##Importing Libraries"
      ]
    },
    {
      "cell_type": "code",
      "metadata": {
        "id": "5mAkuoyzxwzj"
      },
      "source": [
        "import numpy as np\n",
        "from matplotlib import pyplot as plt"
      ],
      "execution_count": 1,
      "outputs": []
    },
    {
      "cell_type": "markdown",
      "metadata": {
        "id": "7Rmq6RjGyI_d"
      },
      "source": [
        "(a) Here $p(x)=\\frac 1{\\sqrt{(2\\pi)^d|\\Sigma|}}\\exp(-\\frac 12(x-\\mu)^T\\Sigma^{-1}(x-\\mu))\\\\=\\frac 1{\\sqrt{(2\\pi)^d|Id_2|}}\\exp(-\\frac 12(x-[0,0])^T|Id_2|^{-1}(x-[0,0]))\\\\=\\frac 1{\\sqrt{(2\\pi)^d}}\\exp(-\\frac {||x||_2}2).$\n",
        "\n",
        "Here $\\mu=[0,0],\\Sigma=Id_2=\\begin{bmatrix}1&0\\\\0&1\\end{bmatrix}$.\n",
        "\n"
      ]
    },
    {
      "cell_type": "code",
      "metadata": {
        "colab": {
          "base_uri": "https://localhost:8080/",
          "height": 265
        },
        "id": "B_WM0GVLySsd",
        "outputId": "50838e32-44d3-4eac-8f9f-2e19757977c2"
      },
      "source": [
        "mean=[0,0]\n",
        "sigma=[[1,0],[0,1]]\n",
        "x,y=np.random.multivariate_normal(mean,sigma,100).T #Transposing it, else I got a 100 times 2 matrix, eek\n",
        "plt.scatter(x,y)\n",
        "plt.show()"
      ],
      "execution_count": 6,
      "outputs": [
        {
          "output_type": "display_data",
          "data": {
            "image/png": "[encoded data removed]",
            "text/plain": [
              "<Figure size 432x288 with 1 Axes>"
            ]
          },
          "metadata": {
            "needs_background": "light"
          }
        }
      ]
    },
    {
      "cell_type": "markdown",
      "metadata": {
        "id": "Q8yZpEcI2bDU"
      },
      "source": [
        "(b) What about $\\mu=[-1,1]$?"
      ]
    },
    {
      "cell_type": "code",
      "metadata": {
        "colab": {
          "base_uri": "https://localhost:8080/",
          "height": 265
        },
        "id": "91FuYAO32s3V",
        "outputId": "6f901b7f-0d33-4591-bd00-927a1a1407d0"
      },
      "source": [
        "mean=[-1,1]\n",
        "sigma=[[1,0],[0,1]]\n",
        "x,y=np.random.multivariate_normal(mean,sigma,100).T #Transposing it, else I got a 100 times 2 matrix, eek\n",
        "plt.scatter(x,y)\n",
        "plt.show()"
      ],
      "execution_count": 7,
      "outputs": [
        {
          "output_type": "display_data",
          "data": {
            "image/png": "[encoded data removed]",
            "text/plain": [
              "<Figure size 432x288 with 1 Axes>"
            ]
          },
          "metadata": {
            "needs_background": "light"
          }
        }
      ]
    },
    {
      "cell_type": "markdown",
      "metadata": {
        "id": "OQgGBaMh21-t"
      },
      "source": [
        "Remarks: The bulk of the central values of the distribution, so to speak, shifts from around the origin to around [-1,1]. No surprise, given that it is the normal distribution which tends to peak at its mean."
      ]
    },
    {
      "cell_type": "markdown",
      "metadata": {
        "id": "VvvLu7Af3NbQ"
      },
      "source": [
        "(c) Here $\\Sigma=\\begin{bmatrix}2&0\\\\0&2\\end{bmatrix}$."
      ]
    },
    {
      "cell_type": "code",
      "metadata": {
        "colab": {
          "base_uri": "https://localhost:8080/",
          "height": 265
        },
        "id": "zEibEGHb3iqB",
        "outputId": "26ae34fd-460b-4435-e171-e10910935097"
      },
      "source": [
        "mean=[0,0]\n",
        "sigma=[[2,0],[0,2]]\n",
        "x,y=np.random.multivariate_normal(mean,sigma,100).T #Transposing it, else I got a 100 times 2 matrix, eek\n",
        "plt.scatter(x,y)\n",
        "plt.show()"
      ],
      "execution_count": 8,
      "outputs": [
        {
          "output_type": "display_data",
          "data": {
            "image/png": "[encoded data removed]",
            "text/plain": [
              "<Figure size 432x288 with 1 Axes>"
            ]
          },
          "metadata": {
            "needs_background": "light"
          }
        }
      ]
    },
    {
      "cell_type": "markdown",
      "metadata": {
        "id": "ftghQnDl3ngN"
      },
      "source": [
        "Remarks: The data points seem more \"dispersed\" post doubling of the variance for each component, ergo doubling the covariance matrix."
      ]
    },
    {
      "cell_type": "markdown",
      "metadata": {
        "id": "xXg6Cvja3_pD"
      },
      "source": [
        "(d) Here $\\Sigma=\\begin{bmatrix}1&0.5\\\\0.5&1\\end{bmatrix}$."
      ]
    },
    {
      "cell_type": "code",
      "metadata": {
        "colab": {
          "base_uri": "https://localhost:8080/",
          "height": 265
        },
        "id": "J7a8HSrr4G68",
        "outputId": "606d69c2-30fa-4829-ecc2-9d5c80fea1ee"
      },
      "source": [
        "mean=[0,0]\n",
        "sigma=[[1,0.5],[0.5,1]]\n",
        "x,y=np.random.multivariate_normal(mean,sigma,100).T #Transposing it, else I got a 100 times 2 matrix, eek\n",
        "plt.scatter(x,y)\n",
        "plt.show()"
      ],
      "execution_count": 9,
      "outputs": [
        {
          "output_type": "display_data",
          "data": {
            "image/png": "[encoded data removed]",
            "text/plain": [
              "<Figure size 432x288 with 1 Axes>"
            ]
          },
          "metadata": {
            "needs_background": "light"
          }
        }
      ]
    },
    {
      "cell_type": "markdown",
      "metadata": {
        "id": "ofkgM6RF4R-V"
      },
      "source": [
        "Remarks: It looks as if the initial distribution got stretched out along the line $y=x$ here."
      ]
    },
    {
      "cell_type": "markdown",
      "metadata": {
        "id": "FH8rE1xH4gl0"
      },
      "source": [
        "(e) Here $\\Sigma=\\begin{bmatrix}1&-0.5\\\\-0.5&1\\end{bmatrix}$."
      ]
    },
    {
      "cell_type": "code",
      "metadata": {
        "colab": {
          "base_uri": "https://localhost:8080/",
          "height": 265
        },
        "id": "e6T_5MA14tZl",
        "outputId": "e1d8c5f2-5f0b-4dd1-8d46-6ed4c32659a1"
      },
      "source": [
        "mean=[0,0]\n",
        "sigma=[[1,-0.5],[-0.5,1]]\n",
        "x,y=np.random.multivariate_normal(mean,sigma,100).T #Transposing it, else I got a 100 times 2 matrix, eek\n",
        "plt.scatter(x,y)\n",
        "plt.show()"
      ],
      "execution_count": 10,
      "outputs": [
        {
          "output_type": "display_data",
          "data": {
            "image/png": "[encoded data removed]",
            "text/plain": [
              "<Figure size 432x288 with 1 Axes>"
            ]
          },
          "metadata": {
            "needs_background": "light"
          }
        }
      ]
    },
    {
      "cell_type": "markdown",
      "metadata": {
        "id": "EYmMOBSb4_bW"
      },
      "source": [
        "Remarks: Kind of similarly to the last case but with a sign change, the distribution seems to have been \"stretched\" more along the line $y=-x$."
      ]
    },
    {
      "cell_type": "markdown",
      "metadata": {
        "id": "WaWMOgJh5K-m"
      },
      "source": [
        "##C'est Tout!"
      ]
    }
  ]
}